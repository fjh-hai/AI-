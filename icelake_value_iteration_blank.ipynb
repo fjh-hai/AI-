{
 "cells": [
  {
   "cell_type": "code",
   "execution_count": 1,
   "metadata": {},
   "outputs": [],
   "source": [
    "\"\"\"\n",
    "Solving FrozenLake8x8 environment using Value-Itertion.\n",
    "Author : Moustafa Alzantot (malzantot@ucla.edu)\n",
    "\"\"\"\n",
    "import numpy as np\n",
    "import gym\n",
    "from gym import wrappers\n",
    "\n",
    "\n",
    "def run_episode(env, policy, gamma = 1.0, render = False):\n",
    "    \"\"\" Evaluates policy by using it to run an episode and finding its\n",
    "    total reward.\n",
    "    args:\n",
    "    env: gym environment.\n",
    "    policy: the policy to be used.\n",
    "    gamma: discount factor.\n",
    "    render: boolean to turn rendering on/off.\n",
    "    returns:\n",
    "    total reward: real value of the total reward recieved by agent under policy.\n",
    "    \"\"\"\n",
    "    obs = env.reset()\n",
    "    total_reward = 0\n",
    "    step_idx = 0\n",
    "    while True:\n",
    "        if render:\n",
    "            env.render()\n",
    "        obs, reward, done , _ = env.step(int(policy[obs]))\n",
    "        total_reward += (gamma ** step_idx * reward)\n",
    "        step_idx += 1\n",
    "        if done:\n",
    "            break\n",
    "    return total_reward"
   ]
  },
  {
   "cell_type": "code",
   "execution_count": 2,
   "metadata": {},
   "outputs": [],
   "source": [
    "def evaluate_policy(env, policy, gamma = 1.0,  n = 100):\n",
    "    \"\"\" Evaluates a policy by running it n times.\n",
    "    returns:\n",
    "    average total reward\n",
    "    \"\"\"\n",
    "    scores = [\n",
    "            run_episode(env, policy, gamma = gamma, render = False)\n",
    "            for _ in range(n)]\n",
    "    return np.mean(scores)"
   ]
  },
  {
   "cell_type": "code",
   "execution_count": 3,
   "metadata": {},
   "outputs": [],
   "source": [
    "#策略选取\n",
    "def extract_policy(v, gamma = 1.0):\n",
    "    \"\"\" Extract the policy given a value-function \"\"\"\n",
    "    policy = np.zeros(env.nS)  # 初始化存储策略的数组\n",
    "    for s in range(env.nS):   # 对每个状态构建Q表，并在该状态下对每个行为计算Q值，\n",
    "        q_sa = np.zeros(env.action_space.n)   # 初始化Q表\n",
    "        for a in range(env.action_space.n):   # 对每个动作计算\n",
    "            for next_sr in env.P[s][a]:\n",
    "                # next_sr is a tuple of (probability, next state, reward, done)\n",
    "                p, s_, r, _ = next_sr\n",
    "                q_sa[a] += [sum(p * (r + gamma * v[s_]) for p, s_, r, _ in env.P[s][a])]#根据ppt RL2-1 4页的Bellman方程的第二个方法，计算q_sa  更新Q表，即更新动作对应的Q值（4个动作分别由0-3表示）\n",
    "        policy[s] = np.argmax(q_sa)         #贪婪式的更新policy ppt RL2-1 21页\n",
    "    return policy"
   ]
  },
  {
   "cell_type": "code",
   "execution_count": 4,
   "metadata": {},
   "outputs": [],
   "source": [
    "#值迭代\n",
    "def value_iteration(env, gamma = 1.0):\n",
    "    \"\"\" Value-iteration algorithm \"\"\"\n",
    "    v = np.zeros(env.nS)  # initialize value-function初始化状态值表（V表）\n",
    "    max_iterations = 100000  # 迭代次数\n",
    "    eps = 1e-20   # 收敛判断阈值\n",
    "    for i in range(max_iterations):   # 开始迭代\n",
    "        prev_v = np.copy(v)      # 初始化更新后的V表（旧表复制过来）\n",
    "        # 计算每个状态下所有行为的next_state_rewards,并更新状态动作值表（Q表），最后取最大Q值更新V表\n",
    "        for s in range(env.nS):    # 遍历每个状态\n",
    "            for a in range(env.nA):   # 初始化存储下一个状态的奖励的列表\n",
    "                q_sa = [sum(p * (r + gamma * v[s_]) for p, s_, r, _ in env.P[s][a])] #根据ppt RL2-1 28页的方法，计算v\n",
    "                v[s] = max(q_sa) \n",
    "        if (np.sum(np.fabs(prev_v - v)) <= eps):\n",
    "            print ('Value-iteration converged at iteration# %d.' %(i+1))\n",
    "            break\n",
    "    return v"
   ]
  },
  {
   "cell_type": "code",
   "execution_count": 5,
   "metadata": {},
   "outputs": [
    {
     "name": "stdout",
     "output_type": "stream",
     "text": [
      "Value-iteration converged at iteration# 15172.\n",
      "Policy average score =  0.63\n"
     ]
    }
   ],
   "source": [
    "if __name__ == '__main__':\n",
    "    env_name  = 'FrozenLake8x8-v0'\n",
    "    gamma = 1.0\n",
    "    env = gym.make(env_name)\n",
    "    optimal_v = value_iteration(env, gamma = 1.0)   #使用value迭代法得到最优的v值    最优值函数\n",
    "    policy = extract_policy(optimal_v, gamma = 1.0)    #根据最好的v值，获取最优policy     最优质策略\n",
    "    policy_score = evaluate_policy(env, policy, gamma, n=100)\n",
    "    print('Policy average score = ', policy_score)"
   ]
  }
 ],
 "metadata": {
  "kernelspec": {
   "display_name": "Python 3",
   "language": "python",
   "name": "python3"
  },
  "language_info": {
   "codemirror_mode": {
    "name": "ipython",
    "version": 3
   },
   "file_extension": ".py",
   "mimetype": "text/x-python",
   "name": "python",
   "nbconvert_exporter": "python",
   "pygments_lexer": "ipython3",
   "version": "3.7.0"
  }
 },
 "nbformat": 4,
 "nbformat_minor": 2
}
