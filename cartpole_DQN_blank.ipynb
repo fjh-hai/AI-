{
 "cells": [
  {
   "cell_type": "markdown",
   "metadata": {},
   "source": [
    "pip install keras-rl"
   ]
  },
  {
   "cell_type": "code",
   "execution_count": 1,
   "metadata": {},
   "outputs": [
    {
     "name": "stderr",
     "output_type": "stream",
     "text": [
      "Using TensorFlow backend.\n"
     ]
    }
   ],
   "source": [
    "import numpy as np\n",
    "import gym\n",
    "\n",
    "from keras.models import Sequential\n",
    "from keras.layers import Dense, Activation, Flatten\n",
    "from keras.optimizers import Adam\n",
    "\n",
    "from rl.agents.dqn import DQNAgent\n",
    "from rl.policy import EpsGreedyQPolicy\n",
    "from rl.memory import SequentialMemory\n",
    "from keras.layers import Dense, Dropout, Flatten, Conv2D, MaxPool2D"
   ]
  },
  {
   "cell_type": "code",
   "execution_count": 2,
   "metadata": {},
   "outputs": [],
   "source": [
    "ENV_NAME = 'CartPole-v0'\n",
    "\n",
    "# Get the environment and extract the number of actions available in the Cartpole problem\n",
    "env = gym.make(ENV_NAME)\n",
    "np.random.seed(123)\n",
    "env.seed(123)\n",
    "nb_actions = env.action_space.n"
   ]
  },
  {
   "cell_type": "code",
   "execution_count": 3,
   "metadata": {},
   "outputs": [
    {
     "name": "stdout",
     "output_type": "stream",
     "text": [
      "WARNING:tensorflow:From D:\\Anacaonda\\lib\\site-packages\\tensorflow\\python\\framework\\op_def_library.py:263: colocate_with (from tensorflow.python.framework.ops) is deprecated and will be removed in a future version.\n",
      "Instructions for updating:\n",
      "Colocations handled automatically by placer.\n",
      "WARNING:tensorflow:From D:\\Anacaonda\\lib\\site-packages\\keras\\backend\\tensorflow_backend.py:3445: calling dropout (from tensorflow.python.ops.nn_ops) with keep_prob is deprecated and will be removed in a future version.\n",
      "Instructions for updating:\n",
      "Please use `rate` instead of `keep_prob`. Rate should be set to `rate = 1 - keep_prob`.\n",
      "_________________________________________________________________\n",
      "Layer (type)                 Output Shape              Param #   \n",
      "=================================================================\n",
      "flatten_1 (Flatten)          (None, 4)                 0         \n",
      "_________________________________________________________________\n",
      "dense_1 (Dense)              (None, 16)                80        \n",
      "_________________________________________________________________\n",
      "dropout_1 (Dropout)          (None, 16)                0         \n",
      "_________________________________________________________________\n",
      "activation_1 (Activation)    (None, 16)                0         \n",
      "_________________________________________________________________\n",
      "dense_2 (Dense)              (None, 2)                 34        \n",
      "=================================================================\n",
      "Total params: 114\n",
      "Trainable params: 114\n",
      "Non-trainable params: 0\n",
      "_________________________________________________________________\n",
      "None\n"
     ]
    }
   ],
   "source": [
    "model = Sequential()\n",
    "model.add(Flatten(input_shape=(1,) + env.observation_space.shape))\n",
    "model.add(Dense(16))             #试用不同的神经网络模型和激活函数\n",
    "model.add(Dropout(0.2))\n",
    "model.add(Activation('relu'))\n",
    "model.add(Dense(nb_actions,activation=\"linear\"))\n",
    "print(model.summary())"
   ]
  },
  {
   "cell_type": "code",
   "execution_count": 4,
   "metadata": {},
   "outputs": [
    {
     "name": "stdout",
     "output_type": "stream",
     "text": [
      "Training for 5000 steps ...\n",
      "    9/5000: episode: 1, duration: 1.495s, episode steps: 9, steps per second: 6, episode reward: 9.000, mean reward: 1.000 [1.000, 1.000], mean action: 1.000 [1.000, 1.000], mean observation: -0.162 [-2.882, 1.749], loss: --, mean_absolute_error: --, mean_q: --\n",
      "WARNING:tensorflow:From D:\\Anacaonda\\lib\\site-packages\\tensorflow\\python\\ops\\math_ops.py:3066: to_int32 (from tensorflow.python.ops.math_ops) is deprecated and will be removed in a future version.\n",
      "Instructions for updating:\n",
      "Use tf.cast instead.\n"
     ]
    },
    {
     "name": "stderr",
     "output_type": "stream",
     "text": [
      "D:\\Anacaonda\\lib\\site-packages\\rl\\memory.py:39: UserWarning: Not enough entries to sample without replacement. Consider increasing your warm-up phase to avoid oversampling!\n",
      "  warnings.warn('Not enough entries to sample without replacement. Consider increasing your warm-up phase to avoid oversampling!')\n"
     ]
    },
    {
     "name": "stdout",
     "output_type": "stream",
     "text": [
      "   20/5000: episode: 2, duration: 0.543s, episode steps: 11, steps per second: 20, episode reward: 11.000, mean reward: 1.000 [1.000, 1.000], mean action: 1.000 [1.000, 1.000], mean observation: -0.111 [-3.316, 2.196], loss: 0.583898, mean_absolute_error: 0.640469, mean_q: 0.659885\n",
      "   29/5000: episode: 3, duration: 0.200s, episode steps: 9, steps per second: 45, episode reward: 9.000, mean reward: 1.000 [1.000, 1.000], mean action: 0.889 [0.000, 1.000], mean observation: -0.111 [-2.226, 1.423], loss: 0.471900, mean_absolute_error: 0.607929, mean_q: 0.846932"
     ]
    },
    {
     "name": "stderr",
     "output_type": "stream",
     "text": [
      "D:\\Anacaonda\\lib\\site-packages\\rl\\memory.py:39: UserWarning: Not enough entries to sample without replacement. Consider increasing your warm-up phase to avoid oversampling!\n",
      "  warnings.warn('Not enough entries to sample without replacement. Consider increasing your warm-up phase to avoid oversampling!')\n"
     ]
    },
    {
     "name": "stdout",
     "output_type": "stream",
     "text": [
      "\n",
      "   39/5000: episode: 4, duration: 0.167s, episode steps: 10, steps per second: 60, episode reward: 10.000, mean reward: 1.000 [1.000, 1.000], mean action: 0.900 [0.000, 1.000], mean observation: -0.152 [-2.770, 1.738], loss: 0.418853, mean_absolute_error: 0.587467, mean_q: 0.919964\n"
     ]
    },
    {
     "name": "stderr",
     "output_type": "stream",
     "text": [
      "D:\\Anacaonda\\lib\\site-packages\\rl\\memory.py:39: UserWarning: Not enough entries to sample without replacement. Consider increasing your warm-up phase to avoid oversampling!\n",
      "  warnings.warn('Not enough entries to sample without replacement. Consider increasing your warm-up phase to avoid oversampling!')\n"
     ]
    },
    {
     "name": "stdout",
     "output_type": "stream",
     "text": [
      "   47/5000: episode: 5, duration: 0.133s, episode steps: 8, steps per second: 60, episode reward: 8.000, mean reward: 1.000 [1.000, 1.000], mean action: 1.000 [1.000, 1.000], mean observation: -0.138 [-2.563, 1.604], loss: 0.455315, mean_absolute_error: 0.644158, mean_q: 1.144103\n",
      "   56/5000: episode: 6, duration: 0.154s, episode steps: 9, steps per second: 59, episode reward: 9.000, mean reward: 1.000 [1.000, 1.000], mean action: 1.000 [1.000, 1.000], mean observation: -0.124 [-2.762, 1.768], loss: 0.393256, mean_absolute_error: 0.609623, mean_q: 1.247866\n",
      "   65/5000: episode: 7, duration: 0.164s, episode steps: 9, steps per second: 55, episode reward: 9.000, mean reward: 1.000 [1.000, 1.000], mean action: 1.000 [1.000, 1.000], mean observation: -0.139 [-2.798, 1.804], loss: 0.415989, mean_absolute_error: 0.624854, mean_q: 1.288174\n",
      "   74/5000: episode: 8, duration: 0.148s, episode steps: 9, steps per second: 61, episode reward: 9.000, mean reward: 1.000 [1.000, 1.000], mean action: 1.000 [1.000, 1.000], mean observation: -0.138 [-2.817, 1.757], loss: 0.374602, mean_absolute_error: 0.618159, mean_q: 1.439681\n",
      "   83/5000: episode: 9, duration: 0.151s, episode steps: 9, steps per second: 60, episode reward: 9.000, mean reward: 1.000 [1.000, 1.000], mean action: 1.000 [1.000, 1.000], mean observation: -0.118 [-2.741, 1.805], loss: 0.451823, mean_absolute_error: 0.684243, mean_q: 1.485851\n",
      "   94/5000: episode: 10, duration: 0.182s, episode steps: 11, steps per second: 60, episode reward: 11.000, mean reward: 1.000 [1.000, 1.000], mean action: 0.909 [0.000, 1.000], mean observation: -0.124 [-2.719, 1.743], loss: 0.402086, mean_absolute_error: 0.674977, mean_q: 1.461355\n",
      "  103/5000: episode: 11, duration: 0.149s, episode steps: 9, steps per second: 60, episode reward: 9.000, mean reward: 1.000 [1.000, 1.000], mean action: 1.000 [1.000, 1.000], mean observation: -0.143 [-2.802, 1.734], loss: 0.443145, mean_absolute_error: 0.658408, mean_q: 1.495021\n",
      "  112/5000: episode: 12, duration: 0.150s, episode steps: 9, steps per second: 60, episode reward: 9.000, mean reward: 1.000 [1.000, 1.000], mean action: 1.000 [1.000, 1.000], mean observation: -0.136 [-2.795, 1.802], loss: 0.462510, mean_absolute_error: 0.696806, mean_q: 1.639085\n",
      "  121/5000: episode: 13, duration: 0.149s, episode steps: 9, steps per second: 61, episode reward: 9.000, mean reward: 1.000 [1.000, 1.000], mean action: 1.000 [1.000, 1.000], mean observation: -0.144 [-2.881, 1.804], loss: 0.389118, mean_absolute_error: 0.708750, mean_q: 1.685171\n",
      "  130/5000: episode: 14, duration: 0.150s, episode steps: 9, steps per second: 60, episode reward: 9.000, mean reward: 1.000 [1.000, 1.000], mean action: 1.000 [1.000, 1.000], mean observation: -0.142 [-2.812, 1.778], loss: 0.490119, mean_absolute_error: 0.764827, mean_q: 1.694795\n",
      "  140/5000: episode: 15, duration: 0.166s, episode steps: 10, steps per second: 60, episode reward: 10.000, mean reward: 1.000 [1.000, 1.000], mean action: 1.000 [1.000, 1.000], mean observation: -0.157 [-3.069, 1.948], loss: 0.438325, mean_absolute_error: 0.750556, mean_q: 1.799266\n",
      "  150/5000: episode: 16, duration: 0.167s, episode steps: 10, steps per second: 60, episode reward: 10.000, mean reward: 1.000 [1.000, 1.000], mean action: 1.000 [1.000, 1.000], mean observation: -0.132 [-3.016, 1.962], loss: 0.554616, mean_absolute_error: 0.804066, mean_q: 1.912845\n",
      "  159/5000: episode: 17, duration: 0.151s, episode steps: 9, steps per second: 60, episode reward: 9.000, mean reward: 1.000 [1.000, 1.000], mean action: 1.000 [1.000, 1.000], mean observation: -0.167 [-2.873, 1.780], loss: 0.558270, mean_absolute_error: 0.801681, mean_q: 1.937391\n",
      "  168/5000: episode: 18, duration: 0.148s, episode steps: 9, steps per second: 61, episode reward: 9.000, mean reward: 1.000 [1.000, 1.000], mean action: 1.000 [1.000, 1.000], mean observation: -0.152 [-2.835, 1.751], loss: 0.545617, mean_absolute_error: 0.815252, mean_q: 1.978343\n",
      "  179/5000: episode: 19, duration: 0.184s, episode steps: 11, steps per second: 60, episode reward: 11.000, mean reward: 1.000 [1.000, 1.000], mean action: 0.909 [0.000, 1.000], mean observation: -0.092 [-2.774, 1.785], loss: 0.569948, mean_absolute_error: 0.826712, mean_q: 1.918235\n",
      "  189/5000: episode: 20, duration: 0.166s, episode steps: 10, steps per second: 60, episode reward: 10.000, mean reward: 1.000 [1.000, 1.000], mean action: 1.000 [1.000, 1.000], mean observation: -0.141 [-3.091, 1.961], loss: 0.559311, mean_absolute_error: 0.815967, mean_q: 2.025185\n",
      "  199/5000: episode: 21, duration: 0.166s, episode steps: 10, steps per second: 60, episode reward: 10.000, mean reward: 1.000 [1.000, 1.000], mean action: 1.000 [1.000, 1.000], mean observation: -0.105 [-2.979, 1.974], loss: 0.540712, mean_absolute_error: 0.859318, mean_q: 2.144113\n",
      "  208/5000: episode: 22, duration: 0.149s, episode steps: 9, steps per second: 60, episode reward: 9.000, mean reward: 1.000 [1.000, 1.000], mean action: 1.000 [1.000, 1.000], mean observation: -0.133 [-2.743, 1.748], loss: 0.656763, mean_absolute_error: 0.896990, mean_q: 2.268328\n",
      "  219/5000: episode: 23, duration: 0.183s, episode steps: 11, steps per second: 60, episode reward: 11.000, mean reward: 1.000 [1.000, 1.000], mean action: 0.909 [0.000, 1.000], mean observation: -0.114 [-2.741, 1.796], loss: 0.590823, mean_absolute_error: 0.880393, mean_q: 2.220459\n",
      "  229/5000: episode: 24, duration: 0.166s, episode steps: 10, steps per second: 60, episode reward: 10.000, mean reward: 1.000 [1.000, 1.000], mean action: 1.000 [1.000, 1.000], mean observation: -0.136 [-3.099, 1.970], loss: 0.811501, mean_absolute_error: 0.984610, mean_q: 2.205050\n",
      "  238/5000: episode: 25, duration: 0.149s, episode steps: 9, steps per second: 60, episode reward: 9.000, mean reward: 1.000 [1.000, 1.000], mean action: 1.000 [1.000, 1.000], mean observation: -0.173 [-2.861, 1.748], loss: 0.654813, mean_absolute_error: 0.962531, mean_q: 2.275812\n",
      "  248/5000: episode: 26, duration: 0.166s, episode steps: 10, steps per second: 60, episode reward: 10.000, mean reward: 1.000 [1.000, 1.000], mean action: 1.000 [1.000, 1.000], mean observation: -0.130 [-2.984, 1.969], loss: 0.628152, mean_absolute_error: 0.951911, mean_q: 2.340309\n",
      "  257/5000: episode: 27, duration: 0.150s, episode steps: 9, steps per second: 60, episode reward: 9.000, mean reward: 1.000 [1.000, 1.000], mean action: 1.000 [1.000, 1.000], mean observation: -0.175 [-2.889, 1.752], loss: 0.654069, mean_absolute_error: 0.991524, mean_q: 2.411606\n",
      "  267/5000: episode: 28, duration: 0.165s, episode steps: 10, steps per second: 60, episode reward: 10.000, mean reward: 1.000 [1.000, 1.000], mean action: 1.000 [1.000, 1.000], mean observation: -0.156 [-3.026, 1.906], loss: 0.656327, mean_absolute_error: 0.997814, mean_q: 2.508317\n",
      "  276/5000: episode: 29, duration: 0.150s, episode steps: 9, steps per second: 60, episode reward: 9.000, mean reward: 1.000 [1.000, 1.000], mean action: 1.000 [1.000, 1.000], mean observation: -0.120 [-2.791, 1.807], loss: 0.704331, mean_absolute_error: 1.020503, mean_q: 2.451259\n",
      "  285/5000: episode: 30, duration: 0.149s, episode steps: 9, steps per second: 60, episode reward: 9.000, mean reward: 1.000 [1.000, 1.000], mean action: 1.000 [1.000, 1.000], mean observation: -0.131 [-2.760, 1.804], loss: 0.790101, mean_absolute_error: 1.067976, mean_q: 2.604164\n",
      "  293/5000: episode: 31, duration: 0.134s, episode steps: 8, steps per second: 60, episode reward: 8.000, mean reward: 1.000 [1.000, 1.000], mean action: 1.000 [1.000, 1.000], mean observation: -0.147 [-2.506, 1.535], loss: 0.706251, mean_absolute_error: 1.004970, mean_q: 2.655025\n",
      "  306/5000: episode: 32, duration: 0.216s, episode steps: 13, steps per second: 60, episode reward: 13.000, mean reward: 1.000 [1.000, 1.000], mean action: 0.846 [0.000, 1.000], mean observation: -0.119 [-2.756, 1.716], loss: 0.624811, mean_absolute_error: 1.007611, mean_q: 2.648662\n",
      "  316/5000: episode: 33, duration: 0.166s, episode steps: 10, steps per second: 60, episode reward: 10.000, mean reward: 1.000 [1.000, 1.000], mean action: 0.900 [0.000, 1.000], mean observation: -0.130 [-2.551, 1.590], loss: 0.734849, mean_absolute_error: 1.046551, mean_q: 2.776438\n"
     ]
    },
    {
     "name": "stdout",
     "output_type": "stream",
     "text": [
      "  326/5000: episode: 34, duration: 0.166s, episode steps: 10, steps per second: 60, episode reward: 10.000, mean reward: 1.000 [1.000, 1.000], mean action: 1.000 [1.000, 1.000], mean observation: -0.138 [-3.067, 2.005], loss: 0.735744, mean_absolute_error: 1.057123, mean_q: 2.766982\n",
      "  337/5000: episode: 35, duration: 0.183s, episode steps: 11, steps per second: 60, episode reward: 11.000, mean reward: 1.000 [1.000, 1.000], mean action: 0.909 [0.000, 1.000], mean observation: -0.134 [-2.740, 1.737], loss: 0.703948, mean_absolute_error: 1.018812, mean_q: 2.842488\n",
      "  346/5000: episode: 36, duration: 0.149s, episode steps: 9, steps per second: 60, episode reward: 9.000, mean reward: 1.000 [1.000, 1.000], mean action: 1.000 [1.000, 1.000], mean observation: -0.159 [-2.825, 1.740], loss: 0.645382, mean_absolute_error: 1.067219, mean_q: 2.903301\n",
      "  355/5000: episode: 37, duration: 0.150s, episode steps: 9, steps per second: 60, episode reward: 9.000, mean reward: 1.000 [1.000, 1.000], mean action: 0.889 [0.000, 1.000], mean observation: -0.135 [-2.291, 1.390], loss: 0.721201, mean_absolute_error: 1.075667, mean_q: 2.977578\n",
      "  365/5000: episode: 38, duration: 0.166s, episode steps: 10, steps per second: 60, episode reward: 10.000, mean reward: 1.000 [1.000, 1.000], mean action: 1.000 [1.000, 1.000], mean observation: -0.131 [-3.004, 1.973], loss: 0.645531, mean_absolute_error: 1.133172, mean_q: 3.001314\n",
      "  373/5000: episode: 39, duration: 0.133s, episode steps: 8, steps per second: 60, episode reward: 8.000, mean reward: 1.000 [1.000, 1.000], mean action: 1.000 [1.000, 1.000], mean observation: -0.138 [-2.490, 1.562], loss: 0.738766, mean_absolute_error: 1.175314, mean_q: 3.102112\n",
      "  385/5000: episode: 40, duration: 0.199s, episode steps: 12, steps per second: 60, episode reward: 12.000, mean reward: 1.000 [1.000, 1.000], mean action: 0.917 [0.000, 1.000], mean observation: -0.125 [-3.069, 1.942], loss: 0.818051, mean_absolute_error: 1.280062, mean_q: 3.077803\n",
      "  396/5000: episode: 41, duration: 0.183s, episode steps: 11, steps per second: 60, episode reward: 11.000, mean reward: 1.000 [1.000, 1.000], mean action: 1.000 [1.000, 1.000], mean observation: -0.121 [-3.302, 2.151], loss: 0.734877, mean_absolute_error: 1.331098, mean_q: 3.066021\n",
      "  407/5000: episode: 42, duration: 0.183s, episode steps: 11, steps per second: 60, episode reward: 11.000, mean reward: 1.000 [1.000, 1.000], mean action: 0.909 [0.000, 1.000], mean observation: -0.149 [-2.835, 1.714], loss: 0.669958, mean_absolute_error: 1.293408, mean_q: 3.009997\n",
      "  417/5000: episode: 43, duration: 0.166s, episode steps: 10, steps per second: 60, episode reward: 10.000, mean reward: 1.000 [1.000, 1.000], mean action: 0.900 [0.000, 1.000], mean observation: -0.095 [-2.608, 1.794], loss: 0.719853, mean_absolute_error: 1.363019, mean_q: 3.126140\n",
      "  426/5000: episode: 44, duration: 0.150s, episode steps: 9, steps per second: 60, episode reward: 9.000, mean reward: 1.000 [1.000, 1.000], mean action: 1.000 [1.000, 1.000], mean observation: -0.135 [-2.830, 1.801], loss: 0.597006, mean_absolute_error: 1.299778, mean_q: 3.173212\n",
      "  439/5000: episode: 45, duration: 0.216s, episode steps: 13, steps per second: 60, episode reward: 13.000, mean reward: 1.000 [1.000, 1.000], mean action: 0.846 [0.000, 1.000], mean observation: -0.078 [-2.742, 1.800], loss: 0.681521, mean_absolute_error: 1.412079, mean_q: 3.281586\n",
      "  449/5000: episode: 46, duration: 0.167s, episode steps: 10, steps per second: 60, episode reward: 10.000, mean reward: 1.000 [1.000, 1.000], mean action: 0.900 [0.000, 1.000], mean observation: -0.102 [-2.652, 1.793], loss: 0.660991, mean_absolute_error: 1.450045, mean_q: 3.390553\n",
      "  459/5000: episode: 47, duration: 0.166s, episode steps: 10, steps per second: 60, episode reward: 10.000, mean reward: 1.000 [1.000, 1.000], mean action: 1.000 [1.000, 1.000], mean observation: -0.130 [-3.112, 1.995], loss: 0.743821, mean_absolute_error: 1.480850, mean_q: 3.375425\n",
      "  469/5000: episode: 48, duration: 0.166s, episode steps: 10, steps per second: 60, episode reward: 10.000, mean reward: 1.000 [1.000, 1.000], mean action: 1.000 [1.000, 1.000], mean observation: -0.170 [-3.107, 1.923], loss: 0.713697, mean_absolute_error: 1.524643, mean_q: 3.419644\n",
      "  479/5000: episode: 49, duration: 0.167s, episode steps: 10, steps per second: 60, episode reward: 10.000, mean reward: 1.000 [1.000, 1.000], mean action: 1.000 [1.000, 1.000], mean observation: -0.151 [-3.103, 1.949], loss: 0.628534, mean_absolute_error: 1.523189, mean_q: 3.484542\n",
      "  489/5000: episode: 50, duration: 0.165s, episode steps: 10, steps per second: 60, episode reward: 10.000, mean reward: 1.000 [1.000, 1.000], mean action: 0.800 [0.000, 1.000], mean observation: -0.152 [-2.256, 1.351], loss: 0.536973, mean_absolute_error: 1.432675, mean_q: 3.536232\n",
      "  498/5000: episode: 51, duration: 0.150s, episode steps: 9, steps per second: 60, episode reward: 9.000, mean reward: 1.000 [1.000, 1.000], mean action: 0.889 [0.000, 1.000], mean observation: -0.133 [-2.216, 1.406], loss: 0.548401, mean_absolute_error: 1.496670, mean_q: 3.632465\n",
      "  506/5000: episode: 52, duration: 0.132s, episode steps: 8, steps per second: 61, episode reward: 8.000, mean reward: 1.000 [1.000, 1.000], mean action: 1.000 [1.000, 1.000], mean observation: -0.150 [-2.537, 1.534], loss: 0.463183, mean_absolute_error: 1.475923, mean_q: 3.659205\n",
      "  514/5000: episode: 53, duration: 0.135s, episode steps: 8, steps per second: 59, episode reward: 8.000, mean reward: 1.000 [1.000, 1.000], mean action: 1.000 [1.000, 1.000], mean observation: -0.142 [-2.526, 1.526], loss: 0.856287, mean_absolute_error: 1.661599, mean_q: 3.692114\n",
      "  524/5000: episode: 54, duration: 0.164s, episode steps: 10, steps per second: 61, episode reward: 10.000, mean reward: 1.000 [1.000, 1.000], mean action: 1.000 [1.000, 1.000], mean observation: -0.160 [-3.135, 1.952], loss: 0.664764, mean_absolute_error: 1.598390, mean_q: 3.648046\n",
      "  534/5000: episode: 55, duration: 0.167s, episode steps: 10, steps per second: 60, episode reward: 10.000, mean reward: 1.000 [1.000, 1.000], mean action: 1.000 [1.000, 1.000], mean observation: -0.149 [-3.083, 1.975], loss: 0.693920, mean_absolute_error: 1.639621, mean_q: 3.651660\n",
      "  543/5000: episode: 56, duration: 0.149s, episode steps: 9, steps per second: 60, episode reward: 9.000, mean reward: 1.000 [1.000, 1.000], mean action: 0.778 [0.000, 1.000], mean observation: -0.154 [-2.157, 1.340], loss: 0.792620, mean_absolute_error: 1.682672, mean_q: 3.736931\n",
      "  553/5000: episode: 57, duration: 0.166s, episode steps: 10, steps per second: 60, episode reward: 10.000, mean reward: 1.000 [1.000, 1.000], mean action: 0.900 [0.000, 1.000], mean observation: -0.141 [-2.513, 1.553], loss: 0.736394, mean_absolute_error: 1.710405, mean_q: 3.720500\n",
      "  564/5000: episode: 58, duration: 0.183s, episode steps: 11, steps per second: 60, episode reward: 11.000, mean reward: 1.000 [1.000, 1.000], mean action: 0.909 [0.000, 1.000], mean observation: -0.112 [-2.774, 1.790], loss: 0.635071, mean_absolute_error: 1.703404, mean_q: 3.791157\n",
      "  574/5000: episode: 59, duration: 0.167s, episode steps: 10, steps per second: 60, episode reward: 10.000, mean reward: 1.000 [1.000, 1.000], mean action: 1.000 [1.000, 1.000], mean observation: -0.134 [-2.966, 1.915], loss: 0.776289, mean_absolute_error: 1.728399, mean_q: 3.838177\n",
      "  583/5000: episode: 60, duration: 0.150s, episode steps: 9, steps per second: 60, episode reward: 9.000, mean reward: 1.000 [1.000, 1.000], mean action: 1.000 [1.000, 1.000], mean observation: -0.146 [-2.807, 1.720], loss: 0.599989, mean_absolute_error: 1.719819, mean_q: 3.895552\n",
      "  595/5000: episode: 61, duration: 0.199s, episode steps: 12, steps per second: 60, episode reward: 12.000, mean reward: 1.000 [1.000, 1.000], mean action: 0.833 [0.000, 1.000], mean observation: -0.128 [-2.579, 1.556], loss: 0.616180, mean_absolute_error: 1.750522, mean_q: 4.005859\n",
      "  604/5000: episode: 62, duration: 0.149s, episode steps: 9, steps per second: 60, episode reward: 9.000, mean reward: 1.000 [1.000, 1.000], mean action: 1.000 [1.000, 1.000], mean observation: -0.159 [-2.818, 1.767], loss: 0.680993, mean_absolute_error: 1.780206, mean_q: 4.018017\n"
     ]
    },
    {
     "name": "stdout",
     "output_type": "stream",
     "text": [
      "  613/5000: episode: 63, duration: 0.149s, episode steps: 9, steps per second: 60, episode reward: 9.000, mean reward: 1.000 [1.000, 1.000], mean action: 0.889 [0.000, 1.000], mean observation: -0.143 [-2.358, 1.416], loss: 0.698736, mean_absolute_error: 1.827471, mean_q: 4.018883\n",
      "  622/5000: episode: 64, duration: 0.150s, episode steps: 9, steps per second: 60, episode reward: 9.000, mean reward: 1.000 [1.000, 1.000], mean action: 0.889 [0.000, 1.000], mean observation: -0.143 [-2.482, 1.607], loss: 0.695523, mean_absolute_error: 1.841189, mean_q: 4.044074\n",
      "  630/5000: episode: 65, duration: 0.133s, episode steps: 8, steps per second: 60, episode reward: 8.000, mean reward: 1.000 [1.000, 1.000], mean action: 1.000 [1.000, 1.000], mean observation: -0.156 [-2.523, 1.552], loss: 0.686945, mean_absolute_error: 1.832919, mean_q: 4.084052\n",
      "  640/5000: episode: 66, duration: 0.166s, episode steps: 10, steps per second: 60, episode reward: 10.000, mean reward: 1.000 [1.000, 1.000], mean action: 0.900 [0.000, 1.000], mean observation: -0.138 [-2.584, 1.586], loss: 0.740735, mean_absolute_error: 1.833927, mean_q: 4.081152\n",
      "  648/5000: episode: 67, duration: 0.132s, episode steps: 8, steps per second: 60, episode reward: 8.000, mean reward: 1.000 [1.000, 1.000], mean action: 1.000 [1.000, 1.000], mean observation: -0.147 [-2.524, 1.562], loss: 0.641743, mean_absolute_error: 1.844077, mean_q: 4.115003\n",
      "  658/5000: episode: 68, duration: 0.166s, episode steps: 10, steps per second: 60, episode reward: 10.000, mean reward: 1.000 [1.000, 1.000], mean action: 0.900 [0.000, 1.000], mean observation: -0.130 [-2.709, 1.780], loss: 0.598138, mean_absolute_error: 1.833979, mean_q: 4.191580\n",
      "  667/5000: episode: 69, duration: 0.150s, episode steps: 9, steps per second: 60, episode reward: 9.000, mean reward: 1.000 [1.000, 1.000], mean action: 0.889 [0.000, 1.000], mean observation: -0.141 [-2.251, 1.386], loss: 0.701104, mean_absolute_error: 1.926483, mean_q: 4.243086\n",
      "  679/5000: episode: 70, duration: 0.200s, episode steps: 12, steps per second: 60, episode reward: 12.000, mean reward: 1.000 [1.000, 1.000], mean action: 0.833 [0.000, 1.000], mean observation: -0.097 [-2.568, 1.584], loss: 0.663339, mean_absolute_error: 1.912055, mean_q: 4.251951\n",
      "  689/5000: episode: 71, duration: 0.166s, episode steps: 10, steps per second: 60, episode reward: 10.000, mean reward: 1.000 [1.000, 1.000], mean action: 0.900 [0.000, 1.000], mean observation: -0.127 [-2.673, 1.713], loss: 0.661533, mean_absolute_error: 1.946081, mean_q: 4.382558\n",
      "  699/5000: episode: 72, duration: 0.166s, episode steps: 10, steps per second: 60, episode reward: 10.000, mean reward: 1.000 [1.000, 1.000], mean action: 0.900 [0.000, 1.000], mean observation: -0.112 [-2.629, 1.787], loss: 0.809409, mean_absolute_error: 1.960208, mean_q: 4.278623\n",
      "  708/5000: episode: 73, duration: 0.150s, episode steps: 9, steps per second: 60, episode reward: 9.000, mean reward: 1.000 [1.000, 1.000], mean action: 0.889 [0.000, 1.000], mean observation: -0.157 [-2.444, 1.521], loss: 0.697962, mean_absolute_error: 1.941211, mean_q: 4.359903\n",
      "  718/5000: episode: 74, duration: 0.167s, episode steps: 10, steps per second: 60, episode reward: 10.000, mean reward: 1.000 [1.000, 1.000], mean action: 0.900 [0.000, 1.000], mean observation: -0.106 [-2.649, 1.792], loss: 0.627642, mean_absolute_error: 1.938683, mean_q: 4.354093\n",
      "  728/5000: episode: 75, duration: 0.166s, episode steps: 10, steps per second: 60, episode reward: 10.000, mean reward: 1.000 [1.000, 1.000], mean action: 0.900 [0.000, 1.000], mean observation: -0.141 [-2.758, 1.781], loss: 0.669405, mean_absolute_error: 1.997813, mean_q: 4.435691\n",
      "  744/5000: episode: 76, duration: 0.267s, episode steps: 16, steps per second: 60, episode reward: 16.000, mean reward: 1.000 [1.000, 1.000], mean action: 0.750 [0.000, 1.000], mean observation: -0.057 [-2.488, 1.609], loss: 0.789831, mean_absolute_error: 1.997661, mean_q: 4.437532\n",
      "  752/5000: episode: 77, duration: 0.132s, episode steps: 8, steps per second: 60, episode reward: 8.000, mean reward: 1.000 [1.000, 1.000], mean action: 1.000 [1.000, 1.000], mean observation: -0.149 [-2.563, 1.591], loss: 0.633498, mean_absolute_error: 1.964003, mean_q: 4.457660\n",
      "  762/5000: episode: 78, duration: 0.166s, episode steps: 10, steps per second: 60, episode reward: 10.000, mean reward: 1.000 [1.000, 1.000], mean action: 0.900 [0.000, 1.000], mean observation: -0.114 [-2.679, 1.799], loss: 0.694610, mean_absolute_error: 2.026972, mean_q: 4.483308\n",
      "  773/5000: episode: 79, duration: 0.184s, episode steps: 11, steps per second: 60, episode reward: 11.000, mean reward: 1.000 [1.000, 1.000], mean action: 0.818 [0.000, 1.000], mean observation: -0.116 [-2.466, 1.600], loss: 0.638277, mean_absolute_error: 2.030814, mean_q: 4.555658\n",
      "  783/5000: episode: 80, duration: 0.167s, episode steps: 10, steps per second: 60, episode reward: 10.000, mean reward: 1.000 [1.000, 1.000], mean action: 0.900 [0.000, 1.000], mean observation: -0.134 [-2.546, 1.610], loss: 0.695921, mean_absolute_error: 2.063681, mean_q: 4.542507\n",
      "  792/5000: episode: 81, duration: 0.156s, episode steps: 9, steps per second: 58, episode reward: 9.000, mean reward: 1.000 [1.000, 1.000], mean action: 1.000 [1.000, 1.000], mean observation: -0.127 [-2.750, 1.773], loss: 0.581131, mean_absolute_error: 2.018753, mean_q: 4.698405\n",
      "  802/5000: episode: 82, duration: 0.158s, episode steps: 10, steps per second: 63, episode reward: 10.000, mean reward: 1.000 [1.000, 1.000], mean action: 0.800 [0.000, 1.000], mean observation: -0.123 [-2.006, 1.222], loss: 0.782057, mean_absolute_error: 2.106390, mean_q: 4.622405\n",
      "  811/5000: episode: 83, duration: 0.149s, episode steps: 9, steps per second: 60, episode reward: 9.000, mean reward: 1.000 [1.000, 1.000], mean action: 0.889 [0.000, 1.000], mean observation: -0.132 [-2.216, 1.349], loss: 0.717943, mean_absolute_error: 2.102826, mean_q: 4.688664\n",
      "  820/5000: episode: 84, duration: 0.150s, episode steps: 9, steps per second: 60, episode reward: 9.000, mean reward: 1.000 [1.000, 1.000], mean action: 0.889 [0.000, 1.000], mean observation: -0.130 [-2.457, 1.609], loss: 0.674042, mean_absolute_error: 2.128550, mean_q: 4.646821\n",
      "  832/5000: episode: 85, duration: 0.201s, episode steps: 12, steps per second: 60, episode reward: 12.000, mean reward: 1.000 [1.000, 1.000], mean action: 0.750 [0.000, 1.000], mean observation: -0.107 [-2.409, 1.553], loss: 0.666641, mean_absolute_error: 2.146917, mean_q: 4.603206\n",
      "  842/5000: episode: 86, duration: 0.165s, episode steps: 10, steps per second: 61, episode reward: 10.000, mean reward: 1.000 [1.000, 1.000], mean action: 0.800 [0.000, 1.000], mean observation: -0.141 [-2.452, 1.574], loss: 0.777459, mean_absolute_error: 2.229167, mean_q: 4.720475\n",
      "  851/5000: episode: 87, duration: 0.150s, episode steps: 9, steps per second: 60, episode reward: 9.000, mean reward: 1.000 [1.000, 1.000], mean action: 0.889 [0.000, 1.000], mean observation: -0.142 [-2.511, 1.613], loss: 0.613682, mean_absolute_error: 2.129854, mean_q: 4.748790\n",
      "  862/5000: episode: 88, duration: 0.183s, episode steps: 11, steps per second: 60, episode reward: 11.000, mean reward: 1.000 [1.000, 1.000], mean action: 0.818 [0.000, 1.000], mean observation: -0.129 [-2.329, 1.342], loss: 0.677641, mean_absolute_error: 2.167252, mean_q: 4.727209\n",
      "  871/5000: episode: 89, duration: 0.150s, episode steps: 9, steps per second: 60, episode reward: 9.000, mean reward: 1.000 [1.000, 1.000], mean action: 0.889 [0.000, 1.000], mean observation: -0.136 [-2.461, 1.541], loss: 0.674751, mean_absolute_error: 2.175255, mean_q: 4.861340\n",
      "  880/5000: episode: 90, duration: 0.149s, episode steps: 9, steps per second: 60, episode reward: 9.000, mean reward: 1.000 [1.000, 1.000], mean action: 0.889 [0.000, 1.000], mean observation: -0.153 [-2.531, 1.607], loss: 0.632521, mean_absolute_error: 2.168425, mean_q: 4.845850\n",
      "  894/5000: episode: 91, duration: 0.242s, episode steps: 14, steps per second: 58, episode reward: 14.000, mean reward: 1.000 [1.000, 1.000], mean action: 0.714 [0.000, 1.000], mean observation: -0.097 [-2.127, 1.233], loss: 0.789298, mean_absolute_error: 2.226309, mean_q: 4.808733\n",
      "  903/5000: episode: 92, duration: 0.142s, episode steps: 9, steps per second: 63, episode reward: 9.000, mean reward: 1.000 [1.000, 1.000], mean action: 0.889 [0.000, 1.000], mean observation: -0.146 [-2.498, 1.543], loss: 0.782429, mean_absolute_error: 2.228333, mean_q: 4.787858\n"
     ]
    },
    {
     "name": "stdout",
     "output_type": "stream",
     "text": [
      "  913/5000: episode: 93, duration: 0.163s, episode steps: 10, steps per second: 61, episode reward: 10.000, mean reward: 1.000 [1.000, 1.000], mean action: 0.900 [0.000, 1.000], mean observation: -0.139 [-2.584, 1.566], loss: 0.587097, mean_absolute_error: 2.232606, mean_q: 5.033912\n",
      "  922/5000: episode: 94, duration: 0.148s, episode steps: 9, steps per second: 61, episode reward: 9.000, mean reward: 1.000 [1.000, 1.000], mean action: 0.889 [0.000, 1.000], mean observation: -0.147 [-2.460, 1.543], loss: 0.586012, mean_absolute_error: 2.240338, mean_q: 4.916302\n",
      "  933/5000: episode: 95, duration: 0.187s, episode steps: 11, steps per second: 59, episode reward: 11.000, mean reward: 1.000 [1.000, 1.000], mean action: 0.818 [0.000, 1.000], mean observation: -0.104 [-2.586, 1.792], loss: 0.725483, mean_absolute_error: 2.330693, mean_q: 4.930007\n",
      "  943/5000: episode: 96, duration: 0.164s, episode steps: 10, steps per second: 61, episode reward: 10.000, mean reward: 1.000 [1.000, 1.000], mean action: 0.900 [0.000, 1.000], mean observation: -0.118 [-2.542, 1.614], loss: 0.583218, mean_absolute_error: 2.253471, mean_q: 4.914477\n",
      "  951/5000: episode: 97, duration: 0.137s, episode steps: 8, steps per second: 58, episode reward: 8.000, mean reward: 1.000 [1.000, 1.000], mean action: 1.000 [1.000, 1.000], mean observation: -0.148 [-2.509, 1.552], loss: 0.633605, mean_absolute_error: 2.284361, mean_q: 4.945069\n",
      "  962/5000: episode: 98, duration: 0.181s, episode steps: 11, steps per second: 61, episode reward: 11.000, mean reward: 1.000 [1.000, 1.000], mean action: 0.818 [0.000, 1.000], mean observation: -0.116 [-2.378, 1.591], loss: 0.587792, mean_absolute_error: 2.295318, mean_q: 4.995714\n",
      "  972/5000: episode: 99, duration: 0.162s, episode steps: 10, steps per second: 62, episode reward: 10.000, mean reward: 1.000 [1.000, 1.000], mean action: 0.900 [0.000, 1.000], mean observation: -0.137 [-2.698, 1.749], loss: 0.676988, mean_absolute_error: 2.386730, mean_q: 5.151862\n",
      "  981/5000: episode: 100, duration: 0.163s, episode steps: 9, steps per second: 55, episode reward: 9.000, mean reward: 1.000 [1.000, 1.000], mean action: 1.000 [1.000, 1.000], mean observation: -0.182 [-2.887, 1.722], loss: 0.643359, mean_absolute_error: 2.333230, mean_q: 5.036837\n",
      "  990/5000: episode: 101, duration: 0.159s, episode steps: 9, steps per second: 57, episode reward: 9.000, mean reward: 1.000 [1.000, 1.000], mean action: 0.889 [0.000, 1.000], mean observation: -0.162 [-2.526, 1.574], loss: 0.535137, mean_absolute_error: 2.300493, mean_q: 5.064997\n",
      " 1002/5000: episode: 102, duration: 0.196s, episode steps: 12, steps per second: 61, episode reward: 12.000, mean reward: 1.000 [1.000, 1.000], mean action: 0.833 [0.000, 1.000], mean observation: -0.115 [-2.619, 1.559], loss: 0.660904, mean_absolute_error: 2.375228, mean_q: 5.062216\n",
      " 1012/5000: episode: 103, duration: 0.162s, episode steps: 10, steps per second: 62, episode reward: 10.000, mean reward: 1.000 [1.000, 1.000], mean action: 0.800 [0.000, 1.000], mean observation: -0.109 [-2.006, 1.188], loss: 0.633441, mean_absolute_error: 2.342222, mean_q: 4.969834\n",
      " 1022/5000: episode: 104, duration: 0.167s, episode steps: 10, steps per second: 60, episode reward: 10.000, mean reward: 1.000 [1.000, 1.000], mean action: 0.900 [0.000, 1.000], mean observation: -0.132 [-2.678, 1.759], loss: 0.599038, mean_absolute_error: 2.424524, mean_q: 5.159060\n",
      " 1031/5000: episode: 105, duration: 0.148s, episode steps: 9, steps per second: 61, episode reward: 9.000, mean reward: 1.000 [1.000, 1.000], mean action: 0.889 [0.000, 1.000], mean observation: -0.159 [-2.539, 1.550], loss: 0.613823, mean_absolute_error: 2.404994, mean_q: 5.098726\n",
      " 1040/5000: episode: 106, duration: 0.151s, episode steps: 9, steps per second: 60, episode reward: 9.000, mean reward: 1.000 [1.000, 1.000], mean action: 0.889 [0.000, 1.000], mean observation: -0.156 [-2.505, 1.559], loss: 0.692415, mean_absolute_error: 2.434468, mean_q: 5.033308\n",
      " 1049/5000: episode: 107, duration: 0.147s, episode steps: 9, steps per second: 61, episode reward: 9.000, mean reward: 1.000 [1.000, 1.000], mean action: 0.889 [0.000, 1.000], mean observation: -0.127 [-2.456, 1.580], loss: 0.638757, mean_absolute_error: 2.498447, mean_q: 5.144243\n",
      " 1059/5000: episode: 108, duration: 0.167s, episode steps: 10, steps per second: 60, episode reward: 10.000, mean reward: 1.000 [1.000, 1.000], mean action: 0.800 [0.000, 1.000], mean observation: -0.111 [-2.207, 1.415], loss: 0.609830, mean_absolute_error: 2.505543, mean_q: 5.165784\n",
      " 1070/5000: episode: 109, duration: 0.185s, episode steps: 11, steps per second: 59, episode reward: 11.000, mean reward: 1.000 [1.000, 1.000], mean action: 0.818 [0.000, 1.000], mean observation: -0.117 [-2.601, 1.790], loss: 0.578363, mean_absolute_error: 2.547604, mean_q: 5.237518\n",
      " 1080/5000: episode: 110, duration: 0.162s, episode steps: 10, steps per second: 62, episode reward: 10.000, mean reward: 1.000 [1.000, 1.000], mean action: 0.900 [0.000, 1.000], mean observation: -0.143 [-2.523, 1.569], loss: 0.658367, mean_absolute_error: 2.532976, mean_q: 5.118664\n",
      " 1090/5000: episode: 111, duration: 0.168s, episode steps: 10, steps per second: 60, episode reward: 10.000, mean reward: 1.000 [1.000, 1.000], mean action: 0.900 [0.000, 1.000], mean observation: -0.133 [-2.510, 1.556], loss: 0.636795, mean_absolute_error: 2.573140, mean_q: 5.228034\n",
      " 1100/5000: episode: 112, duration: 0.166s, episode steps: 10, steps per second: 60, episode reward: 10.000, mean reward: 1.000 [1.000, 1.000], mean action: 0.800 [0.000, 1.000], mean observation: -0.120 [-2.236, 1.392], loss: 0.659163, mean_absolute_error: 2.552605, mean_q: 5.025527\n",
      " 1110/5000: episode: 113, duration: 0.167s, episode steps: 10, steps per second: 60, episode reward: 10.000, mean reward: 1.000 [1.000, 1.000], mean action: 0.800 [0.000, 1.000], mean observation: -0.117 [-2.422, 1.590], loss: 0.522688, mean_absolute_error: 2.538701, mean_q: 5.142547\n",
      " 1120/5000: episode: 114, duration: 0.167s, episode steps: 10, steps per second: 60, episode reward: 10.000, mean reward: 1.000 [1.000, 1.000], mean action: 0.900 [0.000, 1.000], mean observation: -0.142 [-2.661, 1.723], loss: 0.650880, mean_absolute_error: 2.586015, mean_q: 5.120082\n",
      " 1130/5000: episode: 115, duration: 0.165s, episode steps: 10, steps per second: 60, episode reward: 10.000, mean reward: 1.000 [1.000, 1.000], mean action: 0.800 [0.000, 1.000], mean observation: -0.137 [-2.378, 1.527], loss: 0.583687, mean_absolute_error: 2.582470, mean_q: 5.114815\n",
      " 1142/5000: episode: 116, duration: 0.199s, episode steps: 12, steps per second: 60, episode reward: 12.000, mean reward: 1.000 [1.000, 1.000], mean action: 0.750 [0.000, 1.000], mean observation: -0.107 [-2.375, 1.534], loss: 0.564648, mean_absolute_error: 2.593496, mean_q: 5.177226\n",
      " 1150/5000: episode: 117, duration: 0.133s, episode steps: 8, steps per second: 60, episode reward: 8.000, mean reward: 1.000 [1.000, 1.000], mean action: 0.875 [0.000, 1.000], mean observation: -0.146 [-2.245, 1.381], loss: 0.490911, mean_absolute_error: 2.618840, mean_q: 5.329906\n",
      " 1158/5000: episode: 118, duration: 0.133s, episode steps: 8, steps per second: 60, episode reward: 8.000, mean reward: 1.000 [1.000, 1.000], mean action: 1.000 [1.000, 1.000], mean observation: -0.148 [-2.520, 1.541], loss: 0.552339, mean_absolute_error: 2.522402, mean_q: 5.017790\n",
      " 1166/5000: episode: 119, duration: 0.132s, episode steps: 8, steps per second: 60, episode reward: 8.000, mean reward: 1.000 [1.000, 1.000], mean action: 1.000 [1.000, 1.000], mean observation: -0.160 [-2.576, 1.578], loss: 0.464694, mean_absolute_error: 2.538434, mean_q: 5.137945\n",
      " 1174/5000: episode: 120, duration: 0.133s, episode steps: 8, steps per second: 60, episode reward: 8.000, mean reward: 1.000 [1.000, 1.000], mean action: 1.000 [1.000, 1.000], mean observation: -0.147 [-2.572, 1.612], loss: 0.566969, mean_absolute_error: 2.594573, mean_q: 5.170567\n",
      " 1183/5000: episode: 121, duration: 0.150s, episode steps: 9, steps per second: 60, episode reward: 9.000, mean reward: 1.000 [1.000, 1.000], mean action: 0.889 [0.000, 1.000], mean observation: -0.168 [-2.506, 1.530], loss: 0.605480, mean_absolute_error: 2.677993, mean_q: 5.336353\n"
     ]
    },
    {
     "name": "stdout",
     "output_type": "stream",
     "text": [
      " 1193/5000: episode: 122, duration: 0.168s, episode steps: 10, steps per second: 60, episode reward: 10.000, mean reward: 1.000 [1.000, 1.000], mean action: 0.800 [0.000, 1.000], mean observation: -0.111 [-2.358, 1.549], loss: 0.547462, mean_absolute_error: 2.622486, mean_q: 5.223836\n",
      " 1201/5000: episode: 123, duration: 0.131s, episode steps: 8, steps per second: 61, episode reward: 8.000, mean reward: 1.000 [1.000, 1.000], mean action: 1.000 [1.000, 1.000], mean observation: -0.163 [-2.528, 1.529], loss: 0.575894, mean_absolute_error: 2.691753, mean_q: 5.361913\n",
      " 1212/5000: episode: 124, duration: 0.186s, episode steps: 11, steps per second: 59, episode reward: 11.000, mean reward: 1.000 [1.000, 1.000], mean action: 0.818 [0.000, 1.000], mean observation: -0.129 [-2.622, 1.757], loss: 0.714374, mean_absolute_error: 2.717479, mean_q: 5.299494\n",
      " 1221/5000: episode: 125, duration: 0.146s, episode steps: 9, steps per second: 62, episode reward: 9.000, mean reward: 1.000 [1.000, 1.000], mean action: 0.889 [0.000, 1.000], mean observation: -0.133 [-2.444, 1.560], loss: 0.654924, mean_absolute_error: 2.687488, mean_q: 5.162234\n",
      " 1229/5000: episode: 126, duration: 0.133s, episode steps: 8, steps per second: 60, episode reward: 8.000, mean reward: 1.000 [1.000, 1.000], mean action: 0.875 [0.000, 1.000], mean observation: -0.153 [-2.246, 1.400], loss: 0.579777, mean_absolute_error: 2.689706, mean_q: 5.228008\n",
      " 1237/5000: episode: 127, duration: 0.132s, episode steps: 8, steps per second: 61, episode reward: 8.000, mean reward: 1.000 [1.000, 1.000], mean action: 0.875 [0.000, 1.000], mean observation: -0.134 [-2.230, 1.406], loss: 0.577147, mean_absolute_error: 2.765009, mean_q: 5.311006\n",
      " 1248/5000: episode: 128, duration: 0.183s, episode steps: 11, steps per second: 60, episode reward: 11.000, mean reward: 1.000 [1.000, 1.000], mean action: 0.727 [0.000, 1.000], mean observation: -0.100 [-2.090, 1.414], loss: 0.521075, mean_absolute_error: 2.779741, mean_q: 5.371333\n",
      " 1259/5000: episode: 129, duration: 0.183s, episode steps: 11, steps per second: 60, episode reward: 11.000, mean reward: 1.000 [1.000, 1.000], mean action: 0.818 [0.000, 1.000], mean observation: -0.137 [-2.428, 1.545], loss: 0.559036, mean_absolute_error: 2.796460, mean_q: 5.406683\n",
      " 1269/5000: episode: 130, duration: 0.166s, episode steps: 10, steps per second: 60, episode reward: 10.000, mean reward: 1.000 [1.000, 1.000], mean action: 0.800 [0.000, 1.000], mean observation: -0.115 [-2.353, 1.540], loss: 0.473280, mean_absolute_error: 2.885919, mean_q: 5.622720\n",
      " 1279/5000: episode: 131, duration: 0.167s, episode steps: 10, steps per second: 60, episode reward: 10.000, mean reward: 1.000 [1.000, 1.000], mean action: 0.800 [0.000, 1.000], mean observation: -0.149 [-2.206, 1.353], loss: 0.582989, mean_absolute_error: 2.859910, mean_q: 5.457545\n",
      " 1290/5000: episode: 132, duration: 0.182s, episode steps: 11, steps per second: 60, episode reward: 11.000, mean reward: 1.000 [1.000, 1.000], mean action: 0.727 [0.000, 1.000], mean observation: -0.104 [-2.047, 1.381], loss: 0.528526, mean_absolute_error: 2.805648, mean_q: 5.309926\n",
      " 1301/5000: episode: 133, duration: 0.183s, episode steps: 11, steps per second: 60, episode reward: 11.000, mean reward: 1.000 [1.000, 1.000], mean action: 0.727 [0.000, 1.000], mean observation: -0.115 [-2.067, 1.397], loss: 0.540982, mean_absolute_error: 2.850677, mean_q: 5.369346\n",
      " 1310/5000: episode: 134, duration: 0.148s, episode steps: 9, steps per second: 61, episode reward: 9.000, mean reward: 1.000 [1.000, 1.000], mean action: 0.778 [0.000, 1.000], mean observation: -0.130 [-2.132, 1.391], loss: 0.577397, mean_absolute_error: 2.806345, mean_q: 5.259728\n",
      " 1320/5000: episode: 135, duration: 0.167s, episode steps: 10, steps per second: 60, episode reward: 10.000, mean reward: 1.000 [1.000, 1.000], mean action: 0.800 [0.000, 1.000], mean observation: -0.127 [-2.260, 1.357], loss: 0.525601, mean_absolute_error: 2.845795, mean_q: 5.371665\n",
      " 1330/5000: episode: 136, duration: 0.170s, episode steps: 10, steps per second: 59, episode reward: 10.000, mean reward: 1.000 [1.000, 1.000], mean action: 0.800 [0.000, 1.000], mean observation: -0.137 [-2.398, 1.522], loss: 0.516671, mean_absolute_error: 2.895886, mean_q: 5.473109\n",
      " 1343/5000: episode: 137, duration: 0.217s, episode steps: 13, steps per second: 60, episode reward: 13.000, mean reward: 1.000 [1.000, 1.000], mean action: 0.692 [0.000, 1.000], mean observation: -0.113 [-2.227, 1.375], loss: 0.486690, mean_absolute_error: 2.839716, mean_q: 5.387064\n",
      " 1352/5000: episode: 138, duration: 0.146s, episode steps: 9, steps per second: 62, episode reward: 9.000, mean reward: 1.000 [1.000, 1.000], mean action: 0.778 [0.000, 1.000], mean observation: -0.124 [-2.127, 1.391], loss: 0.453577, mean_absolute_error: 2.873540, mean_q: 5.404721\n",
      " 1362/5000: episode: 139, duration: 0.164s, episode steps: 10, steps per second: 61, episode reward: 10.000, mean reward: 1.000 [1.000, 1.000], mean action: 0.800 [0.000, 1.000], mean observation: -0.130 [-2.138, 1.325], loss: 0.530991, mean_absolute_error: 2.876243, mean_q: 5.376601\n",
      " 1371/5000: episode: 140, duration: 0.151s, episode steps: 9, steps per second: 60, episode reward: 9.000, mean reward: 1.000 [1.000, 1.000], mean action: 0.778 [0.000, 1.000], mean observation: -0.140 [-1.926, 1.181], loss: 0.479152, mean_absolute_error: 2.954454, mean_q: 5.589445\n",
      " 1384/5000: episode: 141, duration: 0.216s, episode steps: 13, steps per second: 60, episode reward: 13.000, mean reward: 1.000 [1.000, 1.000], mean action: 0.692 [0.000, 1.000], mean observation: -0.108 [-1.935, 1.157], loss: 0.556877, mean_absolute_error: 2.907772, mean_q: 5.390373\n",
      " 1394/5000: episode: 142, duration: 0.167s, episode steps: 10, steps per second: 60, episode reward: 10.000, mean reward: 1.000 [1.000, 1.000], mean action: 0.700 [0.000, 1.000], mean observation: -0.132 [-1.957, 1.165], loss: 0.524018, mean_absolute_error: 2.917489, mean_q: 5.362277\n",
      " 1406/5000: episode: 143, duration: 0.198s, episode steps: 12, steps per second: 61, episode reward: 12.000, mean reward: 1.000 [1.000, 1.000], mean action: 0.667 [0.000, 1.000], mean observation: -0.073 [-1.963, 1.409], loss: 0.526453, mean_absolute_error: 2.868638, mean_q: 5.290207\n",
      " 1416/5000: episode: 144, duration: 0.168s, episode steps: 10, steps per second: 59, episode reward: 10.000, mean reward: 1.000 [1.000, 1.000], mean action: 0.700 [0.000, 1.000], mean observation: -0.123 [-2.061, 1.345], loss: 0.531302, mean_absolute_error: 2.905620, mean_q: 5.319443\n",
      " 1427/5000: episode: 145, duration: 0.184s, episode steps: 11, steps per second: 60, episode reward: 11.000, mean reward: 1.000 [1.000, 1.000], mean action: 0.727 [0.000, 1.000], mean observation: -0.108 [-2.076, 1.387], loss: 0.458976, mean_absolute_error: 2.996671, mean_q: 5.600660\n",
      " 1436/5000: episode: 146, duration: 0.153s, episode steps: 9, steps per second: 59, episode reward: 9.000, mean reward: 1.000 [1.000, 1.000], mean action: 0.778 [0.000, 1.000], mean observation: -0.169 [-2.007, 1.159], loss: 0.555122, mean_absolute_error: 3.025041, mean_q: 5.581626\n",
      " 1445/5000: episode: 147, duration: 0.148s, episode steps: 9, steps per second: 61, episode reward: 9.000, mean reward: 1.000 [1.000, 1.000], mean action: 0.778 [0.000, 1.000], mean observation: -0.149 [-2.146, 1.334], loss: 0.482225, mean_absolute_error: 2.911946, mean_q: 5.398636\n",
      " 1457/5000: episode: 148, duration: 0.196s, episode steps: 12, steps per second: 61, episode reward: 12.000, mean reward: 1.000 [1.000, 1.000], mean action: 0.667 [0.000, 1.000], mean observation: -0.096 [-1.788, 1.175], loss: 0.482279, mean_absolute_error: 2.979831, mean_q: 5.476149\n",
      " 1466/5000: episode: 149, duration: 0.151s, episode steps: 9, steps per second: 60, episode reward: 9.000, mean reward: 1.000 [1.000, 1.000], mean action: 0.667 [0.000, 1.000], mean observation: -0.126 [-1.878, 1.179], loss: 0.455159, mean_absolute_error: 3.034357, mean_q: 5.603101\n",
      " 1475/5000: episode: 150, duration: 0.149s, episode steps: 9, steps per second: 60, episode reward: 9.000, mean reward: 1.000 [1.000, 1.000], mean action: 0.778 [0.000, 1.000], mean observation: -0.148 [-2.153, 1.359], loss: 0.517596, mean_absolute_error: 3.013163, mean_q: 5.489757\n",
      " 1485/5000: episode: 151, duration: 0.165s, episode steps: 10, steps per second: 61, episode reward: 10.000, mean reward: 1.000 [1.000, 1.000], mean action: 0.700 [0.000, 1.000], mean observation: -0.125 [-2.129, 1.370], loss: 0.549089, mean_absolute_error: 3.061528, mean_q: 5.597170\n"
     ]
    },
    {
     "name": "stdout",
     "output_type": "stream",
     "text": [
      " 1498/5000: episode: 152, duration: 0.218s, episode steps: 13, steps per second: 60, episode reward: 13.000, mean reward: 1.000 [1.000, 1.000], mean action: 0.692 [0.000, 1.000], mean observation: -0.121 [-1.823, 1.127], loss: 0.460617, mean_absolute_error: 3.026842, mean_q: 5.570987\n",
      " 1508/5000: episode: 153, duration: 0.163s, episode steps: 10, steps per second: 61, episode reward: 10.000, mean reward: 1.000 [1.000, 1.000], mean action: 0.700 [0.000, 1.000], mean observation: -0.115 [-1.830, 1.181], loss: 0.534764, mean_absolute_error: 3.110224, mean_q: 5.641264\n",
      " 1520/5000: episode: 154, duration: 0.202s, episode steps: 12, steps per second: 60, episode reward: 12.000, mean reward: 1.000 [1.000, 1.000], mean action: 0.583 [0.000, 1.000], mean observation: -0.110 [-1.846, 1.150], loss: 0.551166, mean_absolute_error: 3.052565, mean_q: 5.493619\n",
      " 1532/5000: episode: 155, duration: 0.198s, episode steps: 12, steps per second: 61, episode reward: 12.000, mean reward: 1.000 [1.000, 1.000], mean action: 0.583 [0.000, 1.000], mean observation: -0.097 [-1.571, 0.991], loss: 0.479479, mean_absolute_error: 3.043713, mean_q: 5.517340\n",
      " 1542/5000: episode: 156, duration: 0.166s, episode steps: 10, steps per second: 60, episode reward: 10.000, mean reward: 1.000 [1.000, 1.000], mean action: 0.600 [0.000, 1.000], mean observation: -0.119 [-1.500, 0.958], loss: 0.451374, mean_absolute_error: 2.972695, mean_q: 5.359805\n",
      " 1586/5000: episode: 157, duration: 0.738s, episode steps: 44, steps per second: 60, episode reward: 44.000, mean reward: 1.000 [1.000, 1.000], mean action: 0.409 [0.000, 1.000], mean observation: -0.092 [-1.547, 1.619], loss: 0.476313, mean_absolute_error: 3.038368, mean_q: 5.424079\n",
      " 1596/5000: episode: 158, duration: 0.165s, episode steps: 10, steps per second: 61, episode reward: 10.000, mean reward: 1.000 [1.000, 1.000], mean action: 0.100 [0.000, 1.000], mean observation: 0.139 [-1.558, 2.509], loss: 0.463739, mean_absolute_error: 3.249223, mean_q: 5.857750\n",
      " 1604/5000: episode: 159, duration: 0.135s, episode steps: 8, steps per second: 59, episode reward: 8.000, mean reward: 1.000 [1.000, 1.000], mean action: 0.000 [0.000, 0.000], mean observation: 0.153 [-1.538, 2.552], loss: 0.470903, mean_absolute_error: 3.090072, mean_q: 5.557223\n",
      " 1614/5000: episode: 160, duration: 0.162s, episode steps: 10, steps per second: 62, episode reward: 10.000, mean reward: 1.000 [1.000, 1.000], mean action: 0.000 [0.000, 0.000], mean observation: 0.145 [-1.902, 3.025], loss: 0.557515, mean_absolute_error: 3.237478, mean_q: 5.758248\n",
      " 1622/5000: episode: 161, duration: 0.138s, episode steps: 8, steps per second: 58, episode reward: 8.000, mean reward: 1.000 [1.000, 1.000], mean action: 0.000 [0.000, 0.000], mean observation: 0.166 [-1.578, 2.590], loss: 0.421571, mean_absolute_error: 3.227933, mean_q: 5.862040\n",
      " 1631/5000: episode: 162, duration: 0.149s, episode steps: 9, steps per second: 60, episode reward: 9.000, mean reward: 1.000 [1.000, 1.000], mean action: 0.111 [0.000, 1.000], mean observation: 0.166 [-1.354, 2.333], loss: 0.424143, mean_absolute_error: 3.240441, mean_q: 5.878431\n",
      " 1641/5000: episode: 163, duration: 0.164s, episode steps: 10, steps per second: 61, episode reward: 10.000, mean reward: 1.000 [1.000, 1.000], mean action: 0.100 [0.000, 1.000], mean observation: 0.148 [-1.799, 2.760], loss: 1.024428, mean_absolute_error: 3.306036, mean_q: 5.872163\n",
      " 1651/5000: episode: 164, duration: 0.169s, episode steps: 10, steps per second: 59, episode reward: 10.000, mean reward: 1.000 [1.000, 1.000], mean action: 0.300 [0.000, 1.000], mean observation: 0.147 [-0.955, 1.550], loss: 1.167870, mean_absolute_error: 3.403460, mean_q: 6.003681\n",
      " 1661/5000: episode: 165, duration: 0.164s, episode steps: 10, steps per second: 61, episode reward: 10.000, mean reward: 1.000 [1.000, 1.000], mean action: 0.300 [0.000, 1.000], mean observation: 0.109 [-1.200, 1.862], loss: 1.462565, mean_absolute_error: 3.513454, mean_q: 6.149349\n",
      " 1676/5000: episode: 166, duration: 0.249s, episode steps: 15, steps per second: 60, episode reward: 15.000, mean reward: 1.000 [1.000, 1.000], mean action: 0.467 [0.000, 1.000], mean observation: 0.089 [-0.648, 1.200], loss: 1.306224, mean_absolute_error: 3.403108, mean_q: 6.016820\n",
      " 1692/5000: episode: 167, duration: 0.266s, episode steps: 16, steps per second: 60, episode reward: 16.000, mean reward: 1.000 [1.000, 1.000], mean action: 0.500 [0.000, 1.000], mean observation: 0.091 [-0.574, 0.895], loss: 0.746432, mean_absolute_error: 3.375019, mean_q: 6.035849\n",
      " 1705/5000: episode: 168, duration: 0.218s, episode steps: 13, steps per second: 60, episode reward: 13.000, mean reward: 1.000 [1.000, 1.000], mean action: 0.462 [0.000, 1.000], mean observation: 0.113 [-0.934, 1.457], loss: 1.635543, mean_absolute_error: 3.430905, mean_q: 5.967650\n",
      " 1725/5000: episode: 169, duration: 0.333s, episode steps: 20, steps per second: 60, episode reward: 20.000, mean reward: 1.000 [1.000, 1.000], mean action: 0.450 [0.000, 1.000], mean observation: 0.064 [-0.593, 1.026], loss: 1.122484, mean_absolute_error: 3.422431, mean_q: 6.074963\n",
      " 1737/5000: episode: 170, duration: 0.198s, episode steps: 12, steps per second: 61, episode reward: 12.000, mean reward: 1.000 [1.000, 1.000], mean action: 0.417 [0.000, 1.000], mean observation: 0.109 [-0.767, 1.332], loss: 1.280694, mean_absolute_error: 3.594427, mean_q: 6.309951\n",
      " 1750/5000: episode: 171, duration: 0.215s, episode steps: 13, steps per second: 61, episode reward: 13.000, mean reward: 1.000 [1.000, 1.000], mean action: 0.308 [0.000, 1.000], mean observation: 0.099 [-1.023, 1.735], loss: 1.194328, mean_absolute_error: 3.572376, mean_q: 6.321041\n",
      " 1759/5000: episode: 172, duration: 0.153s, episode steps: 9, steps per second: 59, episode reward: 9.000, mean reward: 1.000 [1.000, 1.000], mean action: 0.111 [0.000, 1.000], mean observation: 0.163 [-1.528, 2.491], loss: 1.062941, mean_absolute_error: 3.754001, mean_q: 6.672400\n",
      " 1770/5000: episode: 173, duration: 0.181s, episode steps: 11, steps per second: 61, episode reward: 11.000, mean reward: 1.000 [1.000, 1.000], mean action: 0.182 [0.000, 1.000], mean observation: 0.128 [-1.709, 2.582], loss: 1.842849, mean_absolute_error: 3.748384, mean_q: 6.597795\n",
      " 1779/5000: episode: 174, duration: 0.150s, episode steps: 9, steps per second: 60, episode reward: 9.000, mean reward: 1.000 [1.000, 1.000], mean action: 0.111 [0.000, 1.000], mean observation: 0.125 [-1.425, 2.290], loss: 1.399325, mean_absolute_error: 3.583563, mean_q: 6.349156\n",
      " 1787/5000: episode: 175, duration: 0.134s, episode steps: 8, steps per second: 60, episode reward: 8.000, mean reward: 1.000 [1.000, 1.000], mean action: 0.000 [0.000, 0.000], mean observation: 0.149 [-1.543, 2.560], loss: 1.108878, mean_absolute_error: 3.653930, mean_q: 6.428622\n",
      " 1797/5000: episode: 176, duration: 0.166s, episode steps: 10, steps per second: 60, episode reward: 10.000, mean reward: 1.000 [1.000, 1.000], mean action: 0.000 [0.000, 0.000], mean observation: 0.113 [-1.975, 2.987], loss: 1.035277, mean_absolute_error: 3.676947, mean_q: 6.502968\n",
      " 1811/5000: episode: 177, duration: 0.235s, episode steps: 14, steps per second: 60, episode reward: 14.000, mean reward: 1.000 [1.000, 1.000], mean action: 0.143 [0.000, 1.000], mean observation: 0.097 [-1.934, 2.969], loss: 1.373071, mean_absolute_error: 3.715563, mean_q: 6.573638\n",
      " 1821/5000: episode: 178, duration: 0.164s, episode steps: 10, steps per second: 61, episode reward: 10.000, mean reward: 1.000 [1.000, 1.000], mean action: 0.100 [0.000, 1.000], mean observation: 0.128 [-1.583, 2.582], loss: 1.696562, mean_absolute_error: 3.723609, mean_q: 6.579999\n",
      " 1829/5000: episode: 179, duration: 0.134s, episode steps: 8, steps per second: 60, episode reward: 8.000, mean reward: 1.000 [1.000, 1.000], mean action: 0.000 [0.000, 0.000], mean observation: 0.143 [-1.570, 2.517], loss: 1.497038, mean_absolute_error: 3.686731, mean_q: 6.500057\n"
     ]
    },
    {
     "name": "stdout",
     "output_type": "stream",
     "text": [
      " 1840/5000: episode: 180, duration: 0.181s, episode steps: 11, steps per second: 61, episode reward: 11.000, mean reward: 1.000 [1.000, 1.000], mean action: 0.000 [0.000, 0.000], mean observation: 0.137 [-2.131, 3.256], loss: 2.584592, mean_absolute_error: 4.045169, mean_q: 6.979732\n",
      " 1853/5000: episode: 181, duration: 0.219s, episode steps: 13, steps per second: 59, episode reward: 13.000, mean reward: 1.000 [1.000, 1.000], mean action: 0.231 [0.000, 1.000], mean observation: 0.108 [-1.538, 2.459], loss: 1.705484, mean_absolute_error: 3.749029, mean_q: 6.553955\n",
      " 1863/5000: episode: 182, duration: 0.167s, episode steps: 10, steps per second: 60, episode reward: 10.000, mean reward: 1.000 [1.000, 1.000], mean action: 0.300 [0.000, 1.000], mean observation: 0.106 [-1.402, 2.079], loss: 1.447718, mean_absolute_error: 3.761361, mean_q: 6.691996\n",
      " 1876/5000: episode: 183, duration: 0.214s, episode steps: 13, steps per second: 61, episode reward: 13.000, mean reward: 1.000 [1.000, 1.000], mean action: 0.385 [0.000, 1.000], mean observation: 0.101 [-0.996, 1.562], loss: 1.454825, mean_absolute_error: 3.887525, mean_q: 6.911065\n",
      " 1888/5000: episode: 184, duration: 0.202s, episode steps: 12, steps per second: 59, episode reward: 12.000, mean reward: 1.000 [1.000, 1.000], mean action: 0.333 [0.000, 1.000], mean observation: 0.083 [-1.220, 1.731], loss: 2.165337, mean_absolute_error: 3.977918, mean_q: 6.916184\n",
      " 1899/5000: episode: 185, duration: 0.186s, episode steps: 11, steps per second: 59, episode reward: 11.000, mean reward: 1.000 [1.000, 1.000], mean action: 0.364 [0.000, 1.000], mean observation: 0.129 [-0.961, 1.525], loss: 1.832021, mean_absolute_error: 4.005495, mean_q: 6.997107\n",
      " 1911/5000: episode: 186, duration: 0.198s, episode steps: 12, steps per second: 61, episode reward: 12.000, mean reward: 1.000 [1.000, 1.000], mean action: 0.417 [0.000, 1.000], mean observation: 0.094 [-0.786, 1.239], loss: 3.072308, mean_absolute_error: 4.215337, mean_q: 7.236816\n",
      " 1924/5000: episode: 187, duration: 0.216s, episode steps: 13, steps per second: 60, episode reward: 13.000, mean reward: 1.000 [1.000, 1.000], mean action: 0.385 [0.000, 1.000], mean observation: 0.080 [-1.162, 1.699], loss: 2.254629, mean_absolute_error: 4.108529, mean_q: 7.108203\n",
      " 1934/5000: episode: 188, duration: 0.163s, episode steps: 10, steps per second: 61, episode reward: 10.000, mean reward: 1.000 [1.000, 1.000], mean action: 0.300 [0.000, 1.000], mean observation: 0.121 [-1.213, 1.812], loss: 1.751280, mean_absolute_error: 3.913435, mean_q: 6.824497\n",
      " 1943/5000: episode: 189, duration: 0.150s, episode steps: 9, steps per second: 60, episode reward: 9.000, mean reward: 1.000 [1.000, 1.000], mean action: 0.222 [0.000, 1.000], mean observation: 0.146 [-1.005, 1.754], loss: 2.619989, mean_absolute_error: 4.099180, mean_q: 7.074731\n",
      " 1953/5000: episode: 190, duration: 0.168s, episode steps: 10, steps per second: 60, episode reward: 10.000, mean reward: 1.000 [1.000, 1.000], mean action: 0.300 [0.000, 1.000], mean observation: 0.110 [-1.149, 1.781], loss: 2.935924, mean_absolute_error: 4.208750, mean_q: 7.247148\n",
      " 1964/5000: episode: 191, duration: 0.181s, episode steps: 11, steps per second: 61, episode reward: 11.000, mean reward: 1.000 [1.000, 1.000], mean action: 0.364 [0.000, 1.000], mean observation: 0.120 [-1.175, 1.890], loss: 2.072526, mean_absolute_error: 4.025826, mean_q: 6.994975\n",
      " 1974/5000: episode: 192, duration: 0.166s, episode steps: 10, steps per second: 60, episode reward: 10.000, mean reward: 1.000 [1.000, 1.000], mean action: 0.200 [0.000, 1.000], mean observation: 0.135 [-1.552, 2.384], loss: 1.996726, mean_absolute_error: 4.032109, mean_q: 7.079034\n",
      " 1985/5000: episode: 193, duration: 0.185s, episode steps: 11, steps per second: 60, episode reward: 11.000, mean reward: 1.000 [1.000, 1.000], mean action: 0.091 [0.000, 1.000], mean observation: 0.131 [-1.776, 2.759], loss: 1.780831, mean_absolute_error: 4.153649, mean_q: 7.299541\n",
      " 1995/5000: episode: 194, duration: 0.165s, episode steps: 10, steps per second: 61, episode reward: 10.000, mean reward: 1.000 [1.000, 1.000], mean action: 0.000 [0.000, 0.000], mean observation: 0.135 [-1.980, 3.106], loss: 1.790373, mean_absolute_error: 4.262980, mean_q: 7.529623\n",
      " 2006/5000: episode: 195, duration: 0.183s, episode steps: 11, steps per second: 60, episode reward: 11.000, mean reward: 1.000 [1.000, 1.000], mean action: 0.091 [0.000, 1.000], mean observation: 0.121 [-1.711, 2.705], loss: 3.232966, mean_absolute_error: 4.367391, mean_q: 7.496793\n",
      " 2014/5000: episode: 196, duration: 0.135s, episode steps: 8, steps per second: 59, episode reward: 8.000, mean reward: 1.000 [1.000, 1.000], mean action: 0.000 [0.000, 0.000], mean observation: 0.156 [-1.521, 2.547], loss: 2.312642, mean_absolute_error: 4.318770, mean_q: 7.506156\n",
      " 2025/5000: episode: 197, duration: 0.181s, episode steps: 11, steps per second: 61, episode reward: 11.000, mean reward: 1.000 [1.000, 1.000], mean action: 0.091 [0.000, 1.000], mean observation: 0.128 [-1.785, 2.814], loss: 1.685066, mean_absolute_error: 4.164139, mean_q: 7.358984\n",
      " 2034/5000: episode: 198, duration: 0.149s, episode steps: 9, steps per second: 60, episode reward: 9.000, mean reward: 1.000 [1.000, 1.000], mean action: 0.000 [0.000, 0.000], mean observation: 0.152 [-1.790, 2.833], loss: 2.241933, mean_absolute_error: 4.203710, mean_q: 7.466784\n",
      " 2043/5000: episode: 199, duration: 0.153s, episode steps: 9, steps per second: 59, episode reward: 9.000, mean reward: 1.000 [1.000, 1.000], mean action: 0.000 [0.000, 0.000], mean observation: 0.177 [-1.738, 2.898], loss: 1.753377, mean_absolute_error: 4.277468, mean_q: 7.646458\n",
      " 2053/5000: episode: 200, duration: 0.166s, episode steps: 10, steps per second: 60, episode reward: 10.000, mean reward: 1.000 [1.000, 1.000], mean action: 0.000 [0.000, 0.000], mean observation: 0.153 [-1.986, 3.102], loss: 2.051159, mean_absolute_error: 4.366946, mean_q: 7.762373\n",
      " 2061/5000: episode: 201, duration: 0.133s, episode steps: 8, steps per second: 60, episode reward: 8.000, mean reward: 1.000 [1.000, 1.000], mean action: 0.000 [0.000, 0.000], mean observation: 0.149 [-1.537, 2.505], loss: 3.181554, mean_absolute_error: 4.589149, mean_q: 8.020897\n",
      " 2070/5000: episode: 202, duration: 0.147s, episode steps: 9, steps per second: 61, episode reward: 9.000, mean reward: 1.000 [1.000, 1.000], mean action: 0.000 [0.000, 0.000], mean observation: 0.139 [-1.809, 2.788], loss: 4.136616, mean_absolute_error: 4.451556, mean_q: 7.588743\n",
      " 2079/5000: episode: 203, duration: 0.152s, episode steps: 9, steps per second: 59, episode reward: 9.000, mean reward: 1.000 [1.000, 1.000], mean action: 0.000 [0.000, 0.000], mean observation: 0.153 [-1.768, 2.838], loss: 2.166518, mean_absolute_error: 4.343109, mean_q: 7.529412\n",
      " 2088/5000: episode: 204, duration: 0.150s, episode steps: 9, steps per second: 60, episode reward: 9.000, mean reward: 1.000 [1.000, 1.000], mean action: 0.000 [0.000, 0.000], mean observation: 0.160 [-1.713, 2.763], loss: 2.958369, mean_absolute_error: 4.452846, mean_q: 7.619675\n",
      " 2097/5000: episode: 205, duration: 0.151s, episode steps: 9, steps per second: 60, episode reward: 9.000, mean reward: 1.000 [1.000, 1.000], mean action: 0.000 [0.000, 0.000], mean observation: 0.164 [-1.786, 2.896], loss: 2.789413, mean_absolute_error: 4.370271, mean_q: 7.548983\n",
      " 2106/5000: episode: 206, duration: 0.148s, episode steps: 9, steps per second: 61, episode reward: 9.000, mean reward: 1.000 [1.000, 1.000], mean action: 0.333 [0.000, 1.000], mean observation: 0.142 [-1.125, 1.809], loss: 2.618032, mean_absolute_error: 4.385996, mean_q: 7.490168\n",
      " 2118/5000: episode: 207, duration: 0.200s, episode steps: 12, steps per second: 60, episode reward: 12.000, mean reward: 1.000 [1.000, 1.000], mean action: 0.417 [0.000, 1.000], mean observation: 0.113 [-0.998, 1.497], loss: 2.797991, mean_absolute_error: 4.439725, mean_q: 7.591502\n"
     ]
    },
    {
     "name": "stdout",
     "output_type": "stream",
     "text": [
      " 2129/5000: episode: 208, duration: 0.184s, episode steps: 11, steps per second: 60, episode reward: 11.000, mean reward: 1.000 [1.000, 1.000], mean action: 0.273 [0.000, 1.000], mean observation: 0.122 [-1.178, 1.804], loss: 2.636891, mean_absolute_error: 4.345182, mean_q: 7.435962\n",
      " 2144/5000: episode: 209, duration: 0.248s, episode steps: 15, steps per second: 60, episode reward: 15.000, mean reward: 1.000 [1.000, 1.000], mean action: 0.333 [0.000, 1.000], mean observation: 0.097 [-1.127, 1.761], loss: 2.595536, mean_absolute_error: 4.461460, mean_q: 7.670774\n",
      " 2153/5000: episode: 210, duration: 0.150s, episode steps: 9, steps per second: 60, episode reward: 9.000, mean reward: 1.000 [1.000, 1.000], mean action: 0.333 [0.000, 1.000], mean observation: 0.114 [-1.028, 1.595], loss: 3.124922, mean_absolute_error: 4.428094, mean_q: 7.572355\n",
      " 2164/5000: episode: 211, duration: 0.182s, episode steps: 11, steps per second: 60, episode reward: 11.000, mean reward: 1.000 [1.000, 1.000], mean action: 0.364 [0.000, 1.000], mean observation: 0.106 [-1.208, 1.755], loss: 2.315980, mean_absolute_error: 4.511922, mean_q: 7.861246\n",
      " 2174/5000: episode: 212, duration: 0.167s, episode steps: 10, steps per second: 60, episode reward: 10.000, mean reward: 1.000 [1.000, 1.000], mean action: 0.300 [0.000, 1.000], mean observation: 0.108 [-1.020, 1.550], loss: 2.662434, mean_absolute_error: 4.630834, mean_q: 8.039537\n",
      " 2184/5000: episode: 213, duration: 0.166s, episode steps: 10, steps per second: 60, episode reward: 10.000, mean reward: 1.000 [1.000, 1.000], mean action: 0.200 [0.000, 1.000], mean observation: 0.140 [-1.334, 2.083], loss: 3.170384, mean_absolute_error: 4.581015, mean_q: 7.828467\n",
      " 2193/5000: episode: 214, duration: 0.151s, episode steps: 9, steps per second: 59, episode reward: 9.000, mean reward: 1.000 [1.000, 1.000], mean action: 0.222 [0.000, 1.000], mean observation: 0.147 [-1.356, 2.162], loss: 2.399408, mean_absolute_error: 4.565599, mean_q: 7.925330\n",
      " 2203/5000: episode: 215, duration: 0.165s, episode steps: 10, steps per second: 60, episode reward: 10.000, mean reward: 1.000 [1.000, 1.000], mean action: 0.200 [0.000, 1.000], mean observation: 0.135 [-1.337, 2.084], loss: 2.255826, mean_absolute_error: 4.548535, mean_q: 7.957239\n",
      " 2212/5000: episode: 216, duration: 0.148s, episode steps: 9, steps per second: 61, episode reward: 9.000, mean reward: 1.000 [1.000, 1.000], mean action: 0.222 [0.000, 1.000], mean observation: 0.150 [-1.371, 2.197], loss: 3.857248, mean_absolute_error: 4.707903, mean_q: 7.934604\n",
      " 2222/5000: episode: 217, duration: 0.166s, episode steps: 10, steps per second: 60, episode reward: 10.000, mean reward: 1.000 [1.000, 1.000], mean action: 0.200 [0.000, 1.000], mean observation: 0.133 [-1.391, 2.189], loss: 2.946117, mean_absolute_error: 4.535935, mean_q: 7.700326\n",
      " 2232/5000: episode: 218, duration: 0.167s, episode steps: 10, steps per second: 60, episode reward: 10.000, mean reward: 1.000 [1.000, 1.000], mean action: 0.200 [0.000, 1.000], mean observation: 0.113 [-1.413, 2.104], loss: 2.787397, mean_absolute_error: 4.604077, mean_q: 7.865983\n",
      " 2242/5000: episode: 219, duration: 0.166s, episode steps: 10, steps per second: 60, episode reward: 10.000, mean reward: 1.000 [1.000, 1.000], mean action: 0.100 [0.000, 1.000], mean observation: 0.117 [-1.548, 2.416], loss: 3.071457, mean_absolute_error: 4.653782, mean_q: 7.957332\n",
      " 2253/5000: episode: 220, duration: 0.183s, episode steps: 11, steps per second: 60, episode reward: 11.000, mean reward: 1.000 [1.000, 1.000], mean action: 0.182 [0.000, 1.000], mean observation: 0.113 [-1.366, 2.213], loss: 2.273003, mean_absolute_error: 4.526962, mean_q: 7.815420\n",
      " 2265/5000: episode: 221, duration: 0.200s, episode steps: 12, steps per second: 60, episode reward: 12.000, mean reward: 1.000 [1.000, 1.000], mean action: 0.250 [0.000, 1.000], mean observation: 0.106 [-1.220, 2.049], loss: 3.523147, mean_absolute_error: 4.692188, mean_q: 8.003911\n",
      " 2275/5000: episode: 222, duration: 0.166s, episode steps: 10, steps per second: 60, episode reward: 10.000, mean reward: 1.000 [1.000, 1.000], mean action: 0.300 [0.000, 1.000], mean observation: 0.119 [-1.188, 1.871], loss: 2.949299, mean_absolute_error: 4.792288, mean_q: 8.275747\n",
      " 2286/5000: episode: 223, duration: 0.183s, episode steps: 11, steps per second: 60, episode reward: 11.000, mean reward: 1.000 [1.000, 1.000], mean action: 0.273 [0.000, 1.000], mean observation: 0.142 [-1.130, 1.789], loss: 2.868342, mean_absolute_error: 4.732489, mean_q: 8.165139\n",
      " 2298/5000: episode: 224, duration: 0.200s, episode steps: 12, steps per second: 60, episode reward: 12.000, mean reward: 1.000 [1.000, 1.000], mean action: 0.333 [0.000, 1.000], mean observation: 0.095 [-1.197, 1.881], loss: 3.704417, mean_absolute_error: 4.777986, mean_q: 8.156045\n",
      " 2310/5000: episode: 225, duration: 0.199s, episode steps: 12, steps per second: 60, episode reward: 12.000, mean reward: 1.000 [1.000, 1.000], mean action: 0.333 [0.000, 1.000], mean observation: 0.113 [-1.123, 1.778], loss: 2.992193, mean_absolute_error: 4.711644, mean_q: 8.043880\n",
      " 2319/5000: episode: 226, duration: 0.150s, episode steps: 9, steps per second: 60, episode reward: 9.000, mean reward: 1.000 [1.000, 1.000], mean action: 0.333 [0.000, 1.000], mean observation: 0.135 [-0.980, 1.565], loss: 3.399559, mean_absolute_error: 4.620726, mean_q: 7.816901\n",
      " 2332/5000: episode: 227, duration: 0.217s, episode steps: 13, steps per second: 60, episode reward: 13.000, mean reward: 1.000 [1.000, 1.000], mean action: 0.308 [0.000, 1.000], mean observation: 0.095 [-1.143, 1.743], loss: 3.004838, mean_absolute_error: 4.607193, mean_q: 7.867537\n",
      " 2342/5000: episode: 228, duration: 0.165s, episode steps: 10, steps per second: 60, episode reward: 10.000, mean reward: 1.000 [1.000, 1.000], mean action: 0.200 [0.000, 1.000], mean observation: 0.122 [-1.380, 2.057], loss: 2.725944, mean_absolute_error: 4.778914, mean_q: 8.192175\n",
      " 2352/5000: episode: 229, duration: 0.167s, episode steps: 10, steps per second: 60, episode reward: 10.000, mean reward: 1.000 [1.000, 1.000], mean action: 0.200 [0.000, 1.000], mean observation: 0.139 [-1.542, 2.386], loss: 3.448598, mean_absolute_error: 4.959280, mean_q: 8.378324\n",
      " 2362/5000: episode: 230, duration: 0.166s, episode steps: 10, steps per second: 60, episode reward: 10.000, mean reward: 1.000 [1.000, 1.000], mean action: 0.000 [0.000, 0.000], mean observation: 0.116 [-1.992, 3.011], loss: 2.686693, mean_absolute_error: 4.682235, mean_q: 8.116291\n",
      " 2373/5000: episode: 231, duration: 0.183s, episode steps: 11, steps per second: 60, episode reward: 11.000, mean reward: 1.000 [1.000, 1.000], mean action: 0.091 [0.000, 1.000], mean observation: 0.111 [-1.808, 2.708], loss: 3.173103, mean_absolute_error: 4.659703, mean_q: 7.922470\n",
      " 2382/5000: episode: 232, duration: 0.148s, episode steps: 9, steps per second: 61, episode reward: 9.000, mean reward: 1.000 [1.000, 1.000], mean action: 0.111 [0.000, 1.000], mean observation: 0.170 [-1.345, 2.323], loss: 3.414943, mean_absolute_error: 4.824507, mean_q: 8.244934\n",
      " 2395/5000: episode: 233, duration: 0.216s, episode steps: 13, steps per second: 60, episode reward: 13.000, mean reward: 1.000 [1.000, 1.000], mean action: 0.154 [0.000, 1.000], mean observation: 0.083 [-1.800, 2.712], loss: 2.621608, mean_absolute_error: 4.802456, mean_q: 8.297817\n",
      " 2404/5000: episode: 234, duration: 0.150s, episode steps: 9, steps per second: 60, episode reward: 9.000, mean reward: 1.000 [1.000, 1.000], mean action: 0.000 [0.000, 0.000], mean observation: 0.166 [-1.771, 2.890], loss: 2.995377, mean_absolute_error: 4.879642, mean_q: 8.479032\n",
      " 2415/5000: episode: 235, duration: 0.182s, episode steps: 11, steps per second: 60, episode reward: 11.000, mean reward: 1.000 [1.000, 1.000], mean action: 0.182 [0.000, 1.000], mean observation: 0.133 [-1.354, 2.227], loss: 3.019695, mean_absolute_error: 4.666869, mean_q: 7.930315\n",
      " 2424/5000: episode: 236, duration: 0.149s, episode steps: 9, steps per second: 60, episode reward: 9.000, mean reward: 1.000 [1.000, 1.000], mean action: 0.000 [0.000, 0.000], mean observation: 0.150 [-1.811, 2.844], loss: 3.791581, mean_absolute_error: 4.729460, mean_q: 8.023410\n"
     ]
    },
    {
     "name": "stdout",
     "output_type": "stream",
     "text": [
      " 2433/5000: episode: 237, duration: 0.151s, episode steps: 9, steps per second: 60, episode reward: 9.000, mean reward: 1.000 [1.000, 1.000], mean action: 0.111 [0.000, 1.000], mean observation: 0.138 [-1.346, 2.255], loss: 2.821190, mean_absolute_error: 4.655288, mean_q: 7.974102\n",
      " 2441/5000: episode: 238, duration: 0.132s, episode steps: 8, steps per second: 61, episode reward: 8.000, mean reward: 1.000 [1.000, 1.000], mean action: 0.000 [0.000, 0.000], mean observation: 0.135 [-1.612, 2.564], loss: 2.457121, mean_absolute_error: 4.761731, mean_q: 8.267947\n",
      " 2450/5000: episode: 239, duration: 0.149s, episode steps: 9, steps per second: 60, episode reward: 9.000, mean reward: 1.000 [1.000, 1.000], mean action: 0.000 [0.000, 0.000], mean observation: 0.134 [-1.792, 2.771], loss: 2.469788, mean_absolute_error: 4.654816, mean_q: 8.069149\n",
      " 2460/5000: episode: 240, duration: 0.166s, episode steps: 10, steps per second: 60, episode reward: 10.000, mean reward: 1.000 [1.000, 1.000], mean action: 0.000 [0.000, 0.000], mean observation: 0.129 [-1.948, 2.967], loss: 3.383070, mean_absolute_error: 4.931819, mean_q: 8.472445\n",
      " 2473/5000: episode: 241, duration: 0.217s, episode steps: 13, steps per second: 60, episode reward: 13.000, mean reward: 1.000 [1.000, 1.000], mean action: 0.308 [0.000, 1.000], mean observation: 0.106 [-1.182, 1.898], loss: 2.690966, mean_absolute_error: 4.760640, mean_q: 8.177917\n",
      " 2485/5000: episode: 242, duration: 0.200s, episode steps: 12, steps per second: 60, episode reward: 12.000, mean reward: 1.000 [1.000, 1.000], mean action: 0.167 [0.000, 1.000], mean observation: 0.095 [-1.615, 2.527], loss: 3.744610, mean_absolute_error: 4.947869, mean_q: 8.461406\n",
      " 2496/5000: episode: 243, duration: 0.183s, episode steps: 11, steps per second: 60, episode reward: 11.000, mean reward: 1.000 [1.000, 1.000], mean action: 0.182 [0.000, 1.000], mean observation: 0.142 [-1.524, 2.461], loss: 3.222090, mean_absolute_error: 4.817581, mean_q: 8.218308\n",
      " 2505/5000: episode: 244, duration: 0.148s, episode steps: 9, steps per second: 61, episode reward: 9.000, mean reward: 1.000 [1.000, 1.000], mean action: 0.222 [0.000, 1.000], mean observation: 0.108 [-1.406, 2.118], loss: 2.726373, mean_absolute_error: 4.758190, mean_q: 8.137903\n",
      " 2514/5000: episode: 245, duration: 0.150s, episode steps: 9, steps per second: 60, episode reward: 9.000, mean reward: 1.000 [1.000, 1.000], mean action: 0.222 [0.000, 1.000], mean observation: 0.119 [-1.226, 1.880], loss: 2.825259, mean_absolute_error: 4.936847, mean_q: 8.552634\n",
      " 2523/5000: episode: 246, duration: 0.149s, episode steps: 9, steps per second: 60, episode reward: 9.000, mean reward: 1.000 [1.000, 1.000], mean action: 0.222 [0.000, 1.000], mean observation: 0.135 [-1.410, 2.176], loss: 1.898736, mean_absolute_error: 4.856727, mean_q: 8.525164\n",
      " 2533/5000: episode: 247, duration: 0.166s, episode steps: 10, steps per second: 60, episode reward: 10.000, mean reward: 1.000 [1.000, 1.000], mean action: 0.200 [0.000, 1.000], mean observation: 0.119 [-1.344, 2.068], loss: 2.578409, mean_absolute_error: 4.875998, mean_q: 8.496736\n",
      " 2542/5000: episode: 248, duration: 0.149s, episode steps: 9, steps per second: 60, episode reward: 9.000, mean reward: 1.000 [1.000, 1.000], mean action: 0.222 [0.000, 1.000], mean observation: 0.133 [-1.219, 1.945], loss: 2.504169, mean_absolute_error: 4.933285, mean_q: 8.517157\n",
      " 2553/5000: episode: 249, duration: 0.185s, episode steps: 11, steps per second: 59, episode reward: 11.000, mean reward: 1.000 [1.000, 1.000], mean action: 0.182 [0.000, 1.000], mean observation: 0.097 [-1.408, 2.169], loss: 2.409747, mean_absolute_error: 4.886802, mean_q: 8.474114\n",
      " 2563/5000: episode: 250, duration: 0.164s, episode steps: 10, steps per second: 61, episode reward: 10.000, mean reward: 1.000 [1.000, 1.000], mean action: 0.100 [0.000, 1.000], mean observation: 0.134 [-1.736, 2.664], loss: 3.859126, mean_absolute_error: 5.034631, mean_q: 8.536826\n",
      " 2571/5000: episode: 251, duration: 0.132s, episode steps: 8, steps per second: 61, episode reward: 8.000, mean reward: 1.000 [1.000, 1.000], mean action: 0.125 [0.000, 1.000], mean observation: 0.157 [-1.360, 2.221], loss: 4.205154, mean_absolute_error: 5.114182, mean_q: 8.599567\n",
      " 2582/5000: episode: 252, duration: 0.184s, episode steps: 11, steps per second: 60, episode reward: 11.000, mean reward: 1.000 [1.000, 1.000], mean action: 0.182 [0.000, 1.000], mean observation: 0.127 [-1.570, 2.443], loss: 3.632792, mean_absolute_error: 5.001112, mean_q: 8.512824\n",
      " 2591/5000: episode: 253, duration: 0.150s, episode steps: 9, steps per second: 60, episode reward: 9.000, mean reward: 1.000 [1.000, 1.000], mean action: 0.000 [0.000, 0.000], mean observation: 0.182 [-1.715, 2.869], loss: 3.581995, mean_absolute_error: 4.943202, mean_q: 8.353219\n",
      " 2599/5000: episode: 254, duration: 0.134s, episode steps: 8, steps per second: 60, episode reward: 8.000, mean reward: 1.000 [1.000, 1.000], mean action: 0.000 [0.000, 0.000], mean observation: 0.154 [-1.574, 2.565], loss: 2.265679, mean_absolute_error: 4.788306, mean_q: 8.330015\n",
      " 2608/5000: episode: 255, duration: 0.149s, episode steps: 9, steps per second: 61, episode reward: 9.000, mean reward: 1.000 [1.000, 1.000], mean action: 0.000 [0.000, 0.000], mean observation: 0.139 [-1.727, 2.792], loss: 3.497666, mean_absolute_error: 4.935212, mean_q: 8.347288\n",
      " 2624/5000: episode: 256, duration: 0.267s, episode steps: 16, steps per second: 60, episode reward: 16.000, mean reward: 1.000 [1.000, 1.000], mean action: 0.188 [0.000, 1.000], mean observation: 0.076 [-1.921, 3.011], loss: 3.492464, mean_absolute_error: 4.948635, mean_q: 8.463764\n",
      " 2632/5000: episode: 257, duration: 0.133s, episode steps: 8, steps per second: 60, episode reward: 8.000, mean reward: 1.000 [1.000, 1.000], mean action: 0.000 [0.000, 0.000], mean observation: 0.163 [-1.532, 2.587], loss: 3.497990, mean_absolute_error: 5.048680, mean_q: 8.637671\n",
      " 2641/5000: episode: 258, duration: 0.150s, episode steps: 9, steps per second: 60, episode reward: 9.000, mean reward: 1.000 [1.000, 1.000], mean action: 0.111 [0.000, 1.000], mean observation: 0.145 [-1.547, 2.482], loss: 3.452122, mean_absolute_error: 4.984063, mean_q: 8.405989\n",
      " 2653/5000: episode: 259, duration: 0.199s, episode steps: 12, steps per second: 60, episode reward: 12.000, mean reward: 1.000 [1.000, 1.000], mean action: 0.250 [0.000, 1.000], mean observation: 0.116 [-1.382, 2.224], loss: 2.596593, mean_absolute_error: 4.808630, mean_q: 8.209010\n",
      " 2663/5000: episode: 260, duration: 0.166s, episode steps: 10, steps per second: 60, episode reward: 10.000, mean reward: 1.000 [1.000, 1.000], mean action: 0.100 [0.000, 1.000], mean observation: 0.127 [-1.582, 2.497], loss: 2.741163, mean_absolute_error: 4.941323, mean_q: 8.443285\n",
      " 2671/5000: episode: 261, duration: 0.133s, episode steps: 8, steps per second: 60, episode reward: 8.000, mean reward: 1.000 [1.000, 1.000], mean action: 0.000 [0.000, 0.000], mean observation: 0.150 [-1.583, 2.555], loss: 3.522661, mean_absolute_error: 5.007868, mean_q: 8.557739\n",
      " 2683/5000: episode: 262, duration: 0.200s, episode steps: 12, steps per second: 60, episode reward: 12.000, mean reward: 1.000 [1.000, 1.000], mean action: 0.167 [0.000, 1.000], mean observation: 0.107 [-1.597, 2.605], loss: 2.065588, mean_absolute_error: 4.915372, mean_q: 8.575496\n",
      " 2691/5000: episode: 263, duration: 0.132s, episode steps: 8, steps per second: 61, episode reward: 8.000, mean reward: 1.000 [1.000, 1.000], mean action: 0.000 [0.000, 0.000], mean observation: 0.137 [-1.573, 2.556], loss: 3.129767, mean_absolute_error: 4.994357, mean_q: 8.564598\n",
      " 2701/5000: episode: 264, duration: 0.166s, episode steps: 10, steps per second: 60, episode reward: 10.000, mean reward: 1.000 [1.000, 1.000], mean action: 0.000 [0.000, 0.000], mean observation: 0.125 [-1.971, 2.970], loss: 1.968407, mean_absolute_error: 5.059544, mean_q: 9.011458\n",
      " 2710/5000: episode: 265, duration: 0.149s, episode steps: 9, steps per second: 60, episode reward: 9.000, mean reward: 1.000 [1.000, 1.000], mean action: 0.000 [0.000, 0.000], mean observation: 0.156 [-1.812, 2.862], loss: 3.144483, mean_absolute_error: 4.947348, mean_q: 8.411484\n"
     ]
    },
    {
     "name": "stdout",
     "output_type": "stream",
     "text": [
      " 2720/5000: episode: 266, duration: 0.166s, episode steps: 10, steps per second: 60, episode reward: 10.000, mean reward: 1.000 [1.000, 1.000], mean action: 0.100 [0.000, 1.000], mean observation: 0.128 [-1.563, 2.495], loss: 2.900705, mean_absolute_error: 5.003161, mean_q: 8.594482\n",
      " 2730/5000: episode: 267, duration: 0.166s, episode steps: 10, steps per second: 60, episode reward: 10.000, mean reward: 1.000 [1.000, 1.000], mean action: 0.000 [0.000, 0.000], mean observation: 0.110 [-1.969, 2.990], loss: 3.246304, mean_absolute_error: 5.035436, mean_q: 8.610533\n",
      " 2739/5000: episode: 268, duration: 0.150s, episode steps: 9, steps per second: 60, episode reward: 9.000, mean reward: 1.000 [1.000, 1.000], mean action: 0.000 [0.000, 0.000], mean observation: 0.143 [-1.769, 2.833], loss: 3.005422, mean_absolute_error: 4.917148, mean_q: 8.451508\n",
      " 2749/5000: episode: 269, duration: 0.165s, episode steps: 10, steps per second: 61, episode reward: 10.000, mean reward: 1.000 [1.000, 1.000], mean action: 0.000 [0.000, 0.000], mean observation: 0.133 [-1.977, 3.073], loss: 2.136342, mean_absolute_error: 4.878347, mean_q: 8.465173\n",
      " 2757/5000: episode: 270, duration: 0.134s, episode steps: 8, steps per second: 60, episode reward: 8.000, mean reward: 1.000 [1.000, 1.000], mean action: 0.000 [0.000, 0.000], mean observation: 0.146 [-1.568, 2.535], loss: 2.954131, mean_absolute_error: 4.944963, mean_q: 8.516179\n",
      " 2767/5000: episode: 271, duration: 0.166s, episode steps: 10, steps per second: 60, episode reward: 10.000, mean reward: 1.000 [1.000, 1.000], mean action: 0.000 [0.000, 0.000], mean observation: 0.150 [-1.961, 3.103], loss: 3.189469, mean_absolute_error: 5.051493, mean_q: 8.755709\n",
      " 2777/5000: episode: 272, duration: 0.167s, episode steps: 10, steps per second: 60, episode reward: 10.000, mean reward: 1.000 [1.000, 1.000], mean action: 0.100 [0.000, 1.000], mean observation: 0.141 [-1.549, 2.628], loss: 3.910538, mean_absolute_error: 5.044772, mean_q: 8.484491\n",
      " 2787/5000: episode: 273, duration: 0.165s, episode steps: 10, steps per second: 60, episode reward: 10.000, mean reward: 1.000 [1.000, 1.000], mean action: 0.100 [0.000, 1.000], mean observation: 0.125 [-1.607, 2.597], loss: 3.124054, mean_absolute_error: 4.959441, mean_q: 8.461827\n",
      " 2799/5000: episode: 274, duration: 0.200s, episode steps: 12, steps per second: 60, episode reward: 12.000, mean reward: 1.000 [1.000, 1.000], mean action: 0.083 [0.000, 1.000], mean observation: 0.099 [-1.982, 3.025], loss: 2.872604, mean_absolute_error: 4.983226, mean_q: 8.573647\n",
      " 2808/5000: episode: 275, duration: 0.150s, episode steps: 9, steps per second: 60, episode reward: 9.000, mean reward: 1.000 [1.000, 1.000], mean action: 0.222 [0.000, 1.000], mean observation: 0.155 [-1.151, 2.001], loss: 3.164886, mean_absolute_error: 5.056208, mean_q: 8.643429\n",
      " 2817/5000: episode: 276, duration: 0.149s, episode steps: 9, steps per second: 60, episode reward: 9.000, mean reward: 1.000 [1.000, 1.000], mean action: 0.000 [0.000, 0.000], mean observation: 0.144 [-1.797, 2.833], loss: 2.433489, mean_absolute_error: 4.975383, mean_q: 8.651849\n",
      " 2827/5000: episode: 277, duration: 0.166s, episode steps: 10, steps per second: 60, episode reward: 10.000, mean reward: 1.000 [1.000, 1.000], mean action: 0.100 [0.000, 1.000], mean observation: 0.154 [-1.609, 2.640], loss: 3.359026, mean_absolute_error: 5.000194, mean_q: 8.527604\n",
      " 2835/5000: episode: 278, duration: 0.133s, episode steps: 8, steps per second: 60, episode reward: 8.000, mean reward: 1.000 [1.000, 1.000], mean action: 0.000 [0.000, 0.000], mean observation: 0.146 [-1.525, 2.536], loss: 2.891037, mean_absolute_error: 4.923411, mean_q: 8.458944\n",
      " 2843/5000: episode: 279, duration: 0.132s, episode steps: 8, steps per second: 61, episode reward: 8.000, mean reward: 1.000 [1.000, 1.000], mean action: 0.125 [0.000, 1.000], mean observation: 0.147 [-1.414, 2.264], loss: 2.597929, mean_absolute_error: 4.967710, mean_q: 8.542019\n",
      " 2852/5000: episode: 280, duration: 0.151s, episode steps: 9, steps per second: 59, episode reward: 9.000, mean reward: 1.000 [1.000, 1.000], mean action: 0.111 [0.000, 1.000], mean observation: 0.145 [-1.357, 2.234], loss: 2.536512, mean_absolute_error: 5.038517, mean_q: 8.708296\n",
      " 2863/5000: episode: 281, duration: 0.182s, episode steps: 11, steps per second: 60, episode reward: 11.000, mean reward: 1.000 [1.000, 1.000], mean action: 0.182 [0.000, 1.000], mean observation: 0.125 [-1.515, 2.342], loss: 2.671301, mean_absolute_error: 4.969278, mean_q: 8.535498\n",
      " 2872/5000: episode: 282, duration: 0.149s, episode steps: 9, steps per second: 60, episode reward: 9.000, mean reward: 1.000 [1.000, 1.000], mean action: 0.111 [0.000, 1.000], mean observation: 0.136 [-1.391, 2.265], loss: 2.671578, mean_absolute_error: 4.977226, mean_q: 8.599864\n",
      " 2881/5000: episode: 283, duration: 0.150s, episode steps: 9, steps per second: 60, episode reward: 9.000, mean reward: 1.000 [1.000, 1.000], mean action: 0.111 [0.000, 1.000], mean observation: 0.139 [-1.613, 2.469], loss: 2.572394, mean_absolute_error: 4.994920, mean_q: 8.639495\n",
      " 2893/5000: episode: 284, duration: 0.200s, episode steps: 12, steps per second: 60, episode reward: 12.000, mean reward: 1.000 [1.000, 1.000], mean action: 0.250 [0.000, 1.000], mean observation: 0.099 [-1.381, 2.074], loss: 3.581800, mean_absolute_error: 5.055470, mean_q: 8.470469\n",
      " 2907/5000: episode: 285, duration: 0.232s, episode steps: 14, steps per second: 60, episode reward: 14.000, mean reward: 1.000 [1.000, 1.000], mean action: 0.357 [0.000, 1.000], mean observation: 0.091 [-1.345, 1.948], loss: 3.352103, mean_absolute_error: 5.048842, mean_q: 8.471052\n",
      " 2920/5000: episode: 286, duration: 0.217s, episode steps: 13, steps per second: 60, episode reward: 13.000, mean reward: 1.000 [1.000, 1.000], mean action: 0.385 [0.000, 1.000], mean observation: 0.103 [-1.021, 1.662], loss: 2.988626, mean_absolute_error: 4.995875, mean_q: 8.421035\n",
      " 2929/5000: episode: 287, duration: 0.149s, episode steps: 9, steps per second: 60, episode reward: 9.000, mean reward: 1.000 [1.000, 1.000], mean action: 0.333 [0.000, 1.000], mean observation: 0.105 [-1.018, 1.608], loss: 2.206854, mean_absolute_error: 4.866604, mean_q: 8.374137\n",
      " 2940/5000: episode: 288, duration: 0.184s, episode steps: 11, steps per second: 60, episode reward: 11.000, mean reward: 1.000 [1.000, 1.000], mean action: 0.273 [0.000, 1.000], mean observation: 0.110 [-1.180, 1.859], loss: 2.961001, mean_absolute_error: 5.076505, mean_q: 8.647094\n",
      " 2949/5000: episode: 289, duration: 0.148s, episode steps: 9, steps per second: 61, episode reward: 9.000, mean reward: 1.000 [1.000, 1.000], mean action: 0.222 [0.000, 1.000], mean observation: 0.148 [-1.341, 2.131], loss: 2.582784, mean_absolute_error: 5.044960, mean_q: 8.780782\n",
      " 2959/5000: episode: 290, duration: 0.166s, episode steps: 10, steps per second: 60, episode reward: 10.000, mean reward: 1.000 [1.000, 1.000], mean action: 0.300 [0.000, 1.000], mean observation: 0.123 [-1.378, 2.068], loss: 3.420788, mean_absolute_error: 4.969636, mean_q: 8.294544\n",
      " 2968/5000: episode: 291, duration: 0.150s, episode steps: 9, steps per second: 60, episode reward: 9.000, mean reward: 1.000 [1.000, 1.000], mean action: 0.222 [0.000, 1.000], mean observation: 0.147 [-1.134, 1.907], loss: 2.498339, mean_absolute_error: 4.905123, mean_q: 8.450187\n",
      " 2979/5000: episode: 292, duration: 0.183s, episode steps: 11, steps per second: 60, episode reward: 11.000, mean reward: 1.000 [1.000, 1.000], mean action: 0.273 [0.000, 1.000], mean observation: 0.089 [-1.385, 2.002], loss: 2.239190, mean_absolute_error: 4.875793, mean_q: 8.416759\n",
      " 2989/5000: episode: 293, duration: 0.167s, episode steps: 10, steps per second: 60, episode reward: 10.000, mean reward: 1.000 [1.000, 1.000], mean action: 0.300 [0.000, 1.000], mean observation: 0.138 [-1.335, 2.098], loss: 2.951985, mean_absolute_error: 5.022048, mean_q: 8.588684\n",
      " 2998/5000: episode: 294, duration: 0.149s, episode steps: 9, steps per second: 60, episode reward: 9.000, mean reward: 1.000 [1.000, 1.000], mean action: 0.333 [0.000, 1.000], mean observation: 0.121 [-1.001, 1.626], loss: 2.496751, mean_absolute_error: 4.959195, mean_q: 8.537330\n"
     ]
    },
    {
     "name": "stdout",
     "output_type": "stream",
     "text": [
      " 3012/5000: episode: 295, duration: 0.234s, episode steps: 14, steps per second: 60, episode reward: 14.000, mean reward: 1.000 [1.000, 1.000], mean action: 0.429 [0.000, 1.000], mean observation: 0.081 [-1.023, 1.457], loss: 3.111619, mean_absolute_error: 4.998004, mean_q: 8.424567\n",
      " 3027/5000: episode: 296, duration: 0.252s, episode steps: 15, steps per second: 60, episode reward: 15.000, mean reward: 1.000 [1.000, 1.000], mean action: 0.400 [0.000, 1.000], mean observation: 0.083 [-0.799, 1.327], loss: 2.879693, mean_absolute_error: 4.878584, mean_q: 8.192976\n",
      " 3036/5000: episode: 297, duration: 0.146s, episode steps: 9, steps per second: 62, episode reward: 9.000, mean reward: 1.000 [1.000, 1.000], mean action: 0.333 [0.000, 1.000], mean observation: 0.123 [-0.797, 1.435], loss: 2.765136, mean_absolute_error: 4.941566, mean_q: 8.411473\n",
      " 3047/5000: episode: 298, duration: 0.183s, episode steps: 11, steps per second: 60, episode reward: 11.000, mean reward: 1.000 [1.000, 1.000], mean action: 0.364 [0.000, 1.000], mean observation: 0.142 [-0.938, 1.563], loss: 2.879478, mean_absolute_error: 4.967120, mean_q: 8.427455\n",
      " 3058/5000: episode: 299, duration: 0.182s, episode steps: 11, steps per second: 60, episode reward: 11.000, mean reward: 1.000 [1.000, 1.000], mean action: 0.364 [0.000, 1.000], mean observation: 0.123 [-0.751, 1.337], loss: 3.206698, mean_absolute_error: 4.776515, mean_q: 8.019200\n",
      " 3070/5000: episode: 300, duration: 0.199s, episode steps: 12, steps per second: 60, episode reward: 12.000, mean reward: 1.000 [1.000, 1.000], mean action: 0.417 [0.000, 1.000], mean observation: 0.093 [-0.939, 1.511], loss: 2.695241, mean_absolute_error: 4.973810, mean_q: 8.462735\n",
      " 3079/5000: episode: 301, duration: 0.149s, episode steps: 9, steps per second: 60, episode reward: 9.000, mean reward: 1.000 [1.000, 1.000], mean action: 0.222 [0.000, 1.000], mean observation: 0.134 [-1.321, 2.114], loss: 3.027922, mean_absolute_error: 5.018185, mean_q: 8.528728\n",
      " 3090/5000: episode: 302, duration: 0.183s, episode steps: 11, steps per second: 60, episode reward: 11.000, mean reward: 1.000 [1.000, 1.000], mean action: 0.273 [0.000, 1.000], mean observation: 0.130 [-1.188, 1.846], loss: 2.625780, mean_absolute_error: 4.920351, mean_q: 8.425684\n",
      " 3100/5000: episode: 303, duration: 0.167s, episode steps: 10, steps per second: 60, episode reward: 10.000, mean reward: 1.000 [1.000, 1.000], mean action: 0.200 [0.000, 1.000], mean observation: 0.090 [-1.415, 2.103], loss: 2.837738, mean_absolute_error: 4.995234, mean_q: 8.532641\n",
      " 3110/5000: episode: 304, duration: 0.166s, episode steps: 10, steps per second: 60, episode reward: 10.000, mean reward: 1.000 [1.000, 1.000], mean action: 0.200 [0.000, 1.000], mean observation: 0.155 [-1.523, 2.416], loss: 2.529397, mean_absolute_error: 4.995420, mean_q: 8.650179\n",
      " 3119/5000: episode: 305, duration: 0.150s, episode steps: 9, steps per second: 60, episode reward: 9.000, mean reward: 1.000 [1.000, 1.000], mean action: 0.111 [0.000, 1.000], mean observation: 0.140 [-1.393, 2.274], loss: 2.802328, mean_absolute_error: 4.871018, mean_q: 8.289951\n",
      " 3128/5000: episode: 306, duration: 0.150s, episode steps: 9, steps per second: 60, episode reward: 9.000, mean reward: 1.000 [1.000, 1.000], mean action: 0.111 [0.000, 1.000], mean observation: 0.167 [-1.530, 2.491], loss: 3.459738, mean_absolute_error: 4.990489, mean_q: 8.354496\n",
      " 3137/5000: episode: 307, duration: 0.149s, episode steps: 9, steps per second: 60, episode reward: 9.000, mean reward: 1.000 [1.000, 1.000], mean action: 0.222 [0.000, 1.000], mean observation: 0.161 [-1.323, 2.192], loss: 2.625698, mean_absolute_error: 4.905180, mean_q: 8.267203\n",
      " 3147/5000: episode: 308, duration: 0.166s, episode steps: 10, steps per second: 60, episode reward: 10.000, mean reward: 1.000 [1.000, 1.000], mean action: 0.200 [0.000, 1.000], mean observation: 0.119 [-1.578, 2.337], loss: 2.640523, mean_absolute_error: 4.768500, mean_q: 8.045678\n",
      " 3157/5000: episode: 309, duration: 0.166s, episode steps: 10, steps per second: 60, episode reward: 10.000, mean reward: 1.000 [1.000, 1.000], mean action: 0.200 [0.000, 1.000], mean observation: 0.161 [-1.344, 2.293], loss: 2.909080, mean_absolute_error: 4.934199, mean_q: 8.420389\n",
      " 3168/5000: episode: 310, duration: 0.184s, episode steps: 11, steps per second: 60, episode reward: 11.000, mean reward: 1.000 [1.000, 1.000], mean action: 0.273 [0.000, 1.000], mean observation: 0.104 [-1.378, 2.091], loss: 3.286214, mean_absolute_error: 4.957046, mean_q: 8.337741\n",
      " 3179/5000: episode: 311, duration: 0.183s, episode steps: 11, steps per second: 60, episode reward: 11.000, mean reward: 1.000 [1.000, 1.000], mean action: 0.273 [0.000, 1.000], mean observation: 0.118 [-1.376, 2.212], loss: 2.622372, mean_absolute_error: 4.920751, mean_q: 8.380466\n",
      " 3190/5000: episode: 312, duration: 0.182s, episode steps: 11, steps per second: 60, episode reward: 11.000, mean reward: 1.000 [1.000, 1.000], mean action: 0.273 [0.000, 1.000], mean observation: 0.127 [-1.323, 2.092], loss: 2.632222, mean_absolute_error: 4.901172, mean_q: 8.355499\n",
      " 3202/5000: episode: 313, duration: 0.199s, episode steps: 12, steps per second: 60, episode reward: 12.000, mean reward: 1.000 [1.000, 1.000], mean action: 0.250 [0.000, 1.000], mean observation: 0.115 [-1.374, 2.204], loss: 2.603583, mean_absolute_error: 4.907516, mean_q: 8.428420\n",
      " 3211/5000: episode: 314, duration: 0.149s, episode steps: 9, steps per second: 60, episode reward: 9.000, mean reward: 1.000 [1.000, 1.000], mean action: 0.222 [0.000, 1.000], mean observation: 0.126 [-1.334, 2.115], loss: 2.471248, mean_absolute_error: 4.918652, mean_q: 8.365882\n",
      " 3220/5000: episode: 315, duration: 0.150s, episode steps: 9, steps per second: 60, episode reward: 9.000, mean reward: 1.000 [1.000, 1.000], mean action: 0.222 [0.000, 1.000], mean observation: 0.143 [-1.148, 1.905], loss: 3.103062, mean_absolute_error: 5.006578, mean_q: 8.501513\n",
      " 3229/5000: episode: 316, duration: 0.148s, episode steps: 9, steps per second: 61, episode reward: 9.000, mean reward: 1.000 [1.000, 1.000], mean action: 0.222 [0.000, 1.000], mean observation: 0.149 [-1.135, 1.933], loss: 2.715302, mean_absolute_error: 4.907188, mean_q: 8.331227\n",
      " 3241/5000: episode: 317, duration: 0.201s, episode steps: 12, steps per second: 60, episode reward: 12.000, mean reward: 1.000 [1.000, 1.000], mean action: 0.333 [0.000, 1.000], mean observation: 0.079 [-1.397, 1.978], loss: 2.510498, mean_absolute_error: 4.855343, mean_q: 8.244797\n",
      " 3250/5000: episode: 318, duration: 0.150s, episode steps: 9, steps per second: 60, episode reward: 9.000, mean reward: 1.000 [1.000, 1.000], mean action: 0.222 [0.000, 1.000], mean observation: 0.128 [-1.172, 1.910], loss: 2.801898, mean_absolute_error: 4.972626, mean_q: 8.436554\n",
      " 3259/5000: episode: 319, duration: 0.150s, episode steps: 9, steps per second: 60, episode reward: 9.000, mean reward: 1.000 [1.000, 1.000], mean action: 0.222 [0.000, 1.000], mean observation: 0.130 [-1.135, 1.883], loss: 2.712265, mean_absolute_error: 4.813211, mean_q: 8.156966\n",
      " 3271/5000: episode: 320, duration: 0.200s, episode steps: 12, steps per second: 60, episode reward: 12.000, mean reward: 1.000 [1.000, 1.000], mean action: 0.250 [0.000, 1.000], mean observation: 0.112 [-1.363, 2.152], loss: 2.514742, mean_absolute_error: 4.832263, mean_q: 8.221500\n",
      " 3280/5000: episode: 321, duration: 0.149s, episode steps: 9, steps per second: 60, episode reward: 9.000, mean reward: 1.000 [1.000, 1.000], mean action: 0.222 [0.000, 1.000], mean observation: 0.139 [-1.332, 2.103], loss: 2.346321, mean_absolute_error: 4.786927, mean_q: 8.197727\n",
      " 3290/5000: episode: 322, duration: 0.166s, episode steps: 10, steps per second: 60, episode reward: 10.000, mean reward: 1.000 [1.000, 1.000], mean action: 0.200 [0.000, 1.000], mean observation: 0.161 [-1.526, 2.444], loss: 2.935482, mean_absolute_error: 4.829158, mean_q: 8.055832\n",
      " 3300/5000: episode: 323, duration: 0.167s, episode steps: 10, steps per second: 60, episode reward: 10.000, mean reward: 1.000 [1.000, 1.000], mean action: 0.100 [0.000, 1.000], mean observation: 0.137 [-1.563, 2.570], loss: 2.944520, mean_absolute_error: 4.795106, mean_q: 8.114916\n",
      " 3309/5000: episode: 324, duration: 0.150s, episode steps: 9, steps per second: 60, episode reward: 9.000, mean reward: 1.000 [1.000, 1.000], mean action: 0.111 [0.000, 1.000], mean observation: 0.137 [-1.388, 2.231], loss: 2.333799, mean_absolute_error: 4.875931, mean_q: 8.351180\n"
     ]
    },
    {
     "name": "stdout",
     "output_type": "stream",
     "text": [
      " 3317/5000: episode: 325, duration: 0.132s, episode steps: 8, steps per second: 60, episode reward: 8.000, mean reward: 1.000 [1.000, 1.000], mean action: 0.125 [0.000, 1.000], mean observation: 0.143 [-1.405, 2.206], loss: 2.413092, mean_absolute_error: 4.678598, mean_q: 7.973662\n",
      " 3330/5000: episode: 326, duration: 0.216s, episode steps: 13, steps per second: 60, episode reward: 13.000, mean reward: 1.000 [1.000, 1.000], mean action: 0.385 [0.000, 1.000], mean observation: 0.108 [-1.122, 1.757], loss: 2.092863, mean_absolute_error: 4.794716, mean_q: 8.233026\n",
      " 3340/5000: episode: 327, duration: 0.167s, episode steps: 10, steps per second: 60, episode reward: 10.000, mean reward: 1.000 [1.000, 1.000], mean action: 0.300 [0.000, 1.000], mean observation: 0.145 [-0.959, 1.703], loss: 2.652409, mean_absolute_error: 4.745459, mean_q: 7.933897\n",
      " 3354/5000: episode: 328, duration: 0.233s, episode steps: 14, steps per second: 60, episode reward: 14.000, mean reward: 1.000 [1.000, 1.000], mean action: 0.429 [0.000, 1.000], mean observation: 0.102 [-0.979, 1.457], loss: 2.955605, mean_absolute_error: 4.829865, mean_q: 8.119245\n",
      " 3366/5000: episode: 329, duration: 0.200s, episode steps: 12, steps per second: 60, episode reward: 12.000, mean reward: 1.000 [1.000, 1.000], mean action: 0.417 [0.000, 1.000], mean observation: 0.112 [-0.776, 1.310], loss: 1.996079, mean_absolute_error: 4.679394, mean_q: 8.039041\n",
      " 3376/5000: episode: 330, duration: 0.166s, episode steps: 10, steps per second: 60, episode reward: 10.000, mean reward: 1.000 [1.000, 1.000], mean action: 0.400 [0.000, 1.000], mean observation: 0.102 [-1.026, 1.587], loss: 3.003265, mean_absolute_error: 4.870984, mean_q: 8.211134\n",
      " 3385/5000: episode: 331, duration: 0.151s, episode steps: 9, steps per second: 60, episode reward: 9.000, mean reward: 1.000 [1.000, 1.000], mean action: 0.333 [0.000, 1.000], mean observation: 0.111 [-1.021, 1.596], loss: 2.428135, mean_absolute_error: 4.803492, mean_q: 8.194447\n",
      " 3396/5000: episode: 332, duration: 0.184s, episode steps: 11, steps per second: 60, episode reward: 11.000, mean reward: 1.000 [1.000, 1.000], mean action: 0.364 [0.000, 1.000], mean observation: 0.105 [-1.196, 1.733], loss: 2.556678, mean_absolute_error: 4.713332, mean_q: 7.993786\n",
      " 3409/5000: episode: 333, duration: 0.217s, episode steps: 13, steps per second: 60, episode reward: 13.000, mean reward: 1.000 [1.000, 1.000], mean action: 0.308 [0.000, 1.000], mean observation: 0.096 [-1.186, 1.946], loss: 2.923634, mean_absolute_error: 4.818541, mean_q: 8.122968\n",
      " 3422/5000: episode: 334, duration: 0.214s, episode steps: 13, steps per second: 61, episode reward: 13.000, mean reward: 1.000 [1.000, 1.000], mean action: 0.385 [0.000, 1.000], mean observation: 0.093 [-1.202, 1.710], loss: 1.817721, mean_absolute_error: 4.715414, mean_q: 8.123211\n",
      " 3435/5000: episode: 335, duration: 0.218s, episode steps: 13, steps per second: 60, episode reward: 13.000, mean reward: 1.000 [1.000, 1.000], mean action: 0.385 [0.000, 1.000], mean observation: 0.096 [-0.968, 1.465], loss: 2.271946, mean_absolute_error: 4.767001, mean_q: 8.106949\n",
      " 3444/5000: episode: 336, duration: 0.150s, episode steps: 9, steps per second: 60, episode reward: 9.000, mean reward: 1.000 [1.000, 1.000], mean action: 0.333 [0.000, 1.000], mean observation: 0.106 [-1.029, 1.588], loss: 2.434198, mean_absolute_error: 4.831567, mean_q: 8.222591\n",
      " 3453/5000: episode: 337, duration: 0.150s, episode steps: 9, steps per second: 60, episode reward: 9.000, mean reward: 1.000 [1.000, 1.000], mean action: 0.333 [0.000, 1.000], mean observation: 0.131 [-0.963, 1.660], loss: 2.165308, mean_absolute_error: 4.841014, mean_q: 8.364109\n",
      " 3462/5000: episode: 338, duration: 0.149s, episode steps: 9, steps per second: 60, episode reward: 9.000, mean reward: 1.000 [1.000, 1.000], mean action: 0.333 [0.000, 1.000], mean observation: 0.150 [-0.985, 1.661], loss: 2.751128, mean_absolute_error: 4.978120, mean_q: 8.486708\n",
      " 3474/5000: episode: 339, duration: 0.199s, episode steps: 12, steps per second: 60, episode reward: 12.000, mean reward: 1.000 [1.000, 1.000], mean action: 0.333 [0.000, 1.000], mean observation: 0.116 [-0.978, 1.566], loss: 2.115330, mean_absolute_error: 4.787868, mean_q: 8.238544\n",
      " 3483/5000: episode: 340, duration: 0.150s, episode steps: 9, steps per second: 60, episode reward: 9.000, mean reward: 1.000 [1.000, 1.000], mean action: 0.333 [0.000, 1.000], mean observation: 0.151 [-0.943, 1.629], loss: 2.705419, mean_absolute_error: 4.858455, mean_q: 8.241161\n",
      " 3494/5000: episode: 341, duration: 0.183s, episode steps: 11, steps per second: 60, episode reward: 11.000, mean reward: 1.000 [1.000, 1.000], mean action: 0.273 [0.000, 1.000], mean observation: 0.116 [-1.166, 1.903], loss: 2.376087, mean_absolute_error: 4.613307, mean_q: 7.856648\n",
      " 3503/5000: episode: 342, duration: 0.150s, episode steps: 9, steps per second: 60, episode reward: 9.000, mean reward: 1.000 [1.000, 1.000], mean action: 0.333 [0.000, 1.000], mean observation: 0.126 [-1.190, 1.897], loss: 2.302772, mean_absolute_error: 4.754084, mean_q: 8.102382\n",
      " 3515/5000: episode: 343, duration: 0.199s, episode steps: 12, steps per second: 60, episode reward: 12.000, mean reward: 1.000 [1.000, 1.000], mean action: 0.417 [0.000, 1.000], mean observation: 0.109 [-1.198, 1.753], loss: 2.223205, mean_absolute_error: 4.822974, mean_q: 8.325448\n",
      " 3527/5000: episode: 344, duration: 0.200s, episode steps: 12, steps per second: 60, episode reward: 12.000, mean reward: 1.000 [1.000, 1.000], mean action: 0.417 [0.000, 1.000], mean observation: 0.101 [-1.014, 1.495], loss: 2.444699, mean_absolute_error: 4.785184, mean_q: 8.161710\n",
      " 3537/5000: episode: 345, duration: 0.165s, episode steps: 10, steps per second: 61, episode reward: 10.000, mean reward: 1.000 [1.000, 1.000], mean action: 0.300 [0.000, 1.000], mean observation: 0.136 [-1.355, 2.106], loss: 2.160278, mean_absolute_error: 4.779078, mean_q: 8.188848\n",
      " 3549/5000: episode: 346, duration: 0.201s, episode steps: 12, steps per second: 60, episode reward: 12.000, mean reward: 1.000 [1.000, 1.000], mean action: 0.333 [0.000, 1.000], mean observation: 0.119 [-0.938, 1.534], loss: 2.480550, mean_absolute_error: 4.731833, mean_q: 8.002363\n",
      " 3558/5000: episode: 347, duration: 0.149s, episode steps: 9, steps per second: 60, episode reward: 9.000, mean reward: 1.000 [1.000, 1.000], mean action: 0.333 [0.000, 1.000], mean observation: 0.134 [-0.962, 1.586], loss: 2.019849, mean_absolute_error: 4.717604, mean_q: 8.104736\n",
      " 3569/5000: episode: 348, duration: 0.183s, episode steps: 11, steps per second: 60, episode reward: 11.000, mean reward: 1.000 [1.000, 1.000], mean action: 0.364 [0.000, 1.000], mean observation: 0.114 [-0.929, 1.487], loss: 2.745636, mean_absolute_error: 4.791448, mean_q: 8.051636\n",
      " 3580/5000: episode: 349, duration: 0.183s, episode steps: 11, steps per second: 60, episode reward: 11.000, mean reward: 1.000 [1.000, 1.000], mean action: 0.273 [0.000, 1.000], mean observation: 0.128 [-0.949, 1.678], loss: 2.190939, mean_absolute_error: 4.863472, mean_q: 8.386561\n",
      " 3592/5000: episode: 350, duration: 0.201s, episode steps: 12, steps per second: 60, episode reward: 12.000, mean reward: 1.000 [1.000, 1.000], mean action: 0.417 [0.000, 1.000], mean observation: 0.078 [-1.013, 1.457], loss: 2.271788, mean_absolute_error: 4.849176, mean_q: 8.339509\n",
      " 3602/5000: episode: 351, duration: 0.165s, episode steps: 10, steps per second: 61, episode reward: 10.000, mean reward: 1.000 [1.000, 1.000], mean action: 0.300 [0.000, 1.000], mean observation: 0.124 [-0.990, 1.582], loss: 2.270044, mean_absolute_error: 4.734375, mean_q: 8.047277\n",
      " 3616/5000: episode: 352, duration: 0.233s, episode steps: 14, steps per second: 60, episode reward: 14.000, mean reward: 1.000 [1.000, 1.000], mean action: 0.357 [0.000, 1.000], mean observation: 0.084 [-0.979, 1.492], loss: 2.245604, mean_absolute_error: 4.688354, mean_q: 8.007636\n",
      " 3625/5000: episode: 353, duration: 0.150s, episode steps: 9, steps per second: 60, episode reward: 9.000, mean reward: 1.000 [1.000, 1.000], mean action: 0.333 [0.000, 1.000], mean observation: 0.129 [-1.004, 1.582], loss: 2.745382, mean_absolute_error: 4.769053, mean_q: 7.999346\n"
     ]
    },
    {
     "name": "stdout",
     "output_type": "stream",
     "text": [
      " 3637/5000: episode: 354, duration: 0.199s, episode steps: 12, steps per second: 60, episode reward: 12.000, mean reward: 1.000 [1.000, 1.000], mean action: 0.417 [0.000, 1.000], mean observation: 0.114 [-0.740, 1.263], loss: 2.099151, mean_absolute_error: 4.555119, mean_q: 7.753989\n",
      " 3650/5000: episode: 355, duration: 0.217s, episode steps: 13, steps per second: 60, episode reward: 13.000, mean reward: 1.000 [1.000, 1.000], mean action: 0.385 [0.000, 1.000], mean observation: 0.085 [-0.998, 1.441], loss: 2.280572, mean_absolute_error: 4.712335, mean_q: 8.016583\n",
      " 3664/5000: episode: 356, duration: 0.234s, episode steps: 14, steps per second: 60, episode reward: 14.000, mean reward: 1.000 [1.000, 1.000], mean action: 0.357 [0.000, 1.000], mean observation: 0.073 [-0.960, 1.489], loss: 1.921081, mean_absolute_error: 4.693148, mean_q: 8.107881\n",
      " 3674/5000: episode: 357, duration: 0.166s, episode steps: 10, steps per second: 60, episode reward: 10.000, mean reward: 1.000 [1.000, 1.000], mean action: 0.300 [0.000, 1.000], mean observation: 0.122 [-1.131, 1.822], loss: 2.114450, mean_absolute_error: 4.871486, mean_q: 8.432581\n",
      " 3685/5000: episode: 358, duration: 0.183s, episode steps: 11, steps per second: 60, episode reward: 11.000, mean reward: 1.000 [1.000, 1.000], mean action: 0.364 [0.000, 1.000], mean observation: 0.092 [-1.021, 1.623], loss: 2.165277, mean_absolute_error: 4.701631, mean_q: 8.069259\n",
      " 3696/5000: episode: 359, duration: 0.184s, episode steps: 11, steps per second: 60, episode reward: 11.000, mean reward: 1.000 [1.000, 1.000], mean action: 0.364 [0.000, 1.000], mean observation: 0.131 [-1.147, 1.829], loss: 2.306751, mean_absolute_error: 4.870652, mean_q: 8.370537\n",
      " 3708/5000: episode: 360, duration: 0.198s, episode steps: 12, steps per second: 61, episode reward: 12.000, mean reward: 1.000 [1.000, 1.000], mean action: 0.333 [0.000, 1.000], mean observation: 0.102 [-1.125, 1.712], loss: 2.471171, mean_absolute_error: 4.811240, mean_q: 8.209107\n",
      " 3718/5000: episode: 361, duration: 0.167s, episode steps: 10, steps per second: 60, episode reward: 10.000, mean reward: 1.000 [1.000, 1.000], mean action: 0.200 [0.000, 1.000], mean observation: 0.119 [-1.204, 1.929], loss: 2.311176, mean_absolute_error: 4.796829, mean_q: 8.189431\n",
      " 3729/5000: episode: 362, duration: 0.182s, episode steps: 11, steps per second: 61, episode reward: 11.000, mean reward: 1.000 [1.000, 1.000], mean action: 0.364 [0.000, 1.000], mean observation: 0.107 [-1.211, 1.823], loss: 2.334104, mean_absolute_error: 4.732788, mean_q: 8.109116\n",
      " 3738/5000: episode: 363, duration: 0.152s, episode steps: 9, steps per second: 59, episode reward: 9.000, mean reward: 1.000 [1.000, 1.000], mean action: 0.333 [0.000, 1.000], mean observation: 0.135 [-1.005, 1.584], loss: 2.357600, mean_absolute_error: 4.696098, mean_q: 7.969155\n",
      " 3749/5000: episode: 364, duration: 0.181s, episode steps: 11, steps per second: 61, episode reward: 11.000, mean reward: 1.000 [1.000, 1.000], mean action: 0.364 [0.000, 1.000], mean observation: 0.116 [-0.941, 1.555], loss: 2.476363, mean_absolute_error: 4.747259, mean_q: 8.025489\n",
      " 3761/5000: episode: 365, duration: 0.200s, episode steps: 12, steps per second: 60, episode reward: 12.000, mean reward: 1.000 [1.000, 1.000], mean action: 0.333 [0.000, 1.000], mean observation: 0.115 [-0.931, 1.470], loss: 2.051026, mean_absolute_error: 4.754181, mean_q: 8.190150\n",
      " 3771/5000: episode: 366, duration: 0.166s, episode steps: 10, steps per second: 60, episode reward: 10.000, mean reward: 1.000 [1.000, 1.000], mean action: 0.300 [0.000, 1.000], mean observation: 0.113 [-1.164, 1.872], loss: 2.399866, mean_absolute_error: 4.766286, mean_q: 8.086811\n",
      " 3780/5000: episode: 367, duration: 0.151s, episode steps: 9, steps per second: 60, episode reward: 9.000, mean reward: 1.000 [1.000, 1.000], mean action: 0.222 [0.000, 1.000], mean observation: 0.142 [-1.131, 1.873], loss: 2.588006, mean_absolute_error: 4.715101, mean_q: 7.973911\n",
      " 3791/5000: episode: 368, duration: 0.182s, episode steps: 11, steps per second: 61, episode reward: 11.000, mean reward: 1.000 [1.000, 1.000], mean action: 0.364 [0.000, 1.000], mean observation: 0.112 [-1.174, 1.820], loss: 1.848388, mean_absolute_error: 4.683170, mean_q: 8.075873\n",
      " 3801/5000: episode: 369, duration: 0.166s, episode steps: 10, steps per second: 60, episode reward: 10.000, mean reward: 1.000 [1.000, 1.000], mean action: 0.400 [0.000, 1.000], mean observation: 0.132 [-1.137, 1.822], loss: 2.170355, mean_absolute_error: 4.699981, mean_q: 8.068250\n",
      " 3811/5000: episode: 370, duration: 0.167s, episode steps: 10, steps per second: 60, episode reward: 10.000, mean reward: 1.000 [1.000, 1.000], mean action: 0.300 [0.000, 1.000], mean observation: 0.110 [-1.014, 1.559], loss: 2.620269, mean_absolute_error: 4.693292, mean_q: 7.877802\n",
      " 3822/5000: episode: 371, duration: 0.183s, episode steps: 11, steps per second: 60, episode reward: 11.000, mean reward: 1.000 [1.000, 1.000], mean action: 0.364 [0.000, 1.000], mean observation: 0.098 [-0.966, 1.510], loss: 2.160902, mean_absolute_error: 4.673201, mean_q: 8.013757\n",
      " 3834/5000: episode: 372, duration: 0.200s, episode steps: 12, steps per second: 60, episode reward: 12.000, mean reward: 1.000 [1.000, 1.000], mean action: 0.417 [0.000, 1.000], mean observation: 0.100 [-0.990, 1.529], loss: 2.188696, mean_absolute_error: 4.731791, mean_q: 8.056993\n",
      " 3844/5000: episode: 373, duration: 0.165s, episode steps: 10, steps per second: 61, episode reward: 10.000, mean reward: 1.000 [1.000, 1.000], mean action: 0.400 [0.000, 1.000], mean observation: 0.111 [-0.957, 1.521], loss: 2.040276, mean_absolute_error: 4.545474, mean_q: 7.757910\n",
      " 3858/5000: episode: 374, duration: 0.234s, episode steps: 14, steps per second: 60, episode reward: 14.000, mean reward: 1.000 [1.000, 1.000], mean action: 0.429 [0.000, 1.000], mean observation: 0.078 [-0.962, 1.481], loss: 1.791229, mean_absolute_error: 4.533471, mean_q: 7.802018\n",
      " 3869/5000: episode: 375, duration: 0.183s, episode steps: 11, steps per second: 60, episode reward: 11.000, mean reward: 1.000 [1.000, 1.000], mean action: 0.364 [0.000, 1.000], mean observation: 0.116 [-0.752, 1.272], loss: 2.627795, mean_absolute_error: 4.769354, mean_q: 8.031570\n",
      " 3884/5000: episode: 376, duration: 0.250s, episode steps: 15, steps per second: 60, episode reward: 15.000, mean reward: 1.000 [1.000, 1.000], mean action: 0.467 [0.000, 1.000], mean observation: 0.087 [-0.831, 1.278], loss: 2.196490, mean_absolute_error: 4.758388, mean_q: 8.144819\n",
      " 3895/5000: episode: 377, duration: 0.182s, episode steps: 11, steps per second: 60, episode reward: 11.000, mean reward: 1.000 [1.000, 1.000], mean action: 0.455 [0.000, 1.000], mean observation: 0.114 [-0.826, 1.325], loss: 2.063062, mean_absolute_error: 4.709073, mean_q: 8.095840\n",
      " 3906/5000: episode: 378, duration: 0.184s, episode steps: 11, steps per second: 60, episode reward: 11.000, mean reward: 1.000 [1.000, 1.000], mean action: 0.455 [0.000, 1.000], mean observation: 0.130 [-0.793, 1.257], loss: 2.167313, mean_absolute_error: 4.615455, mean_q: 7.872151\n",
      " 3920/5000: episode: 379, duration: 0.233s, episode steps: 14, steps per second: 60, episode reward: 14.000, mean reward: 1.000 [1.000, 1.000], mean action: 0.429 [0.000, 1.000], mean observation: 0.095 [-0.781, 1.256], loss: 2.293973, mean_absolute_error: 4.720748, mean_q: 8.013714\n",
      " 3932/5000: episode: 380, duration: 0.199s, episode steps: 12, steps per second: 60, episode reward: 12.000, mean reward: 1.000 [1.000, 1.000], mean action: 0.333 [0.000, 1.000], mean observation: 0.132 [-0.802, 1.562], loss: 1.813000, mean_absolute_error: 4.674996, mean_q: 8.152147\n",
      " 3943/5000: episode: 381, duration: 0.184s, episode steps: 11, steps per second: 60, episode reward: 11.000, mean reward: 1.000 [1.000, 1.000], mean action: 0.455 [0.000, 1.000], mean observation: 0.093 [-0.832, 1.300], loss: 2.270194, mean_absolute_error: 4.713146, mean_q: 8.032900\n",
      " 3960/5000: episode: 382, duration: 0.284s, episode steps: 17, steps per second: 60, episode reward: 17.000, mean reward: 1.000 [1.000, 1.000], mean action: 0.471 [0.000, 1.000], mean observation: 0.065 [-0.797, 1.121], loss: 2.011524, mean_absolute_error: 4.736919, mean_q: 8.150911\n"
     ]
    },
    {
     "name": "stdout",
     "output_type": "stream",
     "text": [
      " 3977/5000: episode: 383, duration: 0.282s, episode steps: 17, steps per second: 60, episode reward: 17.000, mean reward: 1.000 [1.000, 1.000], mean action: 0.471 [0.000, 1.000], mean observation: 0.059 [-0.980, 1.357], loss: 2.265724, mean_absolute_error: 4.618610, mean_q: 7.787598\n",
      " 3990/5000: episode: 384, duration: 0.217s, episode steps: 13, steps per second: 60, episode reward: 13.000, mean reward: 1.000 [1.000, 1.000], mean action: 0.462 [0.000, 1.000], mean observation: 0.089 [-0.831, 1.220], loss: 2.099079, mean_absolute_error: 4.671297, mean_q: 8.013646\n",
      " 4009/5000: episode: 385, duration: 0.316s, episode steps: 19, steps per second: 60, episode reward: 19.000, mean reward: 1.000 [1.000, 1.000], mean action: 0.474 [0.000, 1.000], mean observation: 0.068 [-0.780, 1.161], loss: 2.486734, mean_absolute_error: 4.690415, mean_q: 7.916396\n",
      " 4021/5000: episode: 386, duration: 0.199s, episode steps: 12, steps per second: 60, episode reward: 12.000, mean reward: 1.000 [1.000, 1.000], mean action: 0.417 [0.000, 1.000], mean observation: 0.101 [-0.749, 1.372], loss: 2.045284, mean_absolute_error: 4.671200, mean_q: 7.989643\n",
      " 4033/5000: episode: 387, duration: 0.201s, episode steps: 12, steps per second: 60, episode reward: 12.000, mean reward: 1.000 [1.000, 1.000], mean action: 0.417 [0.000, 1.000], mean observation: 0.101 [-0.787, 1.237], loss: 1.875914, mean_absolute_error: 4.612959, mean_q: 7.950882\n",
      " 4044/5000: episode: 388, duration: 0.182s, episode steps: 11, steps per second: 61, episode reward: 11.000, mean reward: 1.000 [1.000, 1.000], mean action: 0.455 [0.000, 1.000], mean observation: 0.105 [-0.831, 1.225], loss: 2.190940, mean_absolute_error: 4.695028, mean_q: 8.021264\n",
      " 4064/5000: episode: 389, duration: 0.333s, episode steps: 20, steps per second: 60, episode reward: 20.000, mean reward: 1.000 [1.000, 1.000], mean action: 0.500 [0.000, 1.000], mean observation: 0.051 [-0.803, 1.117], loss: 2.077846, mean_absolute_error: 4.645672, mean_q: 7.931624\n",
      " 4096/5000: episode: 390, duration: 0.534s, episode steps: 32, steps per second: 60, episode reward: 32.000, mean reward: 1.000 [1.000, 1.000], mean action: 0.531 [0.000, 1.000], mean observation: 0.060 [-0.813, 1.066], loss: 2.053872, mean_absolute_error: 4.668499, mean_q: 8.008677\n",
      " 4117/5000: episode: 391, duration: 0.350s, episode steps: 21, steps per second: 60, episode reward: 21.000, mean reward: 1.000 [1.000, 1.000], mean action: 0.524 [0.000, 1.000], mean observation: 0.089 [-0.557, 0.844], loss: 2.182544, mean_absolute_error: 4.628941, mean_q: 7.871995\n",
      " 4145/5000: episode: 392, duration: 0.466s, episode steps: 28, steps per second: 60, episode reward: 28.000, mean reward: 1.000 [1.000, 1.000], mean action: 0.536 [0.000, 1.000], mean observation: 0.097 [-0.593, 0.907], loss: 2.081837, mean_absolute_error: 4.676680, mean_q: 7.994290\n",
      " 4172/5000: episode: 393, duration: 0.449s, episode steps: 27, steps per second: 60, episode reward: 27.000, mean reward: 1.000 [1.000, 1.000], mean action: 0.556 [0.000, 1.000], mean observation: 0.126 [-0.370, 0.671], loss: 2.031192, mean_absolute_error: 4.645822, mean_q: 8.002400\n",
      " 4194/5000: episode: 394, duration: 0.367s, episode steps: 22, steps per second: 60, episode reward: 22.000, mean reward: 1.000 [1.000, 1.000], mean action: 0.500 [0.000, 1.000], mean observation: 0.093 [-0.434, 0.780], loss: 2.010317, mean_absolute_error: 4.667420, mean_q: 8.012885\n",
      " 4217/5000: episode: 395, duration: 0.383s, episode steps: 23, steps per second: 60, episode reward: 23.000, mean reward: 1.000 [1.000, 1.000], mean action: 0.522 [0.000, 1.000], mean observation: 0.075 [-0.790, 1.081], loss: 1.860106, mean_absolute_error: 4.602234, mean_q: 7.940805\n",
      " 4234/5000: episode: 396, duration: 0.282s, episode steps: 17, steps per second: 60, episode reward: 17.000, mean reward: 1.000 [1.000, 1.000], mean action: 0.529 [0.000, 1.000], mean observation: 0.108 [-0.603, 0.930], loss: 2.296177, mean_absolute_error: 4.660168, mean_q: 7.967970\n",
      " 4256/5000: episode: 397, duration: 0.368s, episode steps: 22, steps per second: 60, episode reward: 22.000, mean reward: 1.000 [1.000, 1.000], mean action: 0.500 [0.000, 1.000], mean observation: 0.103 [-0.551, 0.924], loss: 2.180331, mean_absolute_error: 4.680542, mean_q: 8.021321\n",
      " 4275/5000: episode: 398, duration: 0.315s, episode steps: 19, steps per second: 60, episode reward: 19.000, mean reward: 1.000 [1.000, 1.000], mean action: 0.526 [0.000, 1.000], mean observation: 0.098 [-0.572, 0.890], loss: 1.923156, mean_absolute_error: 4.674584, mean_q: 8.030973\n",
      " 4291/5000: episode: 399, duration: 0.266s, episode steps: 16, steps per second: 60, episode reward: 16.000, mean reward: 1.000 [1.000, 1.000], mean action: 0.438 [0.000, 1.000], mean observation: 0.096 [-0.636, 1.265], loss: 2.310380, mean_absolute_error: 4.644957, mean_q: 7.869574\n",
      " 4312/5000: episode: 400, duration: 0.350s, episode steps: 21, steps per second: 60, episode reward: 21.000, mean reward: 1.000 [1.000, 1.000], mean action: 0.524 [0.000, 1.000], mean observation: 0.096 [-0.570, 0.938], loss: 1.952772, mean_absolute_error: 4.689266, mean_q: 8.041643\n",
      " 4327/5000: episode: 401, duration: 0.250s, episode steps: 15, steps per second: 60, episode reward: 15.000, mean reward: 1.000 [1.000, 1.000], mean action: 0.467 [0.000, 1.000], mean observation: 0.089 [-0.632, 0.962], loss: 1.978450, mean_absolute_error: 4.636081, mean_q: 7.970169\n",
      " 4344/5000: episode: 402, duration: 0.283s, episode steps: 17, steps per second: 60, episode reward: 17.000, mean reward: 1.000 [1.000, 1.000], mean action: 0.471 [0.000, 1.000], mean observation: 0.081 [-0.622, 0.958], loss: 1.874803, mean_absolute_error: 4.665285, mean_q: 8.059899\n",
      " 4358/5000: episode: 403, duration: 0.233s, episode steps: 14, steps per second: 60, episode reward: 14.000, mean reward: 1.000 [1.000, 1.000], mean action: 0.500 [0.000, 1.000], mean observation: 0.094 [-0.769, 1.183], loss: 2.159043, mean_absolute_error: 4.782135, mean_q: 8.253589\n",
      " 4383/5000: episode: 404, duration: 0.416s, episode steps: 25, steps per second: 60, episode reward: 25.000, mean reward: 1.000 [1.000, 1.000], mean action: 0.520 [0.000, 1.000], mean observation: 0.095 [-0.613, 0.945], loss: 2.366243, mean_absolute_error: 4.761127, mean_q: 8.138764\n",
      " 4416/5000: episode: 405, duration: 0.551s, episode steps: 33, steps per second: 60, episode reward: 33.000, mean reward: 1.000 [1.000, 1.000], mean action: 0.515 [0.000, 1.000], mean observation: 0.115 [-0.574, 0.899], loss: 2.023729, mean_absolute_error: 4.746701, mean_q: 8.204146\n",
      " 4451/5000: episode: 406, duration: 0.583s, episode steps: 35, steps per second: 60, episode reward: 35.000, mean reward: 1.000 [1.000, 1.000], mean action: 0.543 [0.000, 1.000], mean observation: 0.091 [-0.585, 0.871], loss: 1.869088, mean_absolute_error: 4.778909, mean_q: 8.320805\n",
      " 4496/5000: episode: 407, duration: 0.750s, episode steps: 45, steps per second: 60, episode reward: 45.000, mean reward: 1.000 [1.000, 1.000], mean action: 0.533 [0.000, 1.000], mean observation: 0.063 [-0.424, 0.733], loss: 2.136760, mean_absolute_error: 4.762172, mean_q: 8.201837\n",
      " 4517/5000: episode: 408, duration: 0.350s, episode steps: 21, steps per second: 60, episode reward: 21.000, mean reward: 1.000 [1.000, 1.000], mean action: 0.524 [0.000, 1.000], mean observation: 0.083 [-0.791, 1.141], loss: 2.217176, mean_absolute_error: 4.810498, mean_q: 8.235209\n",
      " 4539/5000: episode: 409, duration: 0.367s, episode steps: 22, steps per second: 60, episode reward: 22.000, mean reward: 1.000 [1.000, 1.000], mean action: 0.500 [0.000, 1.000], mean observation: 0.078 [-0.614, 0.946], loss: 2.140888, mean_absolute_error: 4.809044, mean_q: 8.317531\n",
      " 4560/5000: episode: 410, duration: 0.350s, episode steps: 21, steps per second: 60, episode reward: 21.000, mean reward: 1.000 [1.000, 1.000], mean action: 0.476 [0.000, 1.000], mean observation: 0.062 [-0.613, 1.064], loss: 1.885243, mean_absolute_error: 4.782003, mean_q: 8.305592\n",
      " 4580/5000: episode: 411, duration: 0.333s, episode steps: 20, steps per second: 60, episode reward: 20.000, mean reward: 1.000 [1.000, 1.000], mean action: 0.500 [0.000, 1.000], mean observation: 0.080 [-0.737, 1.146], loss: 2.592078, mean_absolute_error: 4.881892, mean_q: 8.316117\n"
     ]
    },
    {
     "name": "stdout",
     "output_type": "stream",
     "text": [
      " 4592/5000: episode: 412, duration: 0.200s, episode steps: 12, steps per second: 60, episode reward: 12.000, mean reward: 1.000 [1.000, 1.000], mean action: 0.417 [0.000, 1.000], mean observation: 0.122 [-0.764, 1.415], loss: 2.491603, mean_absolute_error: 4.755912, mean_q: 8.060043\n",
      " 4602/5000: episode: 413, duration: 0.166s, episode steps: 10, steps per second: 60, episode reward: 10.000, mean reward: 1.000 [1.000, 1.000], mean action: 0.400 [0.000, 1.000], mean observation: 0.128 [-0.954, 1.579], loss: 1.840471, mean_absolute_error: 4.822448, mean_q: 8.403212\n",
      " 4613/5000: episode: 414, duration: 0.183s, episode steps: 11, steps per second: 60, episode reward: 11.000, mean reward: 1.000 [1.000, 1.000], mean action: 0.455 [0.000, 1.000], mean observation: 0.132 [-0.740, 1.247], loss: 2.209652, mean_absolute_error: 4.782045, mean_q: 8.209985\n",
      " 4630/5000: episode: 415, duration: 0.282s, episode steps: 17, steps per second: 60, episode reward: 17.000, mean reward: 1.000 [1.000, 1.000], mean action: 0.529 [0.000, 1.000], mean observation: 0.099 [-0.796, 1.213], loss: 2.027822, mean_absolute_error: 4.757158, mean_q: 8.253929\n",
      " 4651/5000: episode: 416, duration: 0.350s, episode steps: 21, steps per second: 60, episode reward: 21.000, mean reward: 1.000 [1.000, 1.000], mean action: 0.524 [0.000, 1.000], mean observation: 0.088 [-0.760, 1.168], loss: 2.096873, mean_absolute_error: 4.760966, mean_q: 8.242447\n",
      " 4667/5000: episode: 417, duration: 0.266s, episode steps: 16, steps per second: 60, episode reward: 16.000, mean reward: 1.000 [1.000, 1.000], mean action: 0.500 [0.000, 1.000], mean observation: 0.120 [-0.568, 1.004], loss: 2.045109, mean_absolute_error: 4.738338, mean_q: 8.174625\n",
      " 4682/5000: episode: 418, duration: 0.249s, episode steps: 15, steps per second: 60, episode reward: 15.000, mean reward: 1.000 [1.000, 1.000], mean action: 0.533 [0.000, 1.000], mean observation: 0.120 [-0.567, 0.968], loss: 2.340300, mean_absolute_error: 4.844388, mean_q: 8.313459\n",
      " 4696/5000: episode: 419, duration: 0.234s, episode steps: 14, steps per second: 60, episode reward: 14.000, mean reward: 1.000 [1.000, 1.000], mean action: 0.500 [0.000, 1.000], mean observation: 0.128 [-0.736, 1.236], loss: 2.098133, mean_absolute_error: 4.820497, mean_q: 8.367826\n",
      " 4718/5000: episode: 420, duration: 0.365s, episode steps: 22, steps per second: 60, episode reward: 22.000, mean reward: 1.000 [1.000, 1.000], mean action: 0.500 [0.000, 1.000], mean observation: 0.087 [-0.619, 0.914], loss: 1.925098, mean_absolute_error: 4.833533, mean_q: 8.393238\n",
      " 4732/5000: episode: 421, duration: 0.234s, episode steps: 14, steps per second: 60, episode reward: 14.000, mean reward: 1.000 [1.000, 1.000], mean action: 0.500 [0.000, 1.000], mean observation: 0.121 [-0.559, 1.011], loss: 1.914245, mean_absolute_error: 4.851995, mean_q: 8.437915\n",
      " 4746/5000: episode: 422, duration: 0.234s, episode steps: 14, steps per second: 60, episode reward: 14.000, mean reward: 1.000 [1.000, 1.000], mean action: 0.500 [0.000, 1.000], mean observation: 0.124 [-0.547, 0.991], loss: 1.947641, mean_absolute_error: 4.782148, mean_q: 8.288198\n",
      " 4774/5000: episode: 423, duration: 0.467s, episode steps: 28, steps per second: 60, episode reward: 28.000, mean reward: 1.000 [1.000, 1.000], mean action: 0.500 [0.000, 1.000], mean observation: 0.062 [-0.783, 1.105], loss: 2.034230, mean_absolute_error: 4.802952, mean_q: 8.308762\n",
      " 4789/5000: episode: 424, duration: 0.249s, episode steps: 15, steps per second: 60, episode reward: 15.000, mean reward: 1.000 [1.000, 1.000], mean action: 0.467 [0.000, 1.000], mean observation: 0.098 [-0.786, 1.204], loss: 1.930618, mean_absolute_error: 4.749252, mean_q: 8.262845\n",
      " 4813/5000: episode: 425, duration: 0.400s, episode steps: 24, steps per second: 60, episode reward: 24.000, mean reward: 1.000 [1.000, 1.000], mean action: 0.500 [0.000, 1.000], mean observation: 0.074 [-0.782, 1.137], loss: 2.205020, mean_absolute_error: 4.734607, mean_q: 8.113517\n",
      " 4853/5000: episode: 426, duration: 0.668s, episode steps: 40, steps per second: 60, episode reward: 40.000, mean reward: 1.000 [1.000, 1.000], mean action: 0.550 [0.000, 1.000], mean observation: 0.111 [-0.602, 0.870], loss: 2.105162, mean_absolute_error: 4.795004, mean_q: 8.277521\n",
      " 4878/5000: episode: 427, duration: 0.416s, episode steps: 25, steps per second: 60, episode reward: 25.000, mean reward: 1.000 [1.000, 1.000], mean action: 0.520 [0.000, 1.000], mean observation: 0.091 [-0.563, 0.963], loss: 2.288102, mean_absolute_error: 4.756985, mean_q: 8.151711\n",
      " 4896/5000: episode: 428, duration: 0.299s, episode steps: 18, steps per second: 60, episode reward: 18.000, mean reward: 1.000 [1.000, 1.000], mean action: 0.500 [0.000, 1.000], mean observation: 0.125 [-0.583, 0.951], loss: 2.111119, mean_absolute_error: 4.748623, mean_q: 8.180946\n",
      " 4911/5000: episode: 429, duration: 0.250s, episode steps: 15, steps per second: 60, episode reward: 15.000, mean reward: 1.000 [1.000, 1.000], mean action: 0.467 [0.000, 1.000], mean observation: 0.121 [-0.575, 1.039], loss: 1.912956, mean_absolute_error: 4.774144, mean_q: 8.254360\n",
      " 4933/5000: episode: 430, duration: 0.366s, episode steps: 22, steps per second: 60, episode reward: 22.000, mean reward: 1.000 [1.000, 1.000], mean action: 0.500 [0.000, 1.000], mean observation: 0.053 [-0.782, 1.095], loss: 1.959795, mean_absolute_error: 4.792844, mean_q: 8.319991\n",
      " 4948/5000: episode: 431, duration: 0.250s, episode steps: 15, steps per second: 60, episode reward: 15.000, mean reward: 1.000 [1.000, 1.000], mean action: 0.533 [0.000, 1.000], mean observation: 0.090 [-0.600, 1.001], loss: 1.829696, mean_absolute_error: 4.842779, mean_q: 8.440101\n",
      " 4962/5000: episode: 432, duration: 0.232s, episode steps: 14, steps per second: 60, episode reward: 14.000, mean reward: 1.000 [1.000, 1.000], mean action: 0.500 [0.000, 1.000], mean observation: 0.104 [-0.550, 0.974], loss: 2.490554, mean_absolute_error: 4.922951, mean_q: 8.426794\n",
      " 4976/5000: episode: 433, duration: 0.232s, episode steps: 14, steps per second: 60, episode reward: 14.000, mean reward: 1.000 [1.000, 1.000], mean action: 0.500 [0.000, 1.000], mean observation: 0.099 [-0.816, 1.237], loss: 1.788061, mean_absolute_error: 4.831531, mean_q: 8.453955\n",
      " 4992/5000: episode: 434, duration: 0.267s, episode steps: 16, steps per second: 60, episode reward: 16.000, mean reward: 1.000 [1.000, 1.000], mean action: 0.500 [0.000, 1.000], mean observation: 0.080 [-0.816, 1.218], loss: 2.152534, mean_absolute_error: 4.818578, mean_q: 8.292541\n",
      "done, took 85.210 seconds\n"
     ]
    },
    {
     "data": {
      "text/plain": [
       "<keras.callbacks.History at 0x17761d7fba8>"
      ]
     },
     "execution_count": 4,
     "metadata": {},
     "output_type": "execute_result"
    }
   ],
   "source": [
    "policy = EpsGreedyQPolicy()\n",
    "memory = SequentialMemory(limit=50000, window_length=1)\n",
    "dqn = DQNAgent(model=model, nb_actions=nb_actions, memory=memory, nb_steps_warmup=10,\n",
    "target_model_update=1e-2, policy=policy)\n",
    "dqn.compile(Adam(lr=1e-3), metrics=['mae'])\n",
    "\n",
    "# Okay, now it's time to learn something! We visualize the training here for show, but this slows down training quite a lot. \n",
    "dqn.fit(env, nb_steps=5000, visualize=True, verbose=2)"
   ]
  },
  {
   "cell_type": "code",
   "execution_count": 5,
   "metadata": {},
   "outputs": [
    {
     "name": "stdout",
     "output_type": "stream",
     "text": [
      "Testing for 5 episodes ...\n",
      "Episode 1: reward: 20.000, steps: 20\n",
      "Episode 2: reward: 18.000, steps: 18\n",
      "Episode 3: reward: 15.000, steps: 15\n",
      "Episode 4: reward: 17.000, steps: 17\n",
      "Episode 5: reward: 17.000, steps: 17\n"
     ]
    },
    {
     "data": {
      "text/plain": [
       "<keras.callbacks.History at 0x17667c14e80>"
      ]
     },
     "execution_count": 5,
     "metadata": {},
     "output_type": "execute_result"
    }
   ],
   "source": [
    "dqn.test(env, nb_episodes=5, visualize=True)"
   ]
  }
 ],
 "metadata": {
  "kernelspec": {
   "display_name": "Python 3",
   "language": "python",
   "name": "python3"
  },
  "language_info": {
   "codemirror_mode": {
    "name": "ipython",
    "version": 3
   },
   "file_extension": ".py",
   "mimetype": "text/x-python",
   "name": "python",
   "nbconvert_exporter": "python",
   "pygments_lexer": "ipython3",
   "version": "3.7.0"
  }
 },
 "nbformat": 4,
 "nbformat_minor": 2
}
