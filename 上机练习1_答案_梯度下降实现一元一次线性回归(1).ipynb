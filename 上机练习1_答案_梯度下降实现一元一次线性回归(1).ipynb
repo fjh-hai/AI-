{
 "cells": [
  {
   "cell_type": "code",
   "execution_count": 9,
   "metadata": {},
   "outputs": [],
   "source": [
    "import matplotlib.pyplot as plt\n",
    "import tensorflow as tf\n",
    "%matplotlib inline"
   ]
  },
  {
   "cell_type": "code",
   "execution_count": 10,
   "metadata": {},
   "outputs": [
    {
     "data": {
      "text/plain": [
       "<matplotlib.collections.PathCollection at 0x254976b5b00>"
      ]
     },
     "execution_count": 10,
     "metadata": {},
     "output_type": "execute_result"
    },
    {
     "data": {
      "image/png": "[encoded data removed]",
      "text/plain": [
       "<Figure size 432x288 with 1 Axes>"
      ]
     },
     "metadata": {
      "needs_background": "light"
     },
     "output_type": "display_data"
    }
   ],
   "source": [
    "####### >>>>>填写<<<<<   设置你想要的真实斜率和截距， 以及数据点(50-200) >>>>>填写<<<<< ############\n",
    "true_w = 5\n",
    "true_b = 3\n",
    "num_samples = 200\n",
    "\n",
    "############################################################################################\n",
    "\n",
    "\n",
    "# 初始化随机数据\n",
    "X = tf.random.normal(shape=[num_samples, 1]).numpy()\n",
    "noise = tf.random.normal(shape=[num_samples, 1]).numpy()\n",
    "\n",
    "####### >>>>>填写<<<<< 在下述函数尾端，添加噪音项, 注意删除下划线 >>>>>填写<<<<<  ################################\n",
    "y = X * true_w + true_b + noise\n",
    "#######################################\n",
    "\n",
    "plt.scatter(X, y)"
   ]
  },
  {
   "cell_type": "code",
   "execution_count": 11,
   "metadata": {},
   "outputs": [],
   "source": [
    "\n",
    "W = tf.Variable(tf.random.uniform([1]))  # 随机初始化参数\n",
    "b = tf.Variable(tf.random.uniform([1]))\n",
    "\n",
    "# >>>>>填写<<<<<  定义一个随机一元一次线性函数  y = W * x + b   >>>>>填写<<<<<  ##\n",
    "# 思考 这里的x为什么是小写？ #\n",
    "def random_line(x):\n",
    " \n",
    "    y = W * x + b \n",
    "    return y\n"
   ]
  },
  {
   "cell_type": "code",
   "execution_count": 12,
   "metadata": {},
   "outputs": [
    {
     "data": {
      "text/plain": [
       "[<matplotlib.lines.Line2D at 0x25495645400>]"
      ]
     },
     "execution_count": 12,
     "metadata": {},
     "output_type": "execute_result"
    },
    {
     "data": {
      "image/png": "[encoded data removed]",
      "text/plain": [
       "<Figure size 432x288 with 1 Axes>"
      ]
     },
     "metadata": {
      "needs_background": "light"
     },
     "output_type": "display_data"
    }
   ],
   "source": [
    "plt.scatter(X, y)\n",
    "plt.plot(X, random_line(X), c='r')"
   ]
  },
  {
   "cell_type": "code",
   "execution_count": 13,
   "metadata": {},
   "outputs": [],
   "source": [
    "def loss_fn( x, y):\n",
    "    y_ = random_line(x)\n",
    "    return tf.reduce_mean(tf.square(y_ - y))"
   ]
  },
  {
   "cell_type": "code",
   "execution_count": 14,
   "metadata": {},
   "outputs": [
    {
     "name": "stdout",
     "output_type": "stream",
     "text": [
      "Epoch [0/50], loss [36.283], W is [0.265], b is [0.478]\n",
      "Epoch [1/50], loss [34.595], W is [0.377], b is [0.541]\n",
      "Epoch [2/50], loss [32.988], W is [0.485], b is [0.602]\n",
      "Epoch [3/50], loss [31.458], W is [0.591], b is [0.661]\n",
      "Epoch [4/50], loss [30.002], W is [0.694], b is [0.719]\n",
      "Epoch [5/50], loss [28.615], W is [0.795], b is [0.775]\n",
      "Epoch [6/50], loss [27.295], W is [0.894], b is [0.830]\n",
      "Epoch [7/50], loss [26.038], W is [0.990], b is [0.884]\n",
      "Epoch [8/50], loss [24.842], W is [1.083], b is [0.936]\n",
      "Epoch [9/50], loss [23.703], W is [1.175], b is [0.988]\n",
      "Epoch [10/50], loss [22.618], W is [1.264], b is [1.037]\n",
      "Epoch [11/50], loss [21.586], W is [1.351], b is [1.086]\n",
      "Epoch [12/50], loss [20.603], W is [1.436], b is [1.133]\n",
      "Epoch [13/50], loss [19.667], W is [1.519], b is [1.179]\n",
      "Epoch [14/50], loss [18.776], W is [1.600], b is [1.224]\n",
      "Epoch [15/50], loss [17.928], W is [1.680], b is [1.268]\n",
      "Epoch [16/50], loss [17.121], W is [1.757], b is [1.311]\n",
      "Epoch [17/50], loss [16.352], W is [1.832], b is [1.353]\n",
      "Epoch [18/50], loss [15.620], W is [1.906], b is [1.393]\n",
      "Epoch [19/50], loss [14.923], W is [1.977], b is [1.433]\n",
      "Epoch [20/50], loss [14.260], W is [2.047], b is [1.471]\n",
      "Epoch [21/50], loss [13.629], W is [2.116], b is [1.509]\n",
      "Epoch [22/50], loss [13.027], W is [2.182], b is [1.546]\n",
      "Epoch [23/50], loss [12.455], W is [2.247], b is [1.582]\n",
      "Epoch [24/50], loss [11.910], W is [2.311], b is [1.617]\n",
      "Epoch [25/50], loss [11.391], W is [2.373], b is [1.651]\n",
      "Epoch [26/50], loss [10.897], W is [2.433], b is [1.684]\n",
      "Epoch [27/50], loss [10.427], W is [2.492], b is [1.716]\n",
      "Epoch [28/50], loss [9.979], W is [2.550], b is [1.748]\n",
      "Epoch [29/50], loss [9.553], W is [2.606], b is [1.778]\n",
      "Epoch [30/50], loss [9.147], W is [2.661], b is [1.808]\n",
      "Epoch [31/50], loss [8.761], W is [2.715], b is [1.838]\n",
      "Epoch [32/50], loss [8.393], W is [2.767], b is [1.866]\n",
      "Epoch [33/50], loss [8.043], W is [2.818], b is [1.894]\n",
      "Epoch [34/50], loss [7.710], W is [2.868], b is [1.921]\n",
      "Epoch [35/50], loss [7.392], W is [2.916], b is [1.947]\n",
      "Epoch [36/50], loss [7.090], W is [2.964], b is [1.973]\n",
      "Epoch [37/50], loss [6.802], W is [3.010], b is [1.998]\n",
      "Epoch [38/50], loss [6.529], W is [3.055], b is [2.023]\n",
      "Epoch [39/50], loss [6.268], W is [3.099], b is [2.046]\n",
      "Epoch [40/50], loss [6.020], W is [3.142], b is [2.070]\n",
      "Epoch [41/50], loss [5.783], W is [3.184], b is [2.092]\n",
      "Epoch [42/50], loss [5.558], W is [3.225], b is [2.114]\n",
      "Epoch [43/50], loss [5.344], W is [3.265], b is [2.136]\n",
      "Epoch [44/50], loss [5.140], W is [3.304], b is [2.157]\n",
      "Epoch [45/50], loss [4.946], W is [3.343], b is [2.177]\n",
      "Epoch [46/50], loss [4.761], W is [3.380], b is [2.197]\n",
      "Epoch [47/50], loss [4.585], W is [3.416], b is [2.217]\n",
      "Epoch [48/50], loss [4.417], W is [3.452], b is [2.236]\n",
      "Epoch [49/50], loss [4.258], W is [3.486], b is [2.254]\n"
     ]
    }
   ],
   "source": [
    "### >>>>>填写<<<<< 通过改变epochs 的值，推荐起始10， 和learning rate 学习率 推荐0.1起始 观察梯度下降学习的线性函数w b的值，以及loss函数的变化>>>>>填写<<<<<  ######\n",
    "\n",
    "EPOCHS = 50\n",
    "LEARNING_RATE = 0.01\n",
    "#######################################################################################################################################\n",
    "\n",
    "\n",
    "\n",
    "for epoch in range(EPOCHS):  # 迭代次数\n",
    "    with tf.GradientTape() as tape:  # 追踪梯度\n",
    "        loss = loss_fn(X, y)  # 计算损失\n",
    "    dW, db = tape.gradient(loss, [W, b])  # 计算梯度\n",
    "    W.assign_sub(LEARNING_RATE * dW)  # 更新梯度\n",
    "    b.assign_sub(LEARNING_RATE * db)\n",
    "    # 输出计算过程\n",
    "    print('Epoch [{}/{}], loss [{:.3f}], W is [{:.3f}], b is [{:.3f}]'.format(epoch, EPOCHS, loss,\n",
    "                                                                     float(W.numpy()),\n",
    "                                                                     float(b.numpy())))"
   ]
  }
 ],
 "metadata": {
  "kernelspec": {
   "display_name": "Python 3",
   "language": "python",
   "name": "python3"
  },
  "language_info": {
   "codemirror_mode": {
    "name": "ipython",
    "version": 3
   },
   "file_extension": ".py",
   "mimetype": "text/x-python",
   "name": "python",
   "nbconvert_exporter": "python",
   "pygments_lexer": "ipython3",
   "version": "3.7.0"
  }
 },
 "nbformat": 4,
 "nbformat_minor": 2
}
