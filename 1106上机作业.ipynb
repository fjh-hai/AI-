{
 "cells": [
  {
   "cell_type": "markdown",
   "metadata": {},
   "source": [
    "# 实验一\n",
    "自定义深度卷积申请网络，并在Kaggle猫/狗数据集上进行训练和测试"
   ]
  },
  {
   "cell_type": "markdown",
   "metadata": {},
   "source": [
    "## 1.加载keras模块"
   ]
  },
  {
   "cell_type": "code",
   "execution_count": 1,
   "metadata": {},
   "outputs": [
    {
     "name": "stderr",
     "output_type": "stream",
     "text": [
      "Using TensorFlow backend.\n"
     ]
    }
   ],
   "source": [
    "#加载ImageDataGenerator模块\n",
    "#加载定义CNN的layers、activate function等模块\n",
    "#以下为将预测score转换为类别信息的to_categorical、图像预处理等函数\n",
    "from keras.utils import to_categorical\n",
    "from keras.preprocessing.image import img_to_array\n",
    "from keras.applications.vgg16 import preprocess_input\n",
    "from keras import backend as K\n",
    "from keras.models import Sequential\n",
    "from keras.layers import Dense, Dropout, Flatten, Conv2D, MaxPool2D\n",
    "from keras.optimizers import RMSprop, Adam, SGD\n",
    "from keras.preprocessing.image import ImageDataGenerator\n",
    "import numpy as np\n",
    "import keras\n",
    "from keras.models import Sequential\n",
    "from keras.layers import Dense, Dropout, Flatten, Conv2D, MaxPool2D\n",
    "from keras.layers.normalization import BatchNormalization\n",
    "from keras.preprocessing.image import ImageDataGenerator\n",
    "from keras.callbacks import ReduceLROnPlateau\n",
    "from sklearn.model_selection import train_test_split\n",
    "import seaborn as sns\n",
    "sns.set(style='white', context='notebook', palette='deep')"
   ]
  },
  {
   "cell_type": "markdown",
   "metadata": {},
   "source": [
    "### 定义CNN网络结构\n",
    "首先尝试：自定义深度CNN结构\n",
    "\n",
    "然后尝试：定义Alex/VGG网络结构\n"
   ]
  },
  {
   "cell_type": "code",
   "execution_count": 2,
   "metadata": {
    "scrolled": true
   },
   "outputs": [],
   "source": [
    "#首先定义图像的长和宽，目的是告诉网络输入图像矩阵的大小，便于搭建网络结构\n",
    "#以下为确认图像的通道分量\n",
    "img_width, img_height = 150, 150\n",
    "if K.image_data_format() == 'channels_first':\n",
    "    input_shape = (3, img_width, img_height)\n",
    "else:\n",
    "    input_shape = (img_width, img_height, 3)\n",
    "    \n",
    "#在此定义网络结构    \n",
    "model = Sequential()\n",
    "#第一个 卷积层 32个kernel kernel大小3*3 输出的激活函数relu kernel利用 He-正态分布生成\n",
    "model.add(Conv2D(32, (3, 3),input_shape = input_shape, activation='relu'))\n",
    "model.add(MaxPool2D(pool_size=(2, 2))) \n",
    "\n",
    "#在下述卷积层内32个kernel kernel大小3*3  在之后构建一个kernel size = 2 *2 的池化层 \n",
    "model.add(Conv2D(32, (3, 3), activation='relu'))\n",
    "model.add(MaxPool2D(pool_size=(2, 2)))\n",
    "\n",
    "model.add(Conv2D(64, (3, 3), activation='relu'))\n",
    "model.add(MaxPool2D(pool_size=(2, 2)))\n",
    "\n",
    "#全链接前的一个操作，将feature map转成n*1的一维\n",
    "model.add(Flatten())\n",
    "model.add(Dense(64, activation='relu'))\n",
    "model.add(Dropout(0.2))\n",
    "#构建一个全联接，该全联接需要用特定的激活函数和适当的神经元个数 来实现我们的分类目标\n",
    "model.add(Dense(1, activation='sigmoid'))    \n",
    "optimizer = RMSprop(lr=0.001, rho=0.9, epsilon=0.0000001, decay=0.0)\n",
    "model.compile(optimizer = optimizer , loss = \"binary_crossentropy\", metrics=[\"accuracy\"])             \n",
    "#model.add(BatchNormalization())\n"
   ]
  },
  {
   "cell_type": "markdown",
   "metadata": {},
   "source": [
    "### 查看model架构\n",
    "\n"
   ]
  },
  {
   "cell_type": "code",
   "execution_count": 3,
   "metadata": {},
   "outputs": [
    {
     "name": "stdout",
     "output_type": "stream",
     "text": [
      "Model: \"sequential_1\"\n",
      "_________________________________________________________________\n",
      "Layer (type)                 Output Shape              Param #   \n",
      "=================================================================\n",
      "conv2d_1 (Conv2D)            (None, 148, 148, 32)      896       \n",
      "_________________________________________________________________\n",
      "max_pooling2d_1 (MaxPooling2 (None, 74, 74, 32)        0         \n",
      "_________________________________________________________________\n",
      "conv2d_2 (Conv2D)            (None, 72, 72, 32)        9248      \n",
      "_________________________________________________________________\n",
      "max_pooling2d_2 (MaxPooling2 (None, 36, 36, 32)        0         \n",
      "_________________________________________________________________\n",
      "conv2d_3 (Conv2D)            (None, 34, 34, 64)        18496     \n",
      "_________________________________________________________________\n",
      "max_pooling2d_3 (MaxPooling2 (None, 17, 17, 64)        0         \n",
      "_________________________________________________________________\n",
      "flatten_1 (Flatten)          (None, 18496)             0         \n",
      "_________________________________________________________________\n",
      "dense_1 (Dense)              (None, 64)                1183808   \n",
      "_________________________________________________________________\n",
      "dropout_1 (Dropout)          (None, 64)                0         \n",
      "_________________________________________________________________\n",
      "dense_2 (Dense)              (None, 1)                 65        \n",
      "=================================================================\n",
      "Total params: 1,212,513\n",
      "Trainable params: 1,212,513\n",
      "Non-trainable params: 0\n",
      "_________________________________________________________________\n"
     ]
    }
   ],
   "source": [
    "model.summary()"
   ]
  },
  {
   "cell_type": "markdown",
   "metadata": {},
   "source": [
    "### 定义ImageDataGenerator\n"
   ]
  },
  {
   "cell_type": "code",
   "execution_count": 4,
   "metadata": {},
   "outputs": [
    {
     "name": "stdout",
     "output_type": "stream",
     "text": [
      "Found 10835 images belonging to 2 classes.\n",
      "Found 4000 images belonging to 2 classes.\n"
     ]
    }
   ],
   "source": [
    "#指定train和validation数据路\n",
    "train_data_dir = r\"E:\\\\input\\\\dogs-vs-cats\\\\train\"\n",
    "validation_data_dir = r\"E:\\\\input\\\\dogs-vs-cats\\\\validation\"\n",
    "nb_train_samples = 10835\n",
    "nb_validation_samples = 4000\n",
    "#指定train和validation数据规模\n",
    "epochs = 1\n",
    "batch_size = 20\n",
    "\n",
    "#声明ImageDataGenerator类型的train_datagen用于对training图像进行数据像素归一化和扩增\n",
    "train_datagen = ImageDataGenerator(rescale = 1. / 255, shear_range = 0.2,\n",
    "                                   zoom_range = 0.2, horizontal_flip = True)\n",
    "\n",
    "#声明ImageDataGenerator类型的test_datagen用于对validation图像进行像素归一化\n",
    "test_datagen = ImageDataGenerator(rescale=1. /255)\n",
    "\n",
    "#调用flow_from_directory生成train_generator\n",
    "train_generator = train_datagen.flow_from_directory(train_data_dir, \n",
    "                                                   target_size=(img_width, img_height),\n",
    "                                                   batch_size = batch_size,\n",
    "                                                   class_mode = 'binary')\n",
    "\n",
    "#调用flow_from_directory生成validation_generator\n",
    "validation_generator = train_datagen.flow_from_directory(validation_data_dir, \n",
    "                                                   target_size=(img_width, img_height),\n",
    "                                                   batch_size = batch_size,\n",
    "                                                   class_mode = 'binary')\n",
    "\n",
    "\n"
   ]
  },
  {
   "cell_type": "markdown",
   "metadata": {},
   "source": [
    "### 训练模型\n",
    "\n"
   ]
  },
  {
   "cell_type": "code",
   "execution_count": 5,
   "metadata": {
    "scrolled": true
   },
   "outputs": [
    {
     "name": "stdout",
     "output_type": "stream",
     "text": [
      "Epoch 1/1\n",
      "541/541 [==============================] - 409s 757ms/step - loss: 0.6473 - accuracy: 0.6350 - val_loss: 0.6721 - val_accuracy: 0.6910\n"
     ]
    },
    {
     "data": {
      "text/plain": [
       "<keras.callbacks.callbacks.History at 0x2f41c3fa080>"
      ]
     },
     "execution_count": 5,
     "metadata": {},
     "output_type": "execute_result"
    }
   ],
   "source": [
    "#调用并设置fit_generator函数训练模型\n",
    "model.fit_generator(\n",
    "    train_generator,\n",
    "    steps_per_epoch = nb_train_samples // batch_size,\n",
    "    epochs = epochs,\n",
    "    validation_data = validation_generator,\n",
    "    validation_steps = nb_validation_samples // batch_size)\n",
    "\n"
   ]
  },
  {
   "cell_type": "markdown",
   "metadata": {},
   "source": [
    "### 使用训练后模型预测图像\n",
    "\n",
    "\n",
    "\n"
   ]
  },
  {
   "cell_type": "code",
   "execution_count": 14,
   "metadata": {},
   "outputs": [
    {
     "name": "stdout",
     "output_type": "stream",
     "text": [
      "[[1.]]\n"
     ]
    }
   ],
   "source": [
    "import cv2\n",
    "#调用opencv的imread函数和resize函数读取测试样本并进行尺寸缩放，此处路径可更换\n",
    "img = cv2.resize(cv2.imread(r'E:\\input\\dogs-vs-cats\\test\\229.jpg'), (img_width, img_height)).astype(np.float32)\n",
    "\n",
    "#对图像像素矩阵进行tensor类型转换\n",
    "x = img_to_array(img)\n",
    "x = np.expand_dims(x, axis=0)\n",
    "#用训练好的模型对测试样本进行预测\n",
    "score = model.predict(x)\n",
    "\n",
    "print(score)"
   ]
  },
  {
   "cell_type": "code",
   "execution_count": null,
   "metadata": {},
   "outputs": [],
   "source": []
  }
 ],
 "metadata": {
  "kernelspec": {
   "display_name": "Python 3",
   "language": "python",
   "name": "python3"
  },
  "language_info": {
   "codemirror_mode": {
    "name": "ipython",
    "version": 3
   },
   "file_extension": ".py",
   "mimetype": "text/x-python",
   "name": "python",
   "nbconvert_exporter": "python",
   "pygments_lexer": "ipython3",
   "version": "3.7.0"
  },
  "ssap_exp_config": {
   "error_alert": "Error Occurs!",
   "initial": [],
   "max_iteration": 1000,
   "recv_id": "",
   "running": [],
   "summary": [],
   "version": "1.1.1"
  }
 },
 "nbformat": 4,
 "nbformat_minor": 1
}
