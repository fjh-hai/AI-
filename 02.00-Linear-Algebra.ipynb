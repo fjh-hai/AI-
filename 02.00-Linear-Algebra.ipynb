{
 "cells": [
  {
   "cell_type": "markdown",
   "metadata": {},
   "source": [
    "<!--BOOK_INFORMATION-->\n",
    "<img align=\"left\" style=\"padding-right:10px;\" src=\"figures/DLlogosmall.png\">\n",
    "\n",
    "*This notebook contains an excerpt from the [Deep Learning with Tensorflow 2.0](https://www.adhiraiyan.org/DeepLearningWithTensorflow.html) by Mukesh Mithrakumar. The code is released under the [MIT license](https://opensource.org/licenses/MIT) and is available for FREE [on GitHub](https://github.com/adhiraiyan/DeepLearningWithTF2.0).*\n",
    "\n",
    "*Open Source runs on love, laughter and a whole lot of coffee. Consider buying me [one](https://www.buymeacoffee.com/mmukesh) if you find this content useful!*\n",
    "\n"
   ]
  },
  {
   "cell_type": "markdown",
   "metadata": {},
   "source": [
    "<!--NAVIGATION-->\n",
    "< [01.00 - Preface](01.00-Introduction.ipynb) | [Contents](Index.ipynb) | [03.00 - Probability and Information Theory](03.00-Probability-and-Information-Theory.ipynb) >\n",
    "\n",
    "<a href=\"https://colab.research.google.com/github/adhiraiyan/DeepLearningWithTF2.0/blob/master/notebooks/02.00-Linear-Algebra.ipynb\"><img align=\"left\" src=\"https://colab.research.google.com/assets/colab-badge.svg\" alt=\"Open in Colab\" title=\"Open and Execute in Google Colaboratory\"></a>\n"
   ]
  },
  {
   "cell_type": "markdown",
   "metadata": {
    "colab_type": "text",
    "id": "yeA6xblhq8w8"
   },
   "source": [
    "# 02.00 - Linear Algebra"
   ]
  },
  {
   "cell_type": "markdown",
   "metadata": {
    "colab_type": "text",
    "id": "F-3yQvOQHjLr"
   },
   "source": [
    "Linear algebra is the branch of mathematics concerning linear equations and linear functions and their representations through matrices and vector spaces.\n",
    "\n",
    "Machine Learning relies heavily on Linear Algebra, so it is essential to understand what vectors and matrices are, what operations you can perform with them, and how they can be useful.\n",
    "\n",
    "If you are already familiar with linear algebra, feel free to skip this chapter but note that the implementation of certain functions are different between Tensorflow 1.0 and Tensorflow 2.0 so you should atleast skim through the code.\n",
    "\n",
    "If you have had no exposure at all to linear algebra, this chapter will teach you enough to read this book.\n",
    "#!pip install --upgrade tf-nightly-2.0-preview"
   ]
  },
  {
   "cell_type": "code",
   "execution_count": 1,
   "metadata": {
    "colab": {},
    "colab_type": "code",
    "id": "of02mDcgUuHQ"
   },
   "outputs": [],
   "source": [
    "# Imports\n",
    "import tensorflow as tf\n",
    "import sys\n",
    "import numpy as np\n",
    "import matplotlib.pyplot as plt\n",
    "import pandas as pd\n",
    "\n",
    "\"\"\"\n",
    "If you are running this notebook in Google colab, make sure to upload the helpers.py file to your \n",
    "session before running it, but if you are running this in Binder, then you \n",
    "don't have to worry about it. The helpers.py file will be in the notebook\n",
    "folder in GitHub.\n",
    "\n",
    "\"\"\"\n",
    "from helpers import vector_plot, plot_transform"
   ]
  },
  {
   "cell_type": "markdown",
   "metadata": {
    "colab_type": "text",
    "id": "JBpOlp4jrAoy"
   },
   "source": [
    "# 02.01 - Scalars, Vectors, Matrices and Tensors"
   ]
  },
  {
   "cell_type": "markdown",
   "metadata": {
    "colab_type": "text",
    "id": "kWXNG-cmHrih"
   },
   "source": [
    "__Scalars:__ are just a single number. For example temperature, which is denoted by just one number.\n",
    "\n",
    "\n",
    "__Vectors:__ are an array of numbers. The numbers are arranged in order and we can identify each individual number by its index in that ordering. We can think of vectors as identifying points in space, with each element giving the coordinate along a different axis. In simple terms, a vector is an arrow representing a quantity that has both magnitude and direction wherein the length of the arrow represents the magnitude and the orientation tells you the direction. For example wind, which has a direction and magnitude.\n",
    "\n",
    "__Matrices:__ A matrix is a 2D-array of numbers, so each element is identified by two indices instead of just one. If a real valued matrix $A$ has a height of *m* and a width of *n*, then we say that $A \\in \\mathbb{R}^{m \\times n}$. We identify the elements of the matrix as $A_{m,n}$ where *m* represents the row and *n* represents the column.\n",
    "\n",
    "![Scalars, Vectors, Matrices and Tensors](https://raw.githubusercontent.com/adhiraiyan/DeepLearningWithTF2.0/master/notebooks/figures/fig0201a.png)\n",
    "\n",
    "__Tensors:__ In the general case, are an array of numbers arranged on a regular grid with a variable number of axes is knows as a tensor. We identify the elements of a tensor $A$ at coordinates(*i, j, k*) by writing $A_{i, j, k}$. But to truly understand tensors, we need to expand the way we think of vectors as only arrows with a magnitude and direction. Remember that a vector can be represented by three components, namely the x, y and z components (basis vectors). If you have a pen and a paper, let's do a small experiment, place the pen vertically on the paper and slant it by some angle and now shine a light from top such that the shadow of the pen falls on the paper, this shadow, represents the x component of the vector \"pen\" and the height from the paper to the tip of the pen is the y component. Now, let's take these components to describe tensors, imagine, you are Indiana Jones or a treasure hunter and you are trapped in a cube and there are three arrows flying towards you from the three faces (to represent x, y, z axis) of the cube 😬, I know this will be the last thing you would think in such a situation but you can think of those three arrows as vectors pointing towards you from the three faces of the cube and you can represent those vectors (arrows) in x, y and z components, now that is a rank 2 tensor (matrix) with 9 components. Remember that this is a very very simple explanation of tensors. Following is a representation of a tensor:\n",
    "\n",
    "![Tensors](https://raw.githubusercontent.com/adhiraiyan/DeepLearningWithTF2.0/master/notebooks/figures/fig0201b.PNG)\n",
    "\n"
   ]
  },
  {
   "cell_type": "markdown",
   "metadata": {
    "colab_type": "text",
    "id": "HdIOKDSbNBaz"
   },
   "source": [
    "We can add matrices to each other as long as they have the same shape, just by adding their corresponding elements:\n",
    "\n",
    "$$\\color{orange}{C = A + B \\ where \\ C_{i,j} = A_{i,j} + B_{i,j} \\tag{1}}$$\n",
    "\n",
    "\n",
    "In tensorflow a:\n",
    "\n",
    "- Rank 0 Tensor is a Scalar\n",
    "- Rank 1 Tensor is a Vector\n",
    "- Rank 2 Tensor is a Matrix\n",
    "- Rank 3 Tensor is a 3-Tensor\n",
    "- Rank n Tensor is a n-Tensor"
   ]
  },
  {
   "cell_type": "code",
   "execution_count": 2,
   "metadata": {
    "colab": {
     "base_uri": "https://localhost:8080/",
     "height": 255
    },
    "colab_type": "code",
    "id": "rKermF6KHs11",
    "outputId": "9964b9e9-5832-4bab-8e0e-446bf52a2026"
   },
   "outputs": [
    {
     "name": "stdout",
     "output_type": "stream",
     "text": [
      "3x3 Rank 2 Tensor A: \n",
      "[[1. 1. 1.]\n",
      " [1. 1. 1.]\n",
      " [1. 1. 1.]]\n",
      "\n",
      "3x3 Rank 2 Tensor B: \n",
      "[[1. 2. 3.]\n",
      " [4. 5. 6.]\n",
      " [7. 8. 9.]]\n",
      "\n",
      "Rank 2 Tensor C with shape=(3, 3) and elements: \n",
      "[[ 2.  3.  4.]\n",
      " [ 5.  6.  7.]\n",
      " [ 8.  9. 10.]]\n"
     ]
    }
   ],
   "source": [
    "# let's create a ones 3x3 rank 2 tensor\n",
    "rank_2_tensor_A = tf.ones([3, 3], name='MatrixA')\n",
    "print(\"3x3 Rank 2 Tensor A: \\n{}\\n\".format(rank_2_tensor_A))\n",
    "\n",
    "# let's manually create a 3x3 rank two tensor and specify the data type as float\n",
    "rank_2_tensor_B = tf.constant([[1, 2, 3], [4, 5, 6], [7, 8, 9]], name='MatrixB', dtype=tf.float32)\n",
    "print(\"3x3 Rank 2 Tensor B: \\n{}\\n\".format(rank_2_tensor_B))\n",
    "\n",
    "# addition of the two tensors\n",
    "rank_2_tensor_C = tf.add(rank_2_tensor_A, rank_2_tensor_B, name='MatrixC')\n",
    "print(\"Rank 2 Tensor C with shape={} and elements: \\n{}\".format(rank_2_tensor_C.shape, rank_2_tensor_C))"
   ]
  },
  {
   "cell_type": "code",
   "execution_count": 3,
   "metadata": {
    "colab": {
     "base_uri": "https://localhost:8080/",
     "height": 71
    },
    "colab_type": "code",
    "id": "C1Fm6XkQaYcn",
    "outputId": "6575ea04-ebce-4b73-8d92-15a885289850"
   },
   "outputs": [
    {
     "name": "stdout",
     "output_type": "stream",
     "text": [
      "Incompatible shapes to add with two_by_three of shape (2, 3) and 3x3 Rank 2 Tensor B of shape (3, 3)\n",
      "    \n"
     ]
    }
   ],
   "source": [
    "# Let's see what happens if the shapes are not the same\n",
    "two_by_three = tf.ones([2, 3])\n",
    "try:\n",
    "    incompatible_tensor = tf.add(two_by_three, rank_2_tensor_B)\n",
    "except:\n",
    "    print(\"\"\"Incompatible shapes to add with two_by_three of shape {0} and 3x3 Rank 2 Tensor B of shape {1}\n",
    "    \"\"\".format(two_by_three.shape, rank_2_tensor_B.shape))"
   ]
  },
  {
   "cell_type": "markdown",
   "metadata": {
    "colab_type": "text",
    "id": "XuJ4rvIFNafT"
   },
   "source": [
    "We can also add a scalar to a matrix or multiply a matrix by a scalar, just by performing that operation on each element of a matrix:\n",
    "\n",
    "$$\\color{orange}{D = a \\cdot B + c \\ where  \\ D_{i,j} = a \\cdot B_{i,j} + c \\tag{2}}$$"
   ]
  },
  {
   "cell_type": "code",
   "execution_count": 4,
   "metadata": {
    "colab": {
     "base_uri": "https://localhost:8080/",
     "height": 306
    },
    "colab_type": "code",
    "id": "97sSpKcbTNoY",
    "outputId": "5546ce85-9392-4fc5-f6b1-a2443ef25103"
   },
   "outputs": [
    {
     "name": "stdout",
     "output_type": "stream",
     "text": [
      "Original Rank 2 Tensor B: \n",
      "[[1. 2. 3.]\n",
      " [4. 5. 6.]\n",
      " [7. 8. 9.]] \n",
      "\n",
      "Scalar a: 2.0\n",
      "Rank 2 Tensor for aB: \n",
      "[[ 2.  4.  6.]\n",
      " [ 8. 10. 12.]\n",
      " [14. 16. 18.]] \n",
      "\n",
      "Scalar c: 3.0 \n",
      "Rank 2 Tensor D = aB + c: \n",
      "[[ 5.  7.  9.]\n",
      " [11. 13. 15.]\n",
      " [17. 19. 21.]]\n",
      "\n"
     ]
    }
   ],
   "source": [
    "# Create scalar a, c and Matrix B\n",
    "rank_0_tensor_a = tf.constant(2, name=\"scalar_a\", dtype=tf.float32)\n",
    "rank_2_tensor_B = tf.constant([[1, 2, 3], [4, 5, 6], [7, 8, 9]], name='MatrixB', dtype=tf.float32)\n",
    "rank_0_tensor_c = tf.constant(3, name=\"scalar_c\", dtype=tf.float32)\n",
    "\n",
    "# multiplying aB\n",
    "multiply_scalar = tf.multiply(rank_0_tensor_a, rank_2_tensor_B)\n",
    "# adding aB + c\n",
    "rank_2_tensor_D = tf.add(multiply_scalar, rank_0_tensor_c, name=\"MatrixD\")\n",
    "\n",
    "print(\"\"\"Original Rank 2 Tensor B: \\n{0} \\n\\nScalar a: {1}\n",
    "Rank 2 Tensor for aB: \\n{2} \\n\\nScalar c: {3} \\nRank 2 Tensor D = aB + c: \\n{4}\n",
    "\"\"\".format(rank_2_tensor_B, rank_0_tensor_a, multiply_scalar, rank_0_tensor_c, rank_2_tensor_D))"
   ]
  },
  {
   "cell_type": "markdown",
   "metadata": {
    "colab_type": "text",
    "id": "5uI2sKntMyj6"
   },
   "source": [
    "One important operation on matrices is the __transpose__. The transpose of a matrix is the mirror image of the martrix across a diagonal line, called the __main diagonal__. We denote the transpose of a matrix $A$ as $A^\\top$ and is defined as such: $(A^\\top)_{i, j} = A_{j, i}$"
   ]
  },
  {
   "cell_type": "code",
   "execution_count": 5,
   "metadata": {
    "colab": {
     "base_uri": "https://localhost:8080/",
     "height": 153
    },
    "colab_type": "code",
    "id": "pJwqOF1hzZNn",
    "outputId": "8edb6277-2eb5-40cb-e71a-f1276402d493"
   },
   "outputs": [
    {
     "name": "stdout",
     "output_type": "stream",
     "text": [
      "Rank 2 Tensor E of shape: (2, 3) and elements: \n",
      "[[1 2 3]\n",
      " [4 5 6]]\n",
      "\n",
      "Transpose of Rank 2 Tensor E of shape: (3, 2) and elements: \n",
      "[[1 4]\n",
      " [2 5]\n",
      " [3 6]]\n"
     ]
    }
   ],
   "source": [
    "# Creating a Matrix E\n",
    "rank_2_tensor_E = tf.constant([[1, 2, 3], [4, 5, 6]])\n",
    "# Transposing Matrix E\n",
    "transpose_E = tf.transpose(rank_2_tensor_E, name=\"transposeE\")\n",
    "\n",
    "print(\"\"\"Rank 2 Tensor E of shape: {0} and elements: \\n{1}\\n\n",
    "Transpose of Rank 2 Tensor E of shape: {2} and elements: \\n{3}\"\"\".format(rank_2_tensor_E.shape, rank_2_tensor_E, \n",
    "                                                                         transpose_E.shape, transpose_E))"
   ]
  },
  {
   "cell_type": "markdown",
   "metadata": {
    "colab_type": "text",
    "id": "uU6F-99XM3_v"
   },
   "source": [
    "In deep learning we allow the addition of matrix and a vector, yielding another matrix where $C_{i, j} = A_{i, j} + b_{j}$. In other words, the vector $b$ is added to each row of the matrix. This implicit copying of $b$ to many locations is called __broadcasting__"
   ]
  },
  {
   "cell_type": "code",
   "execution_count": 6,
   "metadata": {
    "colab": {
     "base_uri": "https://localhost:8080/",
     "height": 255
    },
    "colab_type": "code",
    "id": "v3s5ZyQKUSY6",
    "outputId": "9fa8acd7-910c-4a63-d538-a336e25ed839"
   },
   "outputs": [
    {
     "name": "stdout",
     "output_type": "stream",
     "text": [
      "Rank 2 tensor A: \n",
      "[[1. 1. 1.]\n",
      " [1. 1. 1.]\n",
      " [1. 1. 1.]]\n",
      " \n",
      "Rank 1 Tensor b: \n",
      "[[4.]\n",
      " [5.]\n",
      " [6.]] \n",
      "\n",
      "Rank 2 tensor F = A + b:\n",
      "[[5. 5. 5.]\n",
      " [6. 6. 6.]\n",
      " [7. 7. 7.]]\n"
     ]
    }
   ],
   "source": [
    "# Creating a vector b\n",
    "rank_1_tensor_b = tf.constant([[4.], [5.], [6.]])\n",
    "# Broadcasting a vector b to a matrix A such that it yields a matrix F = A + b\n",
    "rank_2_tensor_F = tf.add(rank_2_tensor_A, rank_1_tensor_b, name=\"broadcastF\")\n",
    "\n",
    "print(\"\"\"Rank 2 tensor A: \\n{0}\\n \\nRank 1 Tensor b: \\n{1} \n",
    "\\nRank 2 tensor F = A + b:\\n{2}\"\"\".format(rank_2_tensor_A, rank_1_tensor_b, rank_2_tensor_F))"
   ]
  },
  {
   "cell_type": "markdown",
   "metadata": {
    "colab_type": "text",
    "id": "ziVxUA2WHyf4"
   },
   "source": [
    "# 02.02 - Multiplying Matrices and Vectors"
   ]
  },
  {
   "cell_type": "markdown",
   "metadata": {
    "colab_type": "text",
    "id": "MzuhfYTyOR9N"
   },
   "source": [
    "To define the matrix product of matrices $A \\ \\text{and} \\ B, \\ A$ must have the same number of columns as $B$. If $A$ is of shape *m x n* and $B$ is of shape *n x p*, then $C$ is of shape *m x p*.\n",
    "\n",
    "$$\\color{orange}{C_{i, j} = \\displaystyle\\sum_k A_{i, k} B_{k, j} \\tag{3}}$$\n",
    "\n",
    "If you do not recall how matrix multiplication is performed, take a look at:\n",
    "\n",
    "![Multiplying Matrices](https://raw.githubusercontent.com/adhiraiyan/DeepLearningWithTF2.0/master/notebooks/figures/fig0202a.jpg)"
   ]
  },
  {
   "cell_type": "code",
   "execution_count": 7,
   "metadata": {
    "colab": {
     "base_uri": "https://localhost:8080/",
     "height": 272
    },
    "colab_type": "code",
    "id": "Rrv8DzWuHzWR",
    "outputId": "977d5ffd-3709-4924-d07e-459fed5ddb28"
   },
   "outputs": [
    {
     "name": "stdout",
     "output_type": "stream",
     "text": [
      "Matrix A: shape (2, 3) \n",
      "elements: \n",
      "[[1. 1. 1.]\n",
      " [1. 1. 1.]] \n",
      "\n",
      "Matrix B: shape (3, 4) \n",
      "elements: \n",
      "[[1. 2. 3. 4.]\n",
      " [1. 2. 3. 4.]\n",
      " [1. 2. 3. 4.]]\n",
      "\n",
      "Matrix C: shape (2, 4) \n",
      "elements: \n",
      "[[ 3.  6.  9. 12.]\n",
      " [ 3.  6.  9. 12.]]\n"
     ]
    }
   ],
   "source": [
    "# Matrix A and B with shapes (2, 3) and (3, 4)\n",
    "mmv_matrix_A = tf.ones([2, 3], name=\"matrix_A\")\n",
    "mmv_matrix_B = tf.constant([[1, 2, 3, 4], [1, 2, 3, 4], [1, 2, 3, 4]], name=\"matrix_B\", dtype=tf.float32)\n",
    "\n",
    "# Matrix Multiplication: C = AB with C shape (2, 4)\n",
    "matrix_multiply_C = tf.matmul(mmv_matrix_A, mmv_matrix_B, name=\"matrix_multiply_C\")\n",
    "\n",
    "print(\"\"\"Matrix A: shape {0} \\nelements: \\n{1} \\n\\nMatrix B: shape {2} \\nelements: \\n{3}\n",
    "\\nMatrix C: shape {4} \\nelements: \\n{5}\"\"\".format(mmv_matrix_A.shape, mmv_matrix_A, mmv_matrix_B.shape, \n",
    "                                                  mmv_matrix_B, matrix_multiply_C.shape, matrix_multiply_C))"
   ]
  },
  {
   "cell_type": "markdown",
   "metadata": {
    "colab_type": "text",
    "id": "pz_vETHqOXpL"
   },
   "source": [
    "To get a matrix containing the product of the individual elements, we use __element wise product__ or __Hadamard product__ and is denoted as $A \\odot B$.\n"
   ]
  },
  {
   "cell_type": "code",
   "execution_count": 8,
   "metadata": {
    "colab": {
     "base_uri": "https://localhost:8080/",
     "height": 306
    },
    "colab_type": "code",
    "id": "mvYdsHcoahkl",
    "outputId": "b72763c3-2623-41c9-c733-838ec65845af"
   },
   "outputs": [
    {
     "name": "stdout",
     "output_type": "stream",
     "text": [
      "Matrix A: shape (3, 3) \n",
      "elements: \n",
      "[[1. 1. 1.]\n",
      " [1. 1. 1.]\n",
      " [1. 1. 1.]] \n",
      "\n",
      "Matrix A: shape (3, 3) \n",
      "elements: \n",
      "[[1. 2. 3.]\n",
      " [4. 5. 6.]\n",
      " [7. 8. 9.]]\n",
      "\n",
      "Matrix C: shape (3, 3) \n",
      "elements: \n",
      "[[1. 2. 3.]\n",
      " [4. 5. 6.]\n",
      " [7. 8. 9.]]\n"
     ]
    }
   ],
   "source": [
    "\"\"\"\n",
    "Note that we use multiply to do element wise matrix multiplication and matmul\n",
    "to do matrix multiplication\n",
    "\"\"\"\n",
    "# Creating new Matrix A and B with shapes (3, 3)\n",
    "element_matrix_A = tf.ones([3, 3], name=\"element_matrix_A\")\n",
    "element_matrix_B = tf.constant([[1, 2, 3], [4, 5, 6], [7, 8, 9]], name=\"element_matrix_B\", dtype=tf.float32)\n",
    "\n",
    "# Element wise multiplication of Matrix A and B\n",
    "element_wise_C = tf.multiply(element_matrix_A, element_matrix_B, name=\"element_wise_C\")\n",
    "\n",
    "print(\"\"\"Matrix A: shape {0} \\nelements: \\n{1} \\n\\nMatrix A: shape {2} \\nelements: \\n{3}\\n\n",
    "Matrix C: shape {4} \\nelements: \\n{5}\"\"\".format(element_matrix_A.shape, element_matrix_A, element_matrix_B.shape, \n",
    "                                                element_matrix_B, element_wise_C.shape, element_wise_C))"
   ]
  },
  {
   "cell_type": "markdown",
   "metadata": {
    "colab_type": "text",
    "id": "qSDm2ptGObdH"
   },
   "source": [
    "To compute the dot product between $A$ and $B$ we compute $C_{i, j}$ as the dot product between row *i* of $A$ and column *j* of $B$.\n",
    "\n",
    "![Dot Product](https://raw.githubusercontent.com/adhiraiyan/DeepLearningWithTF2.0/master/notebooks/figures/fig0202b.jpg)"
   ]
  },
  {
   "cell_type": "code",
   "execution_count": 9,
   "metadata": {
    "colab": {
     "base_uri": "https://localhost:8080/",
     "height": 306
    },
    "colab_type": "code",
    "id": "gLAOBe-DahA3",
    "outputId": "6ae165de-a8ee-43ed-b181-d6bca0a6ab73"
   },
   "outputs": [
    {
     "name": "stdout",
     "output_type": "stream",
     "text": [
      "Matrix A: shape (3, 3) \n",
      "elements: \n",
      "[[1. 1. 1.]\n",
      " [1. 1. 1.]\n",
      " [1. 1. 1.]] \n",
      "\n",
      "Matrix B: shape (3, 3) \n",
      "elements: \n",
      "[[1. 2. 3.]\n",
      " [4. 5. 6.]\n",
      " [7. 8. 9.]]\n",
      "\n",
      "Matrix C: shape (3, 3) \n",
      "elements: \n",
      "[[12. 15. 18.]\n",
      " [12. 15. 18.]\n",
      " [12. 15. 18.]]\n"
     ]
    }
   ],
   "source": [
    "# Creating Matrix A and B with shapes (3, 3)\n",
    "dot_matrix_A = tf.ones([3, 3], name=\"dot_matrix_A\")\n",
    "dot_matrix_B = tf.constant([[1, 2, 3], [4, 5, 6], [7, 8, 9]], name=\"dot_matrix_B\", dtype=tf.float32)\n",
    "\n",
    "# Dot product of A and B\n",
    "dot_product_C = tf.tensordot(dot_matrix_A, dot_matrix_B, axes=1, name=\"dot_product_C\")\n",
    "\n",
    "print(\"\"\"Matrix A: shape {0} \\nelements: \\n{1} \\n\\nMatrix B: shape {2} \\nelements: \\n{3}\\n\n",
    "Matrix C: shape {4} \\nelements: \\n{5}\"\"\".format(dot_matrix_A.shape, dot_matrix_A, dot_matrix_B.shape, \n",
    "                                                dot_matrix_B, dot_product_C.shape, dot_product_C))"
   ]
  },
  {
   "cell_type": "markdown",
   "metadata": {
    "colab_type": "text",
    "id": "6jzMm9CjOgrR"
   },
   "source": [
    "\n",
    "Some properties of matrix multiplication (Distributive property):\n",
    "\n",
    "$$\\color{orange}{A(B +C) = AB + AC \\tag{4}}$$"
   ]
  },
  {
   "cell_type": "code",
   "execution_count": 10,
   "metadata": {
    "colab": {},
    "colab_type": "code",
    "id": "2a3T93aNlEcr"
   },
   "outputs": [],
   "source": [
    "# Common Matrices to check all the matrix Properties\n",
    "matrix_A = tf.constant([[1, 2], [3, 4]], name=\"matrix_a\")\n",
    "matrix_B = tf.constant([[5, 6], [7, 8]], name=\"matrix_b\")\n",
    "matrix_C = tf.constant([[9, 1], [2, 3]], name=\"matrix_c\")"
   ]
  },
  {
   "cell_type": "code",
   "execution_count": 11,
   "metadata": {
    "colab": {
     "base_uri": "https://localhost:8080/",
     "height": 357
    },
    "colab_type": "code",
    "id": "QTryvCNYcDSD",
    "outputId": "0b9bb5fc-d4de-4e77-cbb8-5d651bc6457d"
   },
   "outputs": [
    {
     "name": "stdout",
     "output_type": "stream",
     "text": [
      "Matrix A: \n",
      "[[1 2]\n",
      " [3 4]] \n",
      "\n",
      "Matrix B: \n",
      "[[5 6]\n",
      " [7 8]] \n",
      "\n",
      "Matrix C: \n",
      "[[9 1]\n",
      " [2 3]]\n",
      "\n",
      "Distributive property is valid\n",
      "RHS: AB + AC: \n",
      "[[32 29]\n",
      " [78 65]] \n",
      "\n",
      "LHS: A(B+C): \n",
      "[[32 29]\n",
      " [78 65]]\n"
     ]
    }
   ],
   "source": [
    "# Distributive Property\n",
    "print(\"Matrix A: \\n{} \\n\\nMatrix B: \\n{} \\n\\nMatrix C: \\n{}\\n\".format(matrix_A, matrix_B, matrix_C))\n",
    "\n",
    "# AB + AC\n",
    "distributive_RHS = tf.add(tf.matmul(matrix_A, matrix_B), tf.matmul(matrix_A, matrix_C), name=\"RHS\")\n",
    "\n",
    "# A(B+C)\n",
    "distributive_LHS = tf.matmul(matrix_A, (tf.add(matrix_B, matrix_C)), name=\"LHS\")\n",
    "\n",
    "\"\"\"\n",
    "Following is another way a conditional statement can be implemented from tensorflow\n",
    "This might not seem very useful now but I want to introduce it here so you can\n",
    "figure out how it works for a simple example.\n",
    "\"\"\"\n",
    "# To compare each element in the matrix, you need to reduce it first and check if it's equal\n",
    "predictor = tf.reduce_all(tf.equal(distributive_RHS, distributive_LHS))\n",
    "\n",
    "# condition to act on if predictor is True\n",
    "def true_print(): print(\"\"\"Distributive property is valid\n",
    "RHS: AB + AC: \\n{} \\n\\nLHS: A(B+C): \\n{}\"\"\".format(distributive_RHS, distributive_LHS))\n",
    "    \n",
    "# condition to act on if predictor is False    \n",
    "def false_print(): print(\"\"\"You Broke the Distributive Property of Matrix\n",
    "RHS: AB + AC: \\n{} \\n\\nis NOT Equal to LHS: A(B+C): \\n{}\"\"\".format(distributive_RHS, distributive_LHS))\n",
    "    \n",
    "tf.cond(predictor, true_print, false_print)"
   ]
  },
  {
   "cell_type": "markdown",
   "metadata": {
    "colab_type": "text",
    "id": "TkSyrN_uOkUC"
   },
   "source": [
    "Some properties of matrix multiplication (Associative property):\n",
    "\n",
    "$$\\color{orange}{A(BC) = (AB)C \\tag{5}}$$"
   ]
  },
  {
   "cell_type": "code",
   "execution_count": 12,
   "metadata": {
    "colab": {
     "base_uri": "https://localhost:8080/",
     "height": 357
    },
    "colab_type": "code",
    "id": "jV9y4WC8cDJ5",
    "outputId": "c350ff88-e589-4ece-e707-9d70f5bd5175"
   },
   "outputs": [
    {
     "name": "stdout",
     "output_type": "stream",
     "text": [
      "Matrix A: \n",
      "[[1 2]\n",
      " [3 4]] \n",
      "\n",
      "Matrix B: \n",
      "[[5 6]\n",
      " [7 8]] \n",
      "\n",
      "Matrix C: \n",
      "[[9 1]\n",
      " [2 3]]\n",
      "\n",
      "Associative property is valid\n",
      "RHS: (AB)C: \n",
      "[[215  85]\n",
      " [487 193]] \n",
      "\n",
      "LHS: A(BC): \n",
      "[[215  85]\n",
      " [487 193]]\n"
     ]
    }
   ],
   "source": [
    "# Associative property\n",
    "print(\"Matrix A: \\n{} \\n\\nMatrix B: \\n{} \\n\\nMatrix C: \\n{}\\n\".format(matrix_A, matrix_B, matrix_C))\n",
    "\n",
    "# (AB)C\n",
    "associative_RHS = tf.matmul(tf.matmul(matrix_A, matrix_B), matrix_C)\n",
    "\n",
    "# A(BC)\n",
    "associative_LHS = tf.matmul(matrix_A, tf.matmul(matrix_B, matrix_C))\n",
    "\n",
    "# To compare each element in the matrix, you need to reduce it first and check if it's equal\n",
    "predictor = tf.reduce_all(tf.equal(associative_RHS, associative_LHS))\n",
    "\n",
    "# condition to act on if predictor is True\n",
    "def true_print(): print(\"\"\"Associative property is valid\n",
    "RHS: (AB)C: \\n{} \\n\\nLHS: A(BC): \\n{}\"\"\".format(associative_RHS, associative_LHS))\n",
    "\n",
    "# condition to act on if predictor is False    \n",
    "def false_print(): print(\"\"\"You Broke the Associative Property of Matrix\n",
    "RHS: (AB)C: \\n{} \\n\\nLHS: A(BC): \\n{}\"\"\".format(associative_RHS, associative_LHS))\n",
    "    \n",
    "tf.cond(predictor, true_print, false_print)"
   ]
  },
  {
   "cell_type": "markdown",
   "metadata": {
    "colab_type": "text",
    "id": "hOiY8XZtOoap"
   },
   "source": [
    "Some properties of matrix multiplication (Matrix multiplication is not commutative):\n",
    "\n",
    "$$\\color{orange}{AB \\neq BA \\tag{6}}$$ "
   ]
  },
  {
   "cell_type": "code",
   "execution_count": 13,
   "metadata": {
    "colab": {
     "base_uri": "https://localhost:8080/",
     "height": 289
    },
    "colab_type": "code",
    "id": "6Pv8SOxbcC-U",
    "outputId": "5414ccad-1e67-4813-eb76-56407c93ee32"
   },
   "outputs": [
    {
     "name": "stdout",
     "output_type": "stream",
     "text": [
      "Matrix A: \n",
      "[[1 2]\n",
      " [3 4]] \n",
      "\n",
      "Matrix B: \n",
      "[[5 6]\n",
      " [7 8]]\n",
      "\n",
      "Matrix Multiplication is not commutative\n",
      "RHS: (AB): \n",
      "[[19 22]\n",
      " [43 50]] \n",
      "\n",
      "LHS: (BA): \n",
      "[[23 34]\n",
      " [31 46]]\n"
     ]
    }
   ],
   "source": [
    "# Matrix multiplication is not commutative\n",
    "print(\"Matrix A: \\n{} \\n\\nMatrix B: \\n{}\\n\".format(matrix_A, matrix_B))\n",
    "\n",
    "# Matrix A times B\n",
    "commutative_RHS = tf.matmul(matrix_A, matrix_B)\n",
    "\n",
    "# Matrix B times A\n",
    "commutative_LHS = tf.matmul(matrix_B, matrix_A)\n",
    "\n",
    "predictor = tf.logical_not(tf.reduce_all(tf.equal(commutative_RHS, commutative_LHS)))\n",
    "def true_print(): print(\"\"\"Matrix Multiplication is not commutative\n",
    "RHS: (AB): \\n{} \\n\\nLHS: (BA): \\n{}\"\"\".format(commutative_RHS, commutative_LHS))\n",
    "\n",
    "def false_print(): print(\"\"\"You made Matrix Multiplication commutative\n",
    "RHS: (AB): \\n{} \\n\\nLHS: (BA): \\n{}\"\"\".format(commutative_RHS, commutative_LHS))\n",
    "    \n",
    "tf.cond(predictor, true_print, false_print)"
   ]
  },
  {
   "cell_type": "markdown",
   "metadata": {
    "colab_type": "text",
    "id": "j1Voc_AgOtIM"
   },
   "source": [
    "Some properties of matrix multiplication (Transpose):\n",
    "\n",
    "$$\\color{orange}{(AB)^\\top = B^{\\top} A^{\\top} \\tag{7}}$$"
   ]
  },
  {
   "cell_type": "code",
   "execution_count": 14,
   "metadata": {
    "colab": {
     "base_uri": "https://localhost:8080/",
     "height": 289
    },
    "colab_type": "code",
    "id": "Gz7cm3obcCZe",
    "outputId": "60e4938e-349e-44ac-ed60-fa43bd0fd364"
   },
   "outputs": [
    {
     "name": "stdout",
     "output_type": "stream",
     "text": [
      "Matrix A: \n",
      "[[1 2]\n",
      " [3 4]] \n",
      "\n",
      "Matrix B: \n",
      "[[5 6]\n",
      " [7 8]]\n",
      "\n",
      "Transpose property is valid\n",
      "RHS: (AB):^T \n",
      "[[19 43]\n",
      " [22 50]] \n",
      "\n",
      "LHS: (B^T A^T): \n",
      "[[19 43]\n",
      " [22 50]]\n"
     ]
    }
   ],
   "source": [
    "# Transpose of a matrix\n",
    "print(\"Matrix A: \\n{} \\n\\nMatrix B: \\n{}\\n\".format(matrix_A, matrix_B))\n",
    "\n",
    "# Tensorflow transpose function\n",
    "transpose_RHS = tf.transpose(tf.matmul(matrix_A, matrix_B))\n",
    "\n",
    "# If you are doing matrix multiplication tf.matmul has a parameter to take the tranpose and then matrix multiply\n",
    "transpose_LHS = tf.matmul(matrix_B, matrix_A, transpose_a=True, transpose_b=True)\n",
    "    \n",
    "predictor = tf.reduce_all(tf.equal(transpose_RHS, transpose_LHS))\n",
    "def true_print(): print(\"\"\"Transpose property is valid\n",
    "RHS: (AB):^T \\n{} \\n\\nLHS: (B^T A^T): \\n{}\"\"\".format(transpose_RHS, transpose_LHS))\n",
    "\n",
    "def false_print(): print(\"\"\"You Broke the Transpose Property of Matrix\n",
    "RHS: (AB):^T \\n{} \\n\\nLHS: (B^T A^T): \\n{}\"\"\".format(transpose_RHS, transpose_LHS))\n",
    "    \n",
    "tf.cond(predictor, true_print, false_print)"
   ]
  },
  {
   "cell_type": "markdown",
   "metadata": {
    "colab_type": "text",
    "id": "sltlInVEH1aU"
   },
   "source": [
    "# 02.03 - Identity and Inverse Matrices"
   ]
  },
  {
   "cell_type": "markdown",
   "metadata": {
    "colab_type": "text",
    "id": "Xg8Y9m_N3miE"
   },
   "source": [
    "Linear algebra offers a powerful tool called __matrix inversion__ that enables us to analytically solve $Ax = b$ for many values of $A$.\n",
    "\n",
    "To describe matrix inversion, we first need to define the concept of an __identity matrix__. An identity matrix is a matrix that does not change any vector when we multiply that vector by that matrix. \n",
    "\n",
    "Such that:\n",
    "\n",
    "$$\\color{orange}{I_n \\in \\mathbb{R}^{n \\times n} \\ \\text{and} \\ \\forall x \\in \\mathbb{R}^n, I_n x = x  \\tag{8}}$$\n",
    "\n",
    "The structure of the identity matrix is simple: all the entries along the main diagonal are 1, while all the other entries are zero."
   ]
  },
  {
   "cell_type": "code",
   "execution_count": 15,
   "metadata": {
    "colab": {
     "base_uri": "https://localhost:8080/",
     "height": 255
    },
    "colab_type": "code",
    "id": "hDED6gFiH4U9",
    "outputId": "c0c6ae20-c832-4431-dcbd-f859c7fa4994"
   },
   "outputs": [
    {
     "name": "stdout",
     "output_type": "stream",
     "text": [
      "Identity matrix I: \n",
      "[[1. 0. 0.]\n",
      " [0. 1. 0.]\n",
      " [0. 0. 1.]]\n",
      "\n",
      "Vector x: \n",
      "[[4.]\n",
      " [5.]\n",
      " [6.]]\n",
      "\n",
      "Matrix C from Ix: \n",
      "[[4.]\n",
      " [5.]\n",
      " [6.]]\n"
     ]
    }
   ],
   "source": [
    "# let's create a identity matrix I\n",
    "identity_matrix_I = tf.eye(3, 3, dtype=tf.float32, name='IdentityMatrixI')\n",
    "print(\"Identity matrix I: \\n{}\\n\".format(identity_matrix_I))\n",
    "\n",
    "# let's create a 3x1 vector x\n",
    "iim_vector_x = tf.constant([[4], [5], [6]], name='Vector_x', dtype=tf.float32)\n",
    "print(\"Vector x: \\n{}\\n\".format(iim_vector_x))\n",
    "\n",
    "# Ix will result in x\n",
    "iim_matrix_C = tf.matmul(identity_matrix_I, iim_vector_x, name='MatrixC')\n",
    "print(\"Matrix C from Ix: \\n{}\".format(iim_matrix_C))"
   ]
  },
  {
   "cell_type": "markdown",
   "metadata": {
    "colab_type": "text",
    "id": "44tX7v9F4Lbv"
   },
   "source": [
    "The __matrix inverse__ of $A$ is denoted as $A^{-1}$, and it is defined as the matrix such that:\n",
    "\n",
    "$$\\color{orange}{A^{-1} A = I_n \\tag{9}}$$"
   ]
  },
  {
   "cell_type": "code",
   "execution_count": 16,
   "metadata": {
    "colab": {
     "base_uri": "https://localhost:8080/",
     "height": 289
    },
    "colab_type": "code",
    "id": "f6RR6gQB9bTM",
    "outputId": "9d83b6df-27c9-4268-fed0-f28ada5972f7"
   },
   "outputs": [
    {
     "name": "stdout",
     "output_type": "stream",
     "text": [
      "Condition Failed\n"
     ]
    }
   ],
   "source": [
    "iim_matrix_A = tf.constant([[2, 3], [2, 2]], name='MatrixA', dtype=tf.float32)\n",
    "\n",
    "try:\n",
    "    # Tensorflow function to take the inverse\n",
    "    inverse_matrix_A = tf.linalg.inv(iim_matrix_A)\n",
    "    \n",
    "    # Creating a identity matrix using tf.eye\n",
    "    identity_matrix = tf.eye(2, 2, dtype=tf.float32, name=\"identity\")\n",
    "\n",
    "    iim_RHS = identity_matrix\n",
    "    iim_LHS = tf.matmul(inverse_matrix_A, iim_matrix_A, name=\"LHS\")\n",
    "    \n",
    "    predictor = tf.reduce_all(tf.equal(iim_RHS, iim_LHS))\n",
    "    def true_print(): print(\"\"\"A^-1 times A equals the Identity Matrix\n",
    "Matrix A: \\n{0} \\n\\nInverse of Matrix A: \\n{1} \\n\\nRHS: I: \\n{2} \\n\\nLHS: A^(-1) A: \\n{3}\"\"\".format(iim_matrix_A,\n",
    "                                                                                                    inverse_matrix_A,\n",
    "                                                                                                    iim_RHS, \n",
    "                                                                                                    iim_LHS))\n",
    "    def false_print(): print(\"Condition Failed\")\n",
    "    tf.cond(predictor, true_print, false_print)\n",
    "    \n",
    "except:\n",
    "    print(\"\"\"A^-1 doesnt exist\n",
    "    Matrix A: \\n{} \\n\\nInverse of Matrix A: \\n{} \\n\\nRHS: I: \\n{} \n",
    "    \\nLHS: (A^(-1) A): \\n{}\"\"\".format(iim_matrix_A, inverse_matrix_A, iim_RHS, iim_LHS))"
   ]
  },
  {
   "cell_type": "markdown",
   "metadata": {
    "colab_type": "text",
    "id": "1CAGKbsr9yZv"
   },
   "source": [
    "If you try different values for Matrix A, you will see that, not all $A$ has an inverse and we will discuss the conditions for the existence of $A^{-1}$ in the following section.\n",
    "\n",
    "We can then solve the equation $Ax = b$ as:\n",
    "\n",
    "$$\n",
    "\\color{Orange}{A^{-1} Ax = A^{-1} b} \\\\\n",
    "\\color{Orange}{I_n x = A^{-1} b} \\\\\n",
    "\\color{Orange}{x  =A^{-1} b \\tag{10}}\n",
    "$$\n",
    "\n",
    "This process depends on it being possible to find $A^{-1}$. \n",
    "\n",
    "We can calculate the inverse of a matrix by:\n",
    "\n",
    "![Matrix Inverse](https://raw.githubusercontent.com/adhiraiyan/DeepLearningWithTF2.0/master/notebooks/figures/fig0203a.PNG)\n",
    "\n",
    "Lets see how we can solve a simple linear equation: 2x + 3y = 6 and 4x + 9y = 15"
   ]
  },
  {
   "cell_type": "code",
   "execution_count": 17,
   "metadata": {
    "colab": {
     "base_uri": "https://localhost:8080/",
     "height": 221
    },
    "colab_type": "code",
    "id": "sizO9Oz66KpD",
    "outputId": "75428b1c-3b0f-476e-a521-7d6baf988d47"
   },
   "outputs": [
    {
     "name": "stdout",
     "output_type": "stream",
     "text": [
      "Matrix A: \n",
      "[[2. 3.]\n",
      " [4. 9.]] \n",
      "\n",
      "Vector B: \n",
      "[[ 6.]\n",
      " [15.]]\n",
      "\n",
      "Vector x is: \n",
      "[[1.5      ]\n",
      " [1.0000002]] \n",
      "Where x = [1.5] and y = [1.0000002]\n"
     ]
    }
   ],
   "source": [
    "# The above system of equation can be written in the matrix format as:\n",
    "sys_matrix_A = tf.constant([[2, 3], [4, 9]], dtype=tf.float32)\n",
    "sys_vector_B = tf.constant([[6], [15]], dtype=tf.float32)\n",
    "print(\"Matrix A: \\n{} \\n\\nVector B: \\n{}\\n\".format(sys_matrix_A, sys_vector_B))\n",
    "\n",
    "# now to solve for x: x = A^(-1)b\n",
    "sys_x = tf.matmul(tf.linalg.inv(sys_matrix_A), sys_vector_B)\n",
    "print(\"Vector x is: \\n{} \\nWhere x = {} and y = {}\".format(sys_x, sys_x[0], sys_x[1]))"
   ]
  },
  {
   "cell_type": "markdown",
   "metadata": {
    "colab_type": "text",
    "id": "CrDWCbU5H6ym"
   },
   "source": [
    "# 02.04 - Linear Dependence and Span"
   ]
  },
  {
   "cell_type": "markdown",
   "metadata": {
    "colab_type": "text",
    "id": "3J_B7nao9De_"
   },
   "source": [
    "For $A^{-1}$ to exits, $Ax = b$ must have exactly one solution for every value of $b$. It is also possible for the system of equations to have no solutions or infinitely many solutions for some values of $b$. This is simply because we are dealing with linear systems and two lines can't cross more than once. So, they can either cross once, cross never, or have infinite crossing, meaning the two lines are superimposed.\n",
    "\n",
    "Hence if both $x$ and $y$ are solutions then:\n",
    "\n",
    "$z = \\alpha x + (1 - \\alpha)y$ is also a solution for any real $\\alpha$\n",
    "\n",
    "![Linear Dependence](https://raw.githubusercontent.com/adhiraiyan/DeepLearningWithTF2.0/master/notebooks/figures/fig0204a.png)"
   ]
  },
  {
   "cell_type": "markdown",
   "metadata": {
    "colab_type": "text",
    "id": "yhPzsL6JEHAu"
   },
   "source": [
    "\n",
    "The span of a set of vectors is the set of all linear combinations of the vectors. Formally, a __linear combination__ of some set of vectors \n",
    "$\\{ v^1, \\cdots, v^n\\}$ is given by multiplying each vecor $v^{(i)}$ by a corresponding scalar coefficient and adding the results:\n",
    "\n",
    "$$\\color{Orange}{\\displaystyle\\sum_i c_i v^{(i)} \\tag{11}}$$\n",
    "\n",
    "Determining whether $Ax = b$ has a solution thus amounts to testing whether $b$ is in the span of the columns of $A$. This particular span is known as the __column space__ or the __range__, of $A$. \n",
    "\n",
    "In order for the system $Ax = b$ to have a solution for all values of $b \\in \\mathbb{R}^m$, we require that the column space of $A$ be all of $\\mathbb{R}^m$.\n",
    "\n",
    "A set of vectors $\\{ v^1, \\cdots, v^n\\}$ is __linearly independent__ if the only solution to the vector equation $\\lambda_1 v^1 + \\cdots \\lambda_n v^n = 0 \\ \\text{is} \\ \\lambda_i=0 \\ \\forall  i$. If a set of vectors is not linearly independent, then it is __linearly dependent__.\n",
    "\n",
    "For the matrix to have an inverse, the matrix must be __square__, that is, we require that *m = n* and that all the columns be linearly independent. A square matrix with linearly dependent columns is known as __singular__.\n",
    "\n",
    "If $A$ is not square or is square but singular, solving the equation is still possible, but we cannot use the method of matrix inversion to find the solution.\n",
    "\n",
    "So far we have discussed matrix inverses as being multiplied on the left. It is also possible to define an inverse that is multiplied on the right. For square matrixes, the left inverse and right inverse are equal."
   ]
  },
  {
   "cell_type": "code",
   "execution_count": 18,
   "metadata": {
    "colab": {
     "base_uri": "https://localhost:8080/",
     "height": 272
    },
    "colab_type": "code",
    "id": "QsZ8dcQgWc6M",
    "outputId": "048b082a-109a-44da-daa6-6d850329b11d"
   },
   "outputs": [
    {
     "name": "stdout",
     "output_type": "stream",
     "text": [
      "Matrix A is successfully inverted: \n",
      "[[ 0.40000004 -0.20000002]\n",
      " [-0.20000002  0.6       ]]\n",
      "\n",
      "The two x values match, we proved that if a matrix A is invertible\n",
      "Then x = A^T b, \n",
      "where x: [2. 3.], \n",
      "\n",
      "A^T: \n",
      "[[ 0.40000004 -0.20000002]\n",
      " [-0.20000002  0.6       ]], \n",
      "\n",
      "b: \n",
      "[[6. 3.]\n",
      " [2. 6.]]\n"
     ]
    }
   ],
   "source": [
    "# Lets start by finding for some value of A and x, what the result of x is\n",
    "lds_matrix_A = tf.constant([[3, 1], [1, 2]], name='MatrixA', dtype=tf.float32)\n",
    "lds_vector_x = tf.constant([2, 3], name='vectorX', dtype=tf.float32)\n",
    "lds_b = tf.multiply(lds_matrix_A, lds_vector_x, name=\"b\")\n",
    "\n",
    "# Now let's see if an inverse for Matrix A exists\n",
    "try:\n",
    "    inverse_A = tf.linalg.inv(lds_matrix_A)\n",
    "    print(\"Matrix A is successfully inverted: \\n{}\".format(inverse_A))\n",
    "except:\n",
    "    print(\"Inverse of Matrix A: \\n{} \\ndoesn't exist. \".format(lds_matrix_A))\n",
    "\n",
    "# Let's find the value of x using x = A^(-1)b\n",
    "verify_x = tf.matmul(inverse_A, lds_b, name=\"verifyX\")\n",
    "predictor = tf.equal(lds_vector_x[0], verify_x[0][0]) and tf.equal(lds_vector_x[1], verify_x[1][1])\n",
    "\n",
    "def true_print(): print(\"\"\"\\nThe two x values match, we proved that if a matrix A is invertible\n",
    "Then x = A^T b, \\nwhere x: {}, \\n\\nA^T: \\n{}, \\n\\nb: \\n{}\"\"\".format(lds_vector_x, inverse_A, lds_b))\n",
    "\n",
    "def false_print(): print(\"\"\"\\nThe two x values don't match.\n",
    "Vector x: {} \\n\\nA^(-1)b: \\n{}\"\"\".format(lds_vector_x, verify_x))\n",
    "    \n",
    "tf.cond(predictor, true_print, false_print)"
   ]
  },
  {
   "cell_type": "markdown",
   "metadata": {
    "colab_type": "text",
    "id": "GzrynyTagib-"
   },
   "source": [
    "Note that, finding inverses can be a challenging process if you want to calculate it, but using tensorflow or any other library, you can easily check if the inverse of the matrix exists. If you know the conditions and know how to solve matrix equations using tensorflow, you should be good, but for the reader who wants to go deeper, check [Linear Dependence and Span\n",
    "](https://math.ryerson.ca/~danziger/professor/MTH141/Handouts/depend.pdf) for further examples and definitions."
   ]
  },
  {
   "cell_type": "markdown",
   "metadata": {
    "colab_type": "text",
    "id": "rB0seiU_H-hx"
   },
   "source": [
    "# 02.05 - Norms"
   ]
  },
  {
   "cell_type": "markdown",
   "metadata": {
    "colab_type": "text",
    "id": "p3ieNjy4oHtr"
   },
   "source": [
    "In machine learning if we need to measure the size of vectors, we use a function called a __norm__. And norm is what is generally used to evaluate the error of a model. Formally, the $L^P$ norm is given by:\n",
    "\n",
    "$$\\color{Orange}{||x||_p = \\big(\\displaystyle\\sum_i |x_i|^p\\big)^{1/p}| \\tag{12}}$$\n",
    "\n",
    "for $p \\in \\mathbb{R}, p \\geq 1$\n",
    "\n",
    "On an intuitive level, the norm of a vector $x$ measures the distance from the origin to the point $x$.\n",
    "\n",
    "More rigorously, a norm is any function $f$ that satisfies the following properties:\n",
    "\n",
    "$$\n",
    "\\color{Orange}{f(x) = 0 \\implies x=0} \\\\\n",
    "\\color{Orange}{f(x +y) \\leq f(x) + f(y)} \\\\\n",
    "\\color{Orange}{\\forall \\alpha \\in \\mathbb{R}, f(\\alpha x) = |\\alpha|f(x)  \\tag{13}}\n",
    "$$\n",
    "\n",
    "The $L^2$ norm with *p=2* is known as the __Euclidean norm__. Which is simply the Euclidean distance from the origin to the point identified by $x$. It is also common to measure the size of a vector using the squared $L^2$ norm, which can be calculated simply as $x^{\\top}x$"
   ]
  },
  {
   "cell_type": "code",
   "execution_count": 19,
   "metadata": {
    "colab": {
     "base_uri": "https://localhost:8080/",
     "height": 51
    },
    "colab_type": "code",
    "id": "1DciOj3Hs2g-",
    "outputId": "4b084d09-1d58-4a6f-a923-ba1389d3a272"
   },
   "outputs": [
    {
     "name": "stdout",
     "output_type": "stream",
     "text": [
      "Euclidean Distance: 5.0\n",
      "Vector Size: [ 9. 16.]\n"
     ]
    }
   ],
   "source": [
    "# Euclidean distance between square root(3^2 + 4^2) calculated by setting ord='euclidean'\n",
    "dist_euclidean = tf.norm([3., 4.], ord='euclidean')\n",
    "print(\"Euclidean Distance: {}\".format(dist_euclidean))\n",
    "\n",
    "# Size of the vector [3., 4.]\n",
    "vector_size = tf.multiply(tf.transpose([3., 4.]), [3., 4.])\n",
    "print(\"Vector Size: {}\".format(vector_size))"
   ]
  },
  {
   "cell_type": "markdown",
   "metadata": {
    "colab_type": "text",
    "id": "1_Zg24-vs25u"
   },
   "source": [
    "In many contexts, the squared $L^2$ norm may be undesirable, because it increases very slowly near the origin. In many machine learning applications, it is important to discriminate between elements that are exactly zero and elements that are small but nonzero. In these cases, we turn to a function that grows at the same rate in all locations, but retains mathematical simplicity: the $L^1$ norm, which can be simplified to:\n",
    "\n",
    "$$\\color{Orange}{||x||_1 = \\displaystyle\\sum_i |x_i| \\tag{14}}$$\n"
   ]
  },
  {
   "cell_type": "code",
   "execution_count": 20,
   "metadata": {
    "colab": {
     "base_uri": "https://localhost:8080/",
     "height": 281
    },
    "colab_type": "code",
    "id": "OlkUawi5wgBn",
    "outputId": "e622e6db-8fdf-4969-8cdf-5ee412371828"
   },
   "outputs": [
    {
     "name": "stderr",
     "output_type": "stream",
     "text": [
      "D:\\Anaconda\\lib\\site-packages\\matplotlib\\figure.py:457: UserWarning: matplotlib is currently using a non-GUI backend, so cannot show the figure\n",
      "  \"matplotlib is currently using a non-GUI backend, \"\n"
     ]
    },
    {
     "data": {
      "image/png": "[encoded data removed]",
      "text/plain": [
       "<Figure size 432x288 with 1 Axes>"
      ]
     },
     "metadata": {
      "needs_background": "light"
     },
     "output_type": "display_data"
    }
   ],
   "source": [
    "def SE(x,y,intc,beta):\n",
    "    return (1./len(x))*(0.5)*sum(y - beta * x - intc)**2\n",
    "\n",
    "def L1(intc,beta,lam):\n",
    "    return lam*(tf.abs(intc) + tf.abs(beta))\n",
    "\n",
    "def L2(intc,beta,lam):\n",
    "    return lam*(intc**2 + beta**2)\n",
    "\n",
    "N = 100\n",
    "x = np.random.randn(N)\n",
    "y = 2 * x + np.random.randn(N)\n",
    "\n",
    "beta_N = 100\n",
    "beta = tf.linspace(-100., 100., beta_N)\n",
    "intc = 0.0\n",
    "\n",
    "SE_array = np.array([SE(x,y,intc,i) for i in beta])\n",
    "L1_array = np.array([L1(intc,i,lam=30) for i in beta])\n",
    "L2_array = np.array([L2(intc,i,lam=1) for i in beta])\n",
    "\n",
    "fig1 = plt.figure()\n",
    "ax1 = fig1.add_subplot(1,1,1)\n",
    "ax1.plot(beta, SE_array, label='Squared L2 Norm')\n",
    "ax1.plot(beta, L1_array, label='L1 norm')\n",
    "ax1.plot(beta, L2_array, label='L2 norm')\n",
    "plt.rc_context({'axes.edgecolor':'orange', 'xtick.color':'red', 'ytick.color':'red'})\n",
    "plt.title('The graph of each of the norms', color='w')\n",
    "plt.legend()\n",
    "fig1.show()"
   ]
  },
  {
   "cell_type": "markdown",
   "metadata": {
    "colab_type": "text",
    "id": "quBP_kBqwfh8"
   },
   "source": [
    "One other norm that commonly arises in machine learning is the $L^{\\infty}$ norm, also known as the __max norm__. This norm simplifies to the absolute value of the element with the largest magnitude in the vector,\n",
    "\n",
    "$$\\color{Orange}{\\parallel x \\parallel_{\\infty} = max_i |x_i| \\tag{15}}$$\n",
    "\n",
    "If we wish to measure the size of a matrix, in context of deep learning, the most common way to do this is with the __Frobenius norm__:\n",
    "\n",
    "$$\\color{Orange}{\\parallel A \\parallel_F = \\sqrt{\\displaystyle\\sum_{i, j} A^2_{i, j}} \\tag{16}}$$\n",
    "\n",
    "which is analogous to the $L^{2}$ norm of a vector.\n",
    "\n",
    "Meaning for example for a matrix:\n",
    "\n",
    "$$\n",
    "A =\n",
    "\\begin{pmatrix}\n",
    "2 & -1 & 5 \\\\\n",
    "0 & 2 & 1 \\\\\n",
    "3  & 1 & 1  \\\\\n",
    "\\end{pmatrix}\n",
    "$$\n",
    " \n",
    "$||A|| = [2^2 + (-1^2) + 5^2 + 0^2 + 2^2 + 1^2 + 3^2 + 1^2 + 1^2]^{1/2}$\n"
   ]
  },
  {
   "cell_type": "code",
   "execution_count": 21,
   "metadata": {
    "colab": {
     "base_uri": "https://localhost:8080/",
     "height": 34
    },
    "colab_type": "code",
    "id": "nfxO_iSN3N5j",
    "outputId": "062c1290-3ba7-423e-f41f-9a4544b582cd"
   },
   "outputs": [
    {
     "name": "stdout",
     "output_type": "stream",
     "text": [
      "Frobenius norm: 6.78233003616333\n"
     ]
    }
   ],
   "source": [
    "n_matrix_A = tf.constant([[2, -1, 5], [0, 2, 1], [3, 1, 1]], name=\"matrix_A\", dtype=tf.float32)\n",
    "\n",
    "# Frobenius norm for matrix calculated by setting ord='fro'\n",
    "frobenius_norm = tf.norm(n_matrix_A, ord='fro', axis=(0, 1))\n",
    "print(\"Frobenius norm: {}\".format(frobenius_norm))"
   ]
  },
  {
   "cell_type": "markdown",
   "metadata": {
    "colab_type": "text",
    "id": "B24sBdA63MuZ"
   },
   "source": [
    "\n",
    "The dot product of two vectors can be rewritten in terms of norms as:\n",
    "\n",
    "$$\\color{Orange}{x^{\\top} y = ||x||_2 ||y||_2 cos\\theta \\tag{17}}$$\n",
    "\n",
    "where $\\theta$ is the angle between $x$ and $y$."
   ]
  },
  {
   "cell_type": "code",
   "execution_count": 22,
   "metadata": {
    "colab": {
     "base_uri": "https://localhost:8080/",
     "height": 337
    },
    "colab_type": "code",
    "id": "Nu_UIRga0esb",
    "outputId": "057a4455-9b4f-4de0-ee84-6a67ce7b96c9"
   },
   "outputs": [
    {
     "name": "stdout",
     "output_type": "stream",
     "text": [
      "Dot Product can be rewritten in terms of norms, where \n",
      "\n",
      "RHS: 4.0 \n",
      "LHS: [[4.]]\n"
     ]
    },
    {
     "data": {
      "image/png": "[encoded data removed]",
      "text/plain": [
       "<Figure size 432x288 with 1 Axes>"
      ]
     },
     "metadata": {
      "needs_background": "light"
     },
     "output_type": "display_data"
    }
   ],
   "source": [
    "# for x(0, 2) and y(2, 2) cos theta = 45 degrees\n",
    "n_vector_x = tf.constant([[0], [2]], dtype=tf.float32, name=\"vectorX\")\n",
    "n_vector_y = tf.constant([[2], [2]], dtype=tf.float32, name=\"vectorY\")\n",
    "\n",
    "# Due to pi being in, we won't get an exact value so we are rounding our final value\n",
    "prod_RHS = tf.round(tf.multiply(tf.multiply(tf.norm(n_vector_x), tf.norm(n_vector_y)), tf.cos(np.pi/4)))\n",
    "prod_LHS = tf.tensordot(tf.transpose(n_vector_x), n_vector_y, axes=1, name=\"LHS\")\n",
    "\n",
    "predictor = tf.equal(prod_RHS, prod_LHS)\n",
    "def true_print(): print(\"\"\"Dot Product can be rewritten in terms of norms, where \\n\n",
    "RHS: {} \\nLHS: {}\"\"\".format(prod_RHS, prod_LHS))\n",
    "\n",
    "def false_print(): print(\"\"\"Dot Product can not be rewritten in terms of norms, where \\n\n",
    "RHS: {} \\nLHS: {}\"\"\".format(prod_RHS, prod_LHS))\n",
    "    \n",
    "tf.cond(predictor, true_print, false_print)\n",
    "\n",
    "origin=[0,0]\n",
    "plt.rc_context({'axes.edgecolor':'orange', 'xtick.color':'red', 'ytick.color':'red'})\n",
    "plt.xlim(-2, 10)\n",
    "plt.ylim(-1, 10)\n",
    "plt.axvline(x=0, color='grey', zorder=0)\n",
    "plt.axhline(y=0, color='grey', zorder=0)\n",
    "plt.text(-1, 2, r'$\\vec{x}$', size=18)\n",
    "plt.text(2, 1.5, r'$\\vec{y}$', size=18)\n",
    "plt.quiver(*origin, n_vector_x, n_vector_y, color=['#FF9A13','#1190FF'], scale=8)\n",
    "plt.show()"
   ]
  },
  {
   "cell_type": "markdown",
   "metadata": {
    "colab_type": "text",
    "id": "9e3oICy6IFT4"
   },
   "source": [
    "# 02.06 - Special Kinds of Matrices and Vectors"
   ]
  },
  {
   "cell_type": "markdown",
   "metadata": {
    "colab_type": "text",
    "id": "dLyr_66noIdk"
   },
   "source": [
    "__Diagonal__ matrices consist mostly of zeros and have nonzero entries only along the main diagonal. Identity matrix is an example of diagonal matrix. We write $diag(v)$ to denote a square diagonal matrix whose diagonal entries are given by the entries of the vector *v*. \n",
    "\n",
    "To compute $diag(v)x$ we only need to scale each element $x_i$ by $v_i$. In other words:\n",
    "\n",
    "$$\\color{orange}{diag(v)x = v \\odot x \\tag{18}}$$"
   ]
  },
  {
   "cell_type": "code",
   "execution_count": 23,
   "metadata": {
    "colab": {
     "base_uri": "https://localhost:8080/",
     "height": 289
    },
    "colab_type": "code",
    "id": "XfoTbabwIGRC",
    "outputId": "bf7f3f99-3f84-4084-dd28-88b4922cf092"
   },
   "outputs": [
    {
     "name": "stdout",
     "output_type": "stream",
     "text": [
      "Vector v: [1 3 8 5 3] \n",
      "Vector x: [9 0 4 1 4]\n",
      "\n",
      "Diagonal of v times x: \n",
      "[[ 9  0  0  0  0]\n",
      " [ 0  0  0  0  0]\n",
      " [ 0  0 32  0  0]\n",
      " [ 0  0  0  5  0]\n",
      " [ 0  0  0  0 12]] \n",
      "\n",
      "is equal to vector v dot vector x: \n",
      "[[ 9  0  0  0  0]\n",
      " [ 0  0  0  0  0]\n",
      " [ 0  0 32  0  0]\n",
      " [ 0  0  0  5  0]\n",
      " [ 0  0  0  0 12]]\n"
     ]
    }
   ],
   "source": [
    "# create vector v and x\n",
    "sp_vector_v = tf.random.uniform([5], minval=0, maxval=10, dtype = tf.int32, seed = 0, name=\"vector_v\")\n",
    "sp_vector_x = tf.random.uniform([5], minval=0, maxval=10, dtype = tf.int32, seed = 0, name=\"vector_x\")\n",
    "print(\"Vector v: {} \\nVector x: {}\\n\".format(sp_vector_v, sp_vector_x))\n",
    "          \n",
    "# RHS diagonal vector v dot diagonal vector x. The linalg.diag converts a vector to a diagonal matrix\n",
    "sp_RHS = tf.tensordot(tf.linalg.diag(sp_vector_v), tf.linalg.diag(sp_vector_x), axes=1)\n",
    "\n",
    "# LHS diag(v)x\n",
    "sp_LHS = tf.multiply(tf.linalg.diag(sp_vector_v), sp_vector_x)\n",
    "    \n",
    "predictor = tf.reduce_all(tf.equal(sp_RHS, sp_LHS))\n",
    "def true_print(): print(\"Diagonal of v times x: \\n{} \\n\\nis equal to vector v dot vector x: \\n{}\".format(sp_RHS, sp_LHS))\n",
    "def false_print(): print(\"Diagonal of v times x: \\n{} \\n\\nis NOT equal to vector v dot vector x: \\n{}\".format(sp_RHS, sp_LHS))\n",
    "    \n",
    "tf.cond(predictor, true_print, false_print)"
   ]
  },
  {
   "cell_type": "markdown",
   "metadata": {
    "colab_type": "text",
    "id": "k56YwhRu6__p"
   },
   "source": [
    "Inverting a square diagonal matrix is also efficient. The inverse exists only if every diagonal entry is nonzero, and in that case:\n",
    "\n",
    "$$\\color{orange}{diag(v)^{-1} = diag([1/v_1, \\cdots , 1/v_n]^{\\top}) \\tag{19}}$$\n"
   ]
  },
  {
   "cell_type": "code",
   "execution_count": 24,
   "metadata": {
    "colab": {
     "base_uri": "https://localhost:8080/",
     "height": 255
    },
    "colab_type": "code",
    "id": "Vyx5Iqzy7Aat",
    "outputId": "7f94f239-7d64-4f1c-aba5-d79d474140a1"
   },
   "outputs": [
    {
     "name": "stdout",
     "output_type": "stream",
     "text": [
      "Vector v: [1.9077636 9.731502  8.638878  1.4345318 1.4367076]\n",
      "The inverse of LHS: \n",
      "[[0.524174   0.         0.         0.         0.        ]\n",
      " [0.         0.10275906 0.         0.         0.        ]\n",
      " [0.         0.         0.11575577 0.         0.        ]\n",
      " [0.         0.         0.         0.6970915  0.        ]\n",
      " [0.         0.         0.         0.         0.69603586]] \n",
      "\n",
      "Match the inverse of RHS: \n",
      "[[0.524174   0.         0.         0.         0.        ]\n",
      " [0.         0.10275906 0.         0.         0.        ]\n",
      " [0.         0.         0.11575577 0.         0.        ]\n",
      " [0.         0.         0.         0.6970915  0.        ]\n",
      " [0.         0.         0.         0.         0.69603586]]\n"
     ]
    }
   ],
   "source": [
    "try:\n",
    "    # try creating a vector_v with zero elements and see what happens\n",
    "    d_vector_v = tf.random.uniform([5], minval=1, maxval=10, dtype = tf.float32, seed = 0, name=\"vector_v\")\n",
    "    print(\"Vector v: {}\".format(d_vector_v))\n",
    "    \n",
    "    # linalg.diag converts a vector to a diagonal matrix\n",
    "    diag_RHS = tf.linalg.diag(tf.transpose(1. / d_vector_v))\n",
    "    \n",
    "    # we convert the vector to diagonal matrix and take it's inverse\n",
    "    inv_LHS = tf.linalg.inv(tf.linalg.diag(d_vector_v))\n",
    "\n",
    "    predictor = tf.reduce_all(tf.equal(diag_RHS, inv_LHS))\n",
    "    def true_print(): print(\"The inverse of LHS: \\n{} \\n\\nMatch the inverse of RHS: \\n{}\".format(diag_RHS, inv_LHS))\n",
    "    def false_print(): print(\"The inverse of LHS: \\n{} \\n\\n Does not match the inverse of RHS: \\n{}\".format(diag_RHS, inv_LHS))\n",
    "    tf.cond(predictor, true_print, false_print)\n",
    "    \n",
    "except:\n",
    "    print(\"The inverse exists only if every diagonal is nonzero, your vector looks: \\n{}\".format(d_vector_v))"
   ]
  },
  {
   "cell_type": "markdown",
   "metadata": {
    "colab_type": "text",
    "id": "Y9Q4K-yc7Ayz"
   },
   "source": [
    "Not all diagonal matrices need be square. It is possible to construct a rectangular diagonal matrix. Nonsquare diagonal matrices do not have inverses, but we can still multiply by them cheaply. For a nonsquare diagonal matrix $D$, the product $Dx$ will involve scaling each element of $x$ and either concatenating some zeros to the result, if $D$ is taller than it is wide, or discarding some of the last elements of the vector, if $D$ is wider than it is tall."
   ]
  },
  {
   "cell_type": "markdown",
   "metadata": {
    "colab_type": "text",
    "id": "hb5WlSwb_Pqh"
   },
   "source": [
    "A __symmetric__ matrix is any matrix that is equal to its own transpose:\n",
    "\n",
    "$A = A^{\\top}$\n",
    "\n",
    "Symmetric matrices often arise when the entries are generated by some function of two arguments that does not depend on the order of the arguments. For example, if $A$ is a matrix of distance measurements, with $A_{i,j}$ giving the distance from point *i* to point *j*, then $A_{i, j} = A_{j, i}$ because distance functions are symmetric."
   ]
  },
  {
   "cell_type": "code",
   "execution_count": 25,
   "metadata": {
    "colab": {
     "base_uri": "https://localhost:8080/",
     "height": 170
    },
    "colab_type": "code",
    "id": "YjaQdH1V_QEk",
    "outputId": "ed1503c7-3366-46ad-fecf-d65b68154cc4"
   },
   "outputs": [
    {
     "name": "stdout",
     "output_type": "stream",
     "text": [
      "Matrix A: \n",
      "[[0 1 3]\n",
      " [1 2 4]\n",
      " [3 4 5]] \n",
      "\n",
      "Matches the the transpose of Matrix A: \n",
      "[[0 1 3]\n",
      " [1 2 4]\n",
      " [3 4 5]]\n"
     ]
    }
   ],
   "source": [
    "# create a symmetric matrix\n",
    "sp_matrix_A = tf.constant([[0, 1, 3], [1, 2, 4], [3, 4, 5]], name=\"matrix_a\", dtype=tf.int32)\n",
    "\n",
    "# get the transpose of matrix A\n",
    "sp_transpose_a = tf.transpose(sp_matrix_A)\n",
    "\n",
    "predictor = tf.reduce_all(tf.equal(sp_matrix_A, sp_transpose_a))\n",
    "def true_print(): print(\"Matrix A: \\n{} \\n\\nMatches the the transpose of Matrix A: \\n{}\".format(sp_matrix_A, sp_transpose_a))\n",
    "def false_print(): print(\"Matrix A: \\n{} \\n\\nDoes Not match the the transpose of Matrix A: \\n{}\".format(sp_matrix_A, sp_transpose_a))\n",
    "\n",
    "tf.cond(predictor, true_print, false_print)"
   ]
  },
  {
   "cell_type": "markdown",
   "metadata": {
    "colab_type": "text",
    "id": "zLbGcoSU_QsK"
   },
   "source": [
    "A vector $x$ and a vector $y$ are __*orthogonal*__ to each other if $x^{\\top} y = 0$. If both vectors have nonzero norm, this means that they are at a 90 degree angle to each other."
   ]
  },
  {
   "cell_type": "code",
   "execution_count": 26,
   "metadata": {
    "colab": {
     "base_uri": "https://localhost:8080/",
     "height": 422
    },
    "colab_type": "code",
    "id": "nTJgnoJS_RH0",
    "outputId": "5dcd8536-33ca-4ee4-c718-b84e73a27db2"
   },
   "outputs": [
    {
     "name": "stdout",
     "output_type": "stream",
     "text": [
      "Vector x: [2. 2.] \n",
      "Vector y: [ 2. -2.]\n",
      "\n",
      "X transpose times y = 0.0\n",
      "\n",
      "Norm x: 2.8284270763397217 \n",
      "Norm y: 2.8284270763397217\n",
      "\n",
      "Angle between vector x and vector y is: 90.0 degrees\n"
     ]
    },
    {
     "data": {
      "image/png": "[encoded data removed]",
      "text/plain": [
       "<Figure size 432x288 with 1 Axes>"
      ]
     },
     "metadata": {
      "needs_background": "light"
     },
     "output_type": "display_data"
    }
   ],
   "source": [
    "# Lets create two vectors\n",
    "ortho_vector_x = tf.constant([2, 2], dtype=tf.float32, name=\"vector_x\")\n",
    "ortho_vector_y = tf.constant([2, -2], dtype=tf.float32, name=\"vector_y\")\n",
    "print(\"Vector x: {} \\nVector y: {}\\n\".format(ortho_vector_x, ortho_vector_y))\n",
    "\n",
    "# lets verify if x transpose dot y is zero\n",
    "ortho_LHS = tf.tensordot(tf.transpose(ortho_vector_x), ortho_vector_y, axes=1)\n",
    "print(\"X transpose times y = {}\\n\".format(ortho_LHS))\n",
    "\n",
    "# let's see what their norms are\n",
    "ortho_norm_x = tf.norm(ortho_vector_x)\n",
    "ortho_norm_y = tf.norm(ortho_vector_y)\n",
    "print(\"Norm x: {} \\nNorm y: {}\\n\".format(ortho_norm_x, ortho_norm_y))\n",
    "\n",
    "# If they have non zero norm, let's see what angle they are to each other\n",
    "if tf.logical_and(ortho_norm_x > 0, ortho_norm_y > 0):\n",
    "    # from the equation cos theta = (x dot y)/(norm of x times norm y)\n",
    "    cosine_angle = (tf.divide(tf.tensordot(ortho_vector_x, ortho_vector_y, axes=1), tf.multiply(ortho_norm_x, ortho_norm_y)))\n",
    "    print(\"Angle between vector x and vector y is: {} degrees\".format(tf.acos(cosine_angle) * 180 /np.pi))\n",
    "\n",
    "    origin=[0,0]\n",
    "    plt.rc_context({'axes.edgecolor':'orange', 'xtick.color':'red', 'ytick.color':'red'})\n",
    "    plt.xlim(-1, 10)\n",
    "    plt.ylim(-10, 10)\n",
    "    plt.axvline(x=0, color='grey', zorder=0)\n",
    "    plt.axhline(y=0, color='grey', zorder=0)\n",
    "    plt.text(1, 4, r'$\\vec{x}$', size=18)\n",
    "    plt.text(1, -6, r'$\\vec{y}$', size=18)\n",
    "    plt.quiver(*origin, ortho_vector_x, ortho_vector_y, color=['#FF9A13','#1190FF'], scale=8)\n",
    "    plt.show()"
   ]
  },
  {
   "cell_type": "markdown",
   "metadata": {
    "colab_type": "text",
    "id": "S9TQJmFrvjCs"
   },
   "source": [
    "A __unit vector__ is a vector with a __unit norm__: $||x||_2 = 1$.\n",
    "\n",
    "If two vectors are not only are orthogonal but also have unit norm, we call them __orthonormal__."
   ]
  },
  {
   "cell_type": "markdown",
   "metadata": {
    "colab_type": "text",
    "id": "Dm3RXJi_CB1e"
   },
   "source": [
    "A __orthogonal matrix__ is a square matrix whose rows are mutually orthonormal and whose columns are mutually orthonormal:\n",
    "\n",
    "$$\\color{Orange}{A^{\\top} A = AA^{\\top} = I \\tag{20}}$$\n",
    "\n",
    "which implies $A^{-1} = A^{\\top}$\n",
    "\n",
    "so orthogonal matrices are of interest because their inverse is very cheap to compute."
   ]
  },
  {
   "cell_type": "code",
   "execution_count": 27,
   "metadata": {
    "colab": {
     "base_uri": "https://localhost:8080/",
     "height": 524
    },
    "colab_type": "code",
    "id": "Q2JOiskHCCq8",
    "outputId": "123206f6-252e-4c80-fb3c-0c1f7c9f2f99"
   },
   "outputs": [
    {
     "name": "stdout",
     "output_type": "stream",
     "text": [
      "Matrix A: \n",
      "<tf.Variable 'matrixA:0' shape=(2, 2) dtype=float32, numpy=\n",
      "array([[ 0.87758255, -0.47942555],\n",
      "       [ 0.47942555,  0.87758255]], dtype=float32)>\n",
      "\n",
      "Columns are orthogonal: 0.0\n",
      "Rows are orthogonal: 0.0\n",
      "\n"
     ]
    },
    {
     "data": {
      "image/png": "[encoded data removed]",
      "text/plain": [
       "<Figure size 432x288 with 1 Axes>"
      ]
     },
     "metadata": {
      "needs_background": "light"
     },
     "output_type": "display_data"
    },
    {
     "name": "stdout",
     "output_type": "stream",
     "text": [
      "Inverse of Matrix A: \n",
      "[[ 0.87758255  0.47942555]\n",
      " [-0.47942555  0.87758255]] \n",
      "\n",
      "Equals the transpose of Matrix A: \n",
      "[[ 0.87758255  0.47942555]\n",
      " [-0.47942555  0.87758255]]\n"
     ]
    }
   ],
   "source": [
    "# Lets use sine and cosine to create orthogonal matrix\n",
    "ortho_matrix_A = tf.Variable([[tf.cos(.5), -tf.sin(.5)], [tf.sin(.5), tf.cos(.5)]], name=\"matrixA\")\n",
    "print(\"Matrix A: \\n{}\\n\".format(ortho_matrix_A))\n",
    "\n",
    "# extract columns from the matrix to verify if they are orthogonal\n",
    "col_0 = tf.reshape(ortho_matrix_A[:, 0], [2, 1])\n",
    "col_1 = tf.reshape(ortho_matrix_A[:, 1], [2, 1])\n",
    "row_0 = tf.reshape(ortho_matrix_A[0, :], [2, 1])\n",
    "row_1 = tf.reshape(ortho_matrix_A[1, :], [2, 1])\n",
    "\n",
    "# Verifying if the columns are orthogonal\n",
    "ortho_column = tf.tensordot(tf.transpose(col_0), col_1, axes=2)\n",
    "print(\"Columns are orthogonal: {}\".format(ortho_column))\n",
    "plt.rc_context({'axes.edgecolor':'orange', 'xtick.color':'red', 'ytick.color':'red'})\n",
    "origin = [0, 0]\n",
    "plt.xlim(-2, 2)\n",
    "plt.ylim(-3, 4)\n",
    "plt.axvline(x=0, color='grey', zorder=0)\n",
    "plt.axhline(y=0, color='grey', zorder=0)\n",
    "plt.text(0, 2, r'$\\vec{col_0}$', size=18)\n",
    "plt.text(0.5, -2, r'$\\vec{col_1}$', size=18)\n",
    "plt.quiver(*origin, col_0, col_1, color=['#FF9A13','#FF9A13'], scale=3)\n",
    "\n",
    "# Verifying if the rows are orthogonal\n",
    "ortho_row = tf.tensordot(tf.transpose(row_0), row_1, axes=2)\n",
    "print(\"Rows are orthogonal: {}\\n\".format(ortho_row))\n",
    "plt.text(-1, 2, r'$\\vec{row_0}$', size=18)\n",
    "plt.text(1, 0.5, r'$\\vec{row_1}$', size=18)\n",
    "plt.quiver(*origin, row_0, row_1, color=['r','r'], scale=3)\n",
    "plt.show()\n",
    "\n",
    "# inverse of matrix A\n",
    "ortho_inverse_A = tf.linalg.inv(ortho_matrix_A)\n",
    "\n",
    "# Transpose of matrix A\n",
    "ortho_transpose_A = tf.transpose(ortho_matrix_A)\n",
    "\n",
    "predictor = tf.reduce_all(tf.equal(ortho_inverse_A, ortho_transpose_A))\n",
    "def true_print(): print(\"Inverse of Matrix A: \\n{} \\n\\nEquals the transpose of Matrix A: \\n{}\".format(ortho_inverse_A, ortho_transpose_A))\n",
    "def false_print(): print(\"Inverse of Matrix A: \\n{} \\n\\nDoes not equal the transpose of Matrix A: \\n{}\".format(ortho_inverse_A, ortho_transpose_A))\n",
    "\n",
    "tf.cond(predictor, true_print, false_print)"
   ]
  },
  {
   "cell_type": "markdown",
   "metadata": {
    "colab_type": "text",
    "id": "iqm-A3-mIIQ8"
   },
   "source": [
    "# 02.07 - Eigendecomposition"
   ]
  },
  {
   "cell_type": "markdown",
   "metadata": {
    "colab_type": "text",
    "id": "C3sxNG4coJKI"
   },
   "source": [
    "We can represent a number, for example 12 as 12 = 2 x 2 x 3. The representation will change depending on whether we write it in base ten or in binary but the above representation will always be true and from that we can conclude that 12 is not divisible by 5 and that any integer multiple of 12 will be divisible by 3. \n",
    "\n",
    "Similarly, we can also decompose matrices in ways that show us information about their functional properties that is not obvious from the representation of the matrix as an array of elements. One of the most widely used kinds of matrix decomposition is called __eigendecomposition__, in which we decompose a matrix into a set of eigenvectors and eigenvalues.\n",
    "\n",
    "An __eigenvector__ of a square matrix $A$ is a nonzero vector $v$ such that multiplication by $A$ alters only the scale of $v$, in short this is a special vector that doesn't change the direction of the matrix when applied to it :\n",
    "\n",
    "$$\\color{Orange}{Av = \\lambda v \\tag{21}}$$\n",
    "\n",
    "The scale $\\lambda$ is known as the __eigenvalue__ corresponding to this eigenvector."
   ]
  },
  {
   "cell_type": "code",
   "execution_count": 28,
   "metadata": {
    "colab": {
     "base_uri": "https://localhost:8080/",
     "height": 473
    },
    "colab_type": "code",
    "id": "cepU9Pq-26hW",
    "outputId": "e235cb08-730f-41d6-a104-6783e825f393"
   },
   "outputs": [
    {
     "name": "stdout",
     "output_type": "stream",
     "text": [
      "Matrix A: \n",
      "[[8.319107  5.7952843]\n",
      " [5.759083  3.1578841]]\n",
      "\n",
      "Eigen Vectors: \n",
      "[[ 0.5436369 -0.8393205]\n",
      " [-0.8393205 -0.5436369]] \n",
      "\n",
      "Eigen Values: \n",
      "[-0.5723357 12.049327 ]\n",
      "\n"
     ]
    },
    {
     "data": {
      "image/png": "[encoded data removed]",
      "text/plain": [
       "<Figure size 432x288 with 1 Axes>"
      ]
     },
     "metadata": {
      "needs_background": "light"
     },
     "output_type": "display_data"
    }
   ],
   "source": [
    "# Let's see how we can compute the eigen vectors and values from a matrix\n",
    "e_matrix_A = tf.random.uniform([2, 2], minval=3, maxval=10, dtype=tf.float32, name=\"matrixA\")\n",
    "print(\"Matrix A: \\n{}\\n\".format(e_matrix_A))\n",
    "\n",
    "# Calculating the eigen values and vectors using tf.linalg.eigh, if you only want the values you can use eigvalsh\n",
    "eigen_values_A, eigen_vectors_A = tf.linalg.eigh(e_matrix_A)\n",
    "print(\"Eigen Vectors: \\n{} \\n\\nEigen Values: \\n{}\\n\".format(eigen_vectors_A, eigen_values_A))\n",
    "\n",
    "# Now lets plot our Matrix with the Eigen vector and see how it looks\n",
    "Av = tf.tensordot(e_matrix_A, eigen_vectors_A, axes=0)\n",
    "vector_plot([tf.reshape(Av, [-1]), tf.reshape(eigen_vectors_A, [-1])], 10, 10)"
   ]
  },
  {
   "cell_type": "markdown",
   "metadata": {
    "colab_type": "text",
    "id": "xCepvxWtCz-6"
   },
   "source": [
    "If $v$ is an eigenvector of $A$, then so is any rescaled vector $sv$ for $s \\in \\mathbb{R}, s \\neq 0$."
   ]
  },
  {
   "cell_type": "code",
   "execution_count": 29,
   "metadata": {
    "colab": {
     "base_uri": "https://localhost:8080/",
     "height": 269
    },
    "colab_type": "code",
    "id": "lZHzQadlC0Z_",
    "outputId": "c273214f-824f-45d2-b1c4-0da70300ee3e"
   },
   "outputs": [
    {
     "data": {
      "image/png": "[encoded data removed]",
      "text/plain": [
       "<Figure size 432x288 with 1 Axes>"
      ]
     },
     "metadata": {
      "needs_background": "light"
     },
     "output_type": "display_data"
    }
   ],
   "source": [
    "# Lets us multiply our eigen vector by a random value s and plot the above graph again to see the rescaling\n",
    "sv = tf.multiply(5, eigen_vectors_A)\n",
    "vector_plot([tf.reshape(Av, [-1]), tf.reshape(sv, [-1])], 10, 10)"
   ]
  },
  {
   "cell_type": "markdown",
   "metadata": {
    "colab_type": "text",
    "id": "gCZw_K6yC2pW"
   },
   "source": [
    "Suppose that a matrix $A$ has $n$ linearly independent eigenvectors $\\{v^{(1)}, \\cdots, v^{(n)}\\}$ with corresponding eigenvalues $\\{\\lambda_{(1)}, \\cdots, \\lambda_{(n)}\\}$. We may concatenate all the eigenvectors to form a matrix $V$ with one eigenvector per column: $V = [v^{(1)}, \\cdots, v^{(n)}]$. Likewise, we can concatenate the eigenvalues to form a vector $\\lambda = [\\lambda_{(1)}, \\cdots, \\lambda_{(n)}]^{\\top}$. The __eigendecomposition__ of $A$ is then given by\n",
    "\n",
    "$$\\color{Orange}{A = V diag(\\lambda)V^{-1} \\tag{22}}$$\n"
   ]
  },
  {
   "cell_type": "code",
   "execution_count": 30,
   "metadata": {
    "colab": {
     "base_uri": "https://localhost:8080/",
     "height": 238
    },
    "colab_type": "code",
    "id": "jWQc7HinC3Dw",
    "outputId": "912b01d6-7303-4e99-af68-82abc6dcab7d"
   },
   "outputs": [
    {
     "name": "stdout",
     "output_type": "stream",
     "text": [
      "Eigen Values of Matrix A: [0.8377222 7.1622777] \n",
      "\n",
      "Eigen Vector of Matrix A: \n",
      "[[ 0.5847103 -0.8112422]\n",
      " [-0.8112422 -0.5847103]]\n",
      "\n",
      "Diagonal of Lambda: \n",
      "[[0.8377222 0.       ]\n",
      " [0.        7.1622777]]\n",
      "\n",
      "The decomposition Matrix A: \n",
      "[[5.143026  3.1455011]\n",
      " [2.7475963 2.8470721]]\n"
     ]
    }
   ],
   "source": [
    "# Creating a matrix A to find it's decomposition\n",
    "eig_matrix_A = tf.constant([[5, 1], [3, 3]], dtype=tf.float32)\n",
    "new_eigen_values_A, new_eigen_vectors_A = tf.linalg.eigh(eig_matrix_A)\n",
    "\n",
    "print(\"Eigen Values of Matrix A: {} \\n\\nEigen Vector of Matrix A: \\n{}\\n\".format(new_eigen_values_A, new_eigen_vectors_A))\n",
    "\n",
    "# calculate the diag(lamda)\n",
    "diag_lambda = tf.linalg.diag(new_eigen_values_A)\n",
    "print(\"Diagonal of Lambda: \\n{}\\n\".format(diag_lambda))\n",
    "\n",
    "# Find the eigendecomposition of matrix A\n",
    "decomp_A = tf.tensordot(tf.tensordot(eigen_vectors_A, diag_lambda, axes=1), tf.linalg.inv(new_eigen_vectors_A), axes=1)\n",
    "\n",
    "print(\"The decomposition Matrix A: \\n{}\".format(decomp_A))"
   ]
  },
  {
   "cell_type": "markdown",
   "metadata": {
    "colab_type": "text",
    "id": "O5aixrcmC3pZ"
   },
   "source": [
    "Not every matrix can be decomposed into eigenvalues and eigenvectors. In some cases, the decomposition exists but involves complex rather than real numbers.\n",
    "\n",
    "In this book, we usually need to decompose only a specific class of matrices that have a simple decomposition. Specifically, every real symmetric matrix can be decomposed into an expression using only real-valued eigenvectors and eigenvalues:\n",
    "\n",
    "$$\\color{Orange}{A = Q \\Lambda Q^{\\top} \\tag{23}}$$\n",
    "\n",
    "where $Q$ is an orthogonal matrix composed of eigenvectors of $A$ and $\\Lambda$ is a diagonal matrix. The eigenvalue $\\Lambda_{i,i}$ is associated with the eigenvector in column *i* of $Q$, denoted as $Q_{:, i}$. Because $Q$ is an orthogonal matrix, we can think of $A$ as scaling space by $\\Lambda_i$ in direction $v^{(i)}$."
   ]
  },
  {
   "cell_type": "code",
   "execution_count": 31,
   "metadata": {
    "colab": {
     "base_uri": "https://localhost:8080/",
     "height": 374
    },
    "colab_type": "code",
    "id": "c057PJzaK07f",
    "outputId": "efe33e88-9306-4281-c28b-61de2c526c9a"
   },
   "outputs": [
    {
     "name": "stdout",
     "output_type": "stream",
     "text": [
      "Symmetric Matrix A: \n",
      "[[6.546125  2.0677447]\n",
      " [2.0677447 7.2951584]]\n",
      "\n",
      "Matrix Q: \n",
      "[[-0.76753616  0.64100564]\n",
      " [ 0.64100564  0.76753616]]\n",
      "\n",
      "Matrix Lambda: \n",
      "[[4.819254 0.      ]\n",
      " [0.       9.02203 ]]\n",
      "\n",
      "It WORKS. \n",
      "RHS: \n",
      "[[6.5461254 2.0677447]\n",
      " [2.0677447 7.2951584]] \n",
      "\n",
      "LHS: \n",
      "[[6.546125  2.0677447]\n",
      " [2.0677447 7.2951584]]\n"
     ]
    }
   ],
   "source": [
    "# In section 2.6 we manually created a matrix to verify if it is symmetric, but what if we don't know the exact values and want to create a random symmetric matrix\n",
    "new_matrix_A = tf.Variable(tf.random.uniform([2,2], minval=1, maxval=10, dtype=tf.float32))\n",
    "\n",
    "# to create an upper triangular matrix from a square one\n",
    "X_upper = tf.linalg.band_part(new_matrix_A, 0, -1)\n",
    "sym_matrix_A = tf.multiply(0.5, (X_upper + tf.transpose(X_upper)))\n",
    "print(\"Symmetric Matrix A: \\n{}\\n\".format(sym_matrix_A))\n",
    "\n",
    "# create orthogonal matrix Q from eigen vectors of A\n",
    "eigen_values_Q, eigen_vectors_Q = tf.linalg.eigh(sym_matrix_A)\n",
    "print(\"Matrix Q: \\n{}\\n\".format(eigen_vectors_Q))\n",
    "\n",
    "# putting eigen values in a diagonal matrix\n",
    "new_diag_lambda = tf.linalg.diag(eigen_values_Q)\n",
    "print(\"Matrix Lambda: \\n{}\\n\".format(new_diag_lambda))\n",
    "\n",
    "sym_RHS = tf.tensordot(tf.tensordot(eigen_vectors_Q, new_diag_lambda, axes=1), tf.transpose(eigen_vectors_Q), axes=1)\n",
    "\n",
    "predictor = tf.reduce_all(tf.equal(tf.round(sym_RHS), tf.round(sym_matrix_A)))\n",
    "def true_print(): print(\"It WORKS. \\nRHS: \\n{} \\n\\nLHS: \\n{}\".format(sym_RHS, sym_matrix_A))\n",
    "def false_print(): print(\"Condition FAILED. \\nRHS: \\n{} \\n\\nLHS: \\n{}\".format(sym_RHS, sym_matrix_A))\n",
    "\n",
    "tf.cond(predictor, true_print, false_print)"
   ]
  },
  {
   "cell_type": "markdown",
   "metadata": {
    "colab_type": "text",
    "id": "BcOmR2UyIYmW"
   },
   "source": [
    "The eigendecomposition of a matrix tells us many useful facts about the matrix. The matrix is singular if and only if any of the eigenvalues are zero. The eigendecomposition of a real symmetric matrix can also be used to optimize quadratic expressions of the form$f(x) = x^{\\top} Ax$ subject to $||x||_2 = 1$. \n",
    "\n",
    "The above equation can be solved as following, we know that if $x$ is an Eigenvector of $A$ and $\\lambda$ is the corresponding eigenvalue, then $Ax = \\lambda x$, therefore $f(x) = x^{\\top} Ax = x^{\\top} \\lambda x = x^{\\top} x \\lambda$ and since $||x||_2 = 1$ and $x^{\\top} x =1$, the above equation boils down to $f(x) = \\lambda$\n",
    "\n",
    "Whenever $x$ is equal to an eigenvector of $A, \\ f$ takes on the value of the corresponding eigenvalue and its minimum value within the constraint region is the minimum eigenvalue."
   ]
  },
  {
   "cell_type": "markdown",
   "metadata": {
    "colab_type": "text",
    "id": "zbuHw8qvHlmH"
   },
   "source": [
    "A matrix whose eigenvalues are all positive is called __positive definite__. A matrix whose eigenvalues are all positive or zero valued is called __positive semidefinite__. Likewise, if all eigenvalues are negative, the matrix is __negative definite__, and if all eigenvalues are negative or zero valued, it is __negative semidefinite__. Positive semidefinite matrices are interesting because they guarantee that $\\forall x, x^{\\top} Ax \\geq 0$. Positive definite matrices additionally guarantee that $x^{\\top} Ax = 0 \\implies x=0$.\n",
    "\n",
    "![Eigenvalue plots](https://raw.githubusercontent.com/adhiraiyan/DeepLearningWithTF2.0/master/notebooks/figures/fig0207a.PNG)"
   ]
  },
  {
   "cell_type": "markdown",
   "metadata": {
    "colab_type": "text",
    "id": "iSPdyYA5IKfn"
   },
   "source": [
    "# 02.08 - Singular Value Decomposition"
   ]
  },
  {
   "cell_type": "markdown",
   "metadata": {
    "colab_type": "text",
    "id": "RDsv5fWQoJ0K"
   },
   "source": [
    "The __singular value decomposition (SVD)__ provides another way to factorize a matrix into  __singular vectors__ and __singular values__. The SVD enables us to discover some of the same kind of information as the eigendecomposition reveals, however, the SVD is more generally applicable. Every real matrix has a singular value decomposition, but the same is not true of the eigenvalue decomposition. SVD can be written as:\n",
    "\n",
    "$$\\color{Orange}{A = UDV^{\\top} \\tag{24}}$$\n",
    "\n",
    "Suppose $A$ is an *m x n* matrix, then $U$ is defined to be an *m x m* rotation matrix, $D$ to be an *m x n* matrix scaling & projecting matrix, and $V$ to be an *n x n* rotation matrix.\n",
    "\n",
    "Each of these matrices is defined to have a special structure. The matrices $U$ and $V$ are both defined to be orthogonal matrices $(U^{\\top} = U^{-1} \\ \\text{and} \\ V^{\\top} = V^{-1})$. The matrix $D$ is defined to be a diagonal matrix.\n",
    "\n",
    "The elements along the diagonal of $D$ are known as the __singular values__ of the matrix $A$. The columns of $U$ are known as the __left-singular vectors__. The columns of $V$ are known as the __right-singular vectors__.\n",
    "\n",
    "![Singular Value Decomposition](https://raw.githubusercontent.com/adhiraiyan/DeepLearningWithTF2.0/master/notebooks/figures/fig0208a.png)"
   ]
  },
  {
   "cell_type": "code",
   "execution_count": 32,
   "metadata": {
    "colab": {
     "base_uri": "https://localhost:8080/",
     "height": 289
    },
    "colab_type": "code",
    "id": "_JFGh7SKEcU9",
    "outputId": "693ccbfb-7998-403a-ff04-ae037c204d36"
   },
   "outputs": [
    {
     "name": "stdout",
     "output_type": "stream",
     "text": [
      "Matrix A: \n",
      "[[2. 3.]\n",
      " [4. 5.]\n",
      " [6. 7.]]\n",
      "\n",
      "Diagonal D: \n",
      "[11.782491    0.41578427] \n",
      "\n",
      "Matrix U: \n",
      "[[-0.3044984   0.86058897  0.40824863]\n",
      " [-0.54340035  0.1950629  -0.81649643]\n",
      " [-0.78230214 -0.4704645   0.4082481 ]] \n",
      "\n",
      "Matrix V^T: \n",
      "[[-0.6345358 -0.7728935]\n",
      " [-0.7728935  0.6345358]]\n"
     ]
    }
   ],
   "source": [
    "# mxn matrix A\n",
    "svd_matrix_A = tf.constant([[2, 3], [4, 5], [6, 7]], dtype=tf.float32)\n",
    "print(\"Matrix A: \\n{}\\n\".format(svd_matrix_A))\n",
    "\n",
    "# Using tf.linalg.svd to calculate the singular value decomposition where d: Matrix D, u: Matrix U and v: Matrix V\n",
    "d, u, v = tf.linalg.svd(svd_matrix_A, full_matrices=True, compute_uv=True)\n",
    "print(\"Diagonal D: \\n{} \\n\\nMatrix U: \\n{} \\n\\nMatrix V^T: \\n{}\".format(d, u, v))"
   ]
  },
  {
   "cell_type": "code",
   "execution_count": 33,
   "metadata": {
    "colab": {
     "base_uri": "https://localhost:8080/",
     "height": 425
    },
    "colab_type": "code",
    "id": "qLZ6MRJLILAV",
    "outputId": "dbc522ea-93c9-424b-e13b-396170b416f0"
   },
   "outputs": [
    {
     "name": "stdout",
     "output_type": "stream",
     "text": [
      "Orthogonal Matrix U: \n",
      "[[ 0.30449855 -0.86058956  0.40824753]\n",
      " [ 0.54340035 -0.19506174 -0.81649673]\n",
      " [ 0.78230214  0.47046405  0.40824872]]\n",
      "\n",
      "Diagonal Matrix D: \n",
      "[[11.782492    0.        ]\n",
      " [ 0.          0.41578525]\n",
      " [ 0.          0.        ]]\n",
      "\n",
      "Transpose Matrix V: \n",
      "[[ 0.63453555  0.7728936 ]\n",
      " [ 0.7728936  -0.63453555]]\n",
      "\n",
      "It WORKS. \n",
      "RHS: \n",
      "[[2. 3.]\n",
      " [4. 5.]\n",
      " [6. 7.]] \n",
      "\n",
      "LHS: \n",
      "[[2. 3.]\n",
      " [4. 5.]\n",
      " [6. 7.]]\n"
     ]
    }
   ],
   "source": [
    "# Lets see if we can bring back the original matrix from the values we have\n",
    "\n",
    "# mxm orthogonal matrix U\n",
    "svd_matrix_U = tf.constant([[0.30449855, -0.86058956, 0.40824753], [0.54340035, -0.19506174, -0.81649673], [0.78230214, 0.47046405, 0.40824872]])\n",
    "print(\"Orthogonal Matrix U: \\n{}\\n\".format(svd_matrix_U))\n",
    "\n",
    "# mxn diagonal matrix D\n",
    "svd_matrix_D = tf.constant([[11.782492, 0], [0, 0.41578525], [0, 0]], dtype=tf.float32)\n",
    "print(\"Diagonal Matrix D: \\n{}\\n\".format(svd_matrix_D))\n",
    "\n",
    "# nxn transpose of matrix V\n",
    "svd_matrix_V_trans = tf.constant([[0.63453555, 0.7728936], [0.7728936, -0.63453555]], dtype=tf.float32)\n",
    "print(\"Transpose Matrix V: \\n{}\\n\".format(svd_matrix_V_trans))\n",
    "\n",
    "# UDV(^T)\n",
    "svd_RHS = tf.tensordot(tf.tensordot(svd_matrix_U, svd_matrix_D, axes=1), svd_matrix_V_trans, axes=1)\n",
    "\n",
    "predictor = tf.reduce_all(tf.equal(tf.round(svd_RHS), svd_matrix_A))\n",
    "def true_print(): print(\"It WORKS. \\nRHS: \\n{} \\n\\nLHS: \\n{}\".format(tf.round(svd_RHS), svd_matrix_A))\n",
    "def false_print(): print(\"Condition FAILED. \\nRHS: \\n{} \\n\\nLHS: \\n{}\".format(tf.round(svd_RHS), svd_matrix_A))\n",
    "    \n",
    "tf.cond(predictor, true_print, false_print)"
   ]
  },
  {
   "cell_type": "markdown",
   "metadata": {
    "colab_type": "text",
    "id": "a5rObIJ_mfhA"
   },
   "source": [
    "Matrix $A$ can be seen as a linear transformation. This transformation can be decomposed into three sub-transformations: \n",
    "\n",
    "1. Rotation, \n",
    "2. Re-scaling and projecting, \n",
    "3. Rotation. \n",
    "\n",
    "These three steps correspond to the three matrices $U, D \\ \\text{and} \\ V$\n",
    "\n",
    "Let's see how these transformations are taking place in order"
   ]
  },
  {
   "cell_type": "code",
   "execution_count": 34,
   "metadata": {
    "colab": {
     "base_uri": "https://localhost:8080/",
     "height": 809
    },
    "colab_type": "code",
    "id": "LbnTw1v7mgOU",
    "outputId": "5f57fae5-fc3f-43c0-91da-c90314cbd2e0"
   },
   "outputs": [
    {
     "data": {
      "image/png": "[encoded data removed]",
      "text/plain": [
       "<Figure size 432x288 with 1 Axes>"
      ]
     },
     "metadata": {
      "needs_background": "light"
     },
     "output_type": "display_data"
    },
    {
     "data": {
      "image/png": "[encoded data removed]",
      "text/plain": [
       "<Figure size 432x288 with 1 Axes>"
      ]
     },
     "metadata": {
      "needs_background": "light"
     },
     "output_type": "display_data"
    },
    {
     "data": {
      "image/png": "[encoded data removed]",
      "text/plain": [
       "<Figure size 432x288 with 1 Axes>"
      ]
     },
     "metadata": {
      "needs_background": "light"
     },
     "output_type": "display_data"
    }
   ],
   "source": [
    "# Let's define a unit square\n",
    "svd_square = tf.constant([[0, 0, 1, 1],[0, 1, 1, 0]], dtype=tf.float32)\n",
    "\n",
    "# a new 2x2 matrix\n",
    "svd_new_matrix = tf.constant([[1, 1.5], [0, 1]])\n",
    "\n",
    "# SVD for the new matrix\n",
    "new_d, new_u, new_v = tf.linalg.svd(svd_new_matrix, full_matrices=True, compute_uv=True)\n",
    "\n",
    "# lets' change d into a diagonal matrix\n",
    "new_d_marix = tf.linalg.diag(new_d)\n",
    "\n",
    "# Rotation: V^T for a unit square\n",
    "plot_transform(svd_square, tf.tensordot(new_v, svd_square, axes=1), \"$Square$\", \"$V^T \\cdot Square$\", \"Rotation\", axis=[-0.5, 3.5 , -1.5, 1.5])\n",
    "plt.show()\n",
    "\n",
    "# Scaling and Projecting: DV^(T)\n",
    "plot_transform(tf.tensordot(new_v, svd_square, axes=1), tf.tensordot(new_d_marix, tf.tensordot(new_v, svd_square, axes=1), axes=1), \"$V^T \\cdot Square$\", \"$D \\cdot V^T \\cdot Square$\", \n",
    "               \"Scaling and Projecting\", axis=[-0.5, 3.5 , -1.5, 1.5])\n",
    "plt.show()\n",
    "\n",
    "# Second Rotation: UDV^(T)\n",
    "trans_1 = tf.tensordot(tf.tensordot(new_d_marix, new_v, axes=1), svd_square, axes=1)\n",
    "trans_2 = tf.tensordot(tf.tensordot(tf.tensordot(new_u, new_d_marix, axes=1), new_v, axes=1), svd_square, axes=1)\n",
    "plot_transform(trans_1, trans_2,\"$U \\cdot D \\cdot V^T \\cdot Square$\", \"$D \\cdot V^T \\cdot Square$\", \n",
    "                    \"Second Rotation\", color=['#1190FF', '#FF9A13'], axis=[-0.5, 3.5 , -1.5, 1.5])\n",
    "plt.show()"
   ]
  },
  {
   "cell_type": "markdown",
   "metadata": {
    "colab_type": "text",
    "id": "NdrBXo-PmQY1"
   },
   "source": [
    "The above sub transformations can be found for each matrix as follows:\n",
    "\n",
    "- $U$ corresponds to the eigenvectors of $A A^{\\top}$ \n",
    "- $V$ corresponds to the eigenvectors of $A^{\\top} A$\n",
    "- $D$ corresponds to the eigenvalues $A A^{\\top}$  or $A^{\\top} A$ which are the same.\n",
    "\n",
    "As an exercise try proving this is the case.\n",
    "\n",
    "Perhaps the most useful feature of the SVD is that we can use it to partially generalize matrix inversion to nonsquare matrices, as we will see in the next section."
   ]
  },
  {
   "cell_type": "markdown",
   "metadata": {
    "colab_type": "text",
    "id": "uzJR2fP5INLH"
   },
   "source": [
    "# 02.09 - The Moore-Penrose Pseudoinverse"
   ]
  },
  {
   "cell_type": "markdown",
   "metadata": {
    "colab_type": "text",
    "id": "1LQ48tySoKdT"
   },
   "source": [
    "Matrix inversion is not defined for matrices that are not square. Suppose we want to make a left-inverse $B$ of a matrix $A$ so that we can solve a linear equation $Ax = Y$ by left multiplying each side to obtain $x = By$.\n",
    "\n",
    "Depending on the structure of the problem, it may not be possible to design a unique mapping from $A$ to $B$.\n",
    "\n",
    "The __Moore-Penrose pseudoinverse__ enables use to make some headway in these cases. The pseudoinverse of $A$ is defined as a matrix:\n",
    "\n",
    "$$\\color{Orange}{A^+ = lim_{\\alpha \\rightarrow 0} (A^T A + \\alpha I)^{-1} A^{\\top} \\tag{25}}$$\n",
    "\n",
    "Practical algorithms for computing the pseudoinverse are based not on this definition, but rather on the formula:\n",
    "\n",
    "$$\\color{Orange}{A^+ = VD^+U^{\\top} \\tag{26}}$$\n",
    "\n",
    "where $U, D$ and $V$ are the singular decomposition of $A$ and the pseudoinverse of $D^+$ of a diagonal matrix $D$ is obtained by taking the reciprocal of its nonzero elements then taking the transpose of the resulting matrix."
   ]
  },
  {
   "cell_type": "code",
   "execution_count": 35,
   "metadata": {
    "colab": {
     "base_uri": "https://localhost:8080/",
     "height": 374
    },
    "colab_type": "code",
    "id": "zN0ycGMvINu1",
    "outputId": "346aa29b-4b5f-4526-c4e1-b8ad7d7f1b71"
   },
   "outputs": [
    {
     "name": "stdout",
     "output_type": "stream",
     "text": [
      "Matrix A: \n",
      "[[3.6011643 7.59064  ]\n",
      " [4.724762  3.8558187]\n",
      " [5.4980936 6.9874854]]\n",
      "\n",
      "Matrix U: \n",
      "[[-0.61264366  0.6849065  -0.39442456]\n",
      " [-0.4368238  -0.7093219  -0.5532155 ]\n",
      " [-0.65867484 -0.16663003  0.7337451 ]] \n",
      "\n",
      "Matrix V: \n",
      "[[-0.58512616 -0.8109423 ]\n",
      " [-0.8109423   0.58512616]]\n",
      "\n",
      "D plus: \n",
      "[[0.07414567 0.         0.        ]\n",
      " [0.         0.45025742 0.        ]]\n",
      "\n",
      "The Moore-Penrose pseudoinverse of Matrix A: \n",
      "[[-0.22350253  0.27794808  0.08941841]\n",
      " [ 0.21728063 -0.16061082 -0.0042952 ]]\n"
     ]
    }
   ],
   "source": [
    "# Matrix A\n",
    "mpp_matrix_A = tf.random.uniform([3, 2], minval=1, maxval=10, dtype=tf.float32)\n",
    "print(\"Matrix A: \\n{}\\n\".format(mpp_matrix_A))\n",
    "\n",
    "# Singular Value decomposition of matrix A\n",
    "mpp_d, mpp_u, mpp_v = tf.linalg.svd(mpp_matrix_A, full_matrices=True, compute_uv=True)\n",
    "print(\"Matrix U: \\n{} \\n\\nMatrix V: \\n{}\\n\".format(mpp_u, mpp_v))\n",
    "\n",
    "# pseudo inverse of matrix D\n",
    "d_plus = tf.concat([tf.transpose(tf.linalg.diag(tf.math.reciprocal(mpp_d))), tf.zeros([2, 1])], axis=1)\n",
    "print(\"D plus: \\n{}\\n\".format(d_plus))\n",
    "\n",
    "# moore-penrose pseudoinverse of matrix A\n",
    "matrix_A_star = tf.matmul(tf.matmul(mpp_v, d_plus, transpose_a=True), mpp_u, transpose_b=True)\n",
    "\n",
    "print(\"The Moore-Penrose pseudoinverse of Matrix A: \\n{}\".format(matrix_A_star))"
   ]
  },
  {
   "cell_type": "markdown",
   "metadata": {
    "colab_type": "text",
    "id": "QNJD5L__fwaL"
   },
   "source": [
    "When $A$ has more columns than rows, then solving a linear equation using the pseudoinverse provides one of the many possible solutions. Specifically, it provides the solution $x = A^+y$ with minimal Euclidean norm $||x||_2$ among all possible solutions."
   ]
  },
  {
   "cell_type": "code",
   "execution_count": 36,
   "metadata": {
    "colab": {
     "base_uri": "https://localhost:8080/",
     "height": 153
    },
    "colab_type": "code",
    "id": "mRCWcuJnSB4H",
    "outputId": "b1791916-92ae-441b-c850-86d50c17cc83"
   },
   "outputs": [
    {
     "name": "stdout",
     "output_type": "stream",
     "text": [
      "Vector y: \n",
      "[[2.]\n",
      " [3.]\n",
      " [4.]]\n",
      "\n",
      "Vector x: \n",
      "[[ 0.7445128 ]\n",
      " [-0.06445204]]\n"
     ]
    }
   ],
   "source": [
    "mpp_vector_y = tf.constant([[2], [3], [4]], dtype=tf.float32)\n",
    "print(\"Vector y: \\n{}\\n\".format(mpp_vector_y))\n",
    "\n",
    "mpp_vector_x = tf.matmul(matrix_A_star, mpp_vector_y)\n",
    "print(\"Vector x: \\n{}\".format(mpp_vector_x))"
   ]
  },
  {
   "cell_type": "markdown",
   "metadata": {
    "colab_type": "text",
    "id": "k9thS9HEfxLY"
   },
   "source": [
    "When $A$ has more rows than columns, it is possible for there to be no solution. In this case, using the pseudoinverse gives us the $x$ for which $Ax$ is as close as possible to $y$ in terms of Euclidean norm $||Ax - y||_2$"
   ]
  },
  {
   "cell_type": "markdown",
   "metadata": {
    "colab_type": "text",
    "id": "KFn1dBPdIPtd"
   },
   "source": [
    "# 02.10 - The Trace Operator"
   ]
  },
  {
   "cell_type": "markdown",
   "metadata": {
    "colab_type": "text",
    "id": "cdnbW6nLoK-6"
   },
   "source": [
    "The trace operator gives the sum of all the diagonal entries of a matrix:\n",
    "\n",
    "$$\\color{Orange}{Tr(A) = \\displaystyle\\sum_i A_{i,i} \\tag{27}}$$\n"
   ]
  },
  {
   "cell_type": "code",
   "execution_count": 37,
   "metadata": {
    "colab": {
     "base_uri": "https://localhost:8080/",
     "height": 102
    },
    "colab_type": "code",
    "id": "-A7QQcJ0IQSl",
    "outputId": "3b0e3924-7234-4531-b478-9ab28a7aeb21"
   },
   "outputs": [
    {
     "name": "stdout",
     "output_type": "stream",
     "text": [
      "Trace of Matrix A: \n",
      "[[2.8147602 1.1210978 9.677749 ]\n",
      " [1.1081862 7.782649  7.678748 ]\n",
      " [4.745021  9.460737  1.7449403]] \n",
      "is: 12.342350006103516\n"
     ]
    }
   ],
   "source": [
    "# random 3x3 matrix A\n",
    "to_matrix_A = tf.random.uniform([3, 3], minval=0, maxval=10, dtype=tf.float32)\n",
    "\n",
    "# trace of matrix A using tf.linalg.trace\n",
    "trace_matrix_A = tf.linalg.trace(to_matrix_A)\n",
    "\n",
    "print(\"Trace of Matrix A: \\n{} \\nis: {}\".format(to_matrix_A, trace_matrix_A))"
   ]
  },
  {
   "cell_type": "markdown",
   "metadata": {
    "colab_type": "text",
    "id": "8UQt98ydgUeC"
   },
   "source": [
    "The trace operator is useful for a variety of reasons. Some operations that are difficult to specify without resorting to summation notation can be specified using matrix products and the trace operator. For example, the trace operator provides\n",
    "an alternative way of writing the Frobenius norm of a matrix:\n",
    "\n",
    "$$\\color{Orange}{||A||_F = \\sqrt{Tr(AA^{\\top})} \\tag{28}}$$\n"
   ]
  },
  {
   "cell_type": "code",
   "execution_count": 38,
   "metadata": {
    "colab": {
     "base_uri": "https://localhost:8080/",
     "height": 68
    },
    "colab_type": "code",
    "id": "hvnl_PTNgVJK",
    "outputId": "91b384a5-f236-424e-bc2f-a42b0ad43bea"
   },
   "outputs": [
    {
     "name": "stdout",
     "output_type": "stream",
     "text": [
      "It WORKS. \n",
      "RHS: 18.40285301208496 \n",
      "LHS: 18.40285301208496\n"
     ]
    }
   ],
   "source": [
    "# Frobenius Norm of A\n",
    "frobenius_A = tf.norm(to_matrix_A)\n",
    "\n",
    "# sqrt(Tr(A times A^T))\n",
    "trace_rhs = tf.sqrt(tf.linalg.trace(tf.matmul(to_matrix_A, to_matrix_A, transpose_b=True)))\n",
    "\n",
    "predictor = tf.equal(tf.round(frobenius_A), tf.round(trace_rhs))\n",
    "def true_print(): print(\"It WORKS. \\nRHS: {} \\nLHS: {}\".format(frobenius_A, trace_rhs))\n",
    "def false_print(): print(\"Condition FAILED. \\nRHS: {} \\nLHS: {}\".format(frobenius_A, trace_rhs))\n",
    "    \n",
    "tf.cond(predictor, true_print, false_print)"
   ]
  },
  {
   "cell_type": "markdown",
   "metadata": {
    "colab_type": "text",
    "id": "dKDQCoRmgVve"
   },
   "source": [
    "Writing an expression in terms of the trace operator opens up opportunities to manipulate the expression using many useful identities. For example, the trace operator is invariant to the transpose operator:\n",
    "\n",
    "$$\\color{Orange}{Tr(A) = Tr(A^{\\top}) \\tag{29}}$$\n"
   ]
  },
  {
   "cell_type": "code",
   "execution_count": 39,
   "metadata": {
    "colab": {
     "base_uri": "https://localhost:8080/",
     "height": 68
    },
    "colab_type": "code",
    "id": "p6L21KbGgWL4",
    "outputId": "4caac4e9-308e-49af-a735-a43535d51c14"
   },
   "outputs": [
    {
     "name": "stdout",
     "output_type": "stream",
     "text": [
      "It WORKS. \n",
      "RHS: 12.342350006103516 \n",
      "LHS: 12.342350006103516\n"
     ]
    }
   ],
   "source": [
    "# Transpose of Matrix A\n",
    "trans_matrix_A = tf.transpose(to_matrix_A)\n",
    "\n",
    "#Trace of the transpose Matrix A\n",
    "trace_trans_A = tf.linalg.trace(trans_matrix_A)\n",
    "\n",
    "predictor = tf.equal(trace_matrix_A, trace_trans_A)\n",
    "def true_print(): print(\"It WORKS. \\nRHS: {} \\nLHS: {}\".format(trace_matrix_A, trace_trans_A))\n",
    "def false_print(): print(\"Condition FAILED. \\nRHS: {} \\nLHS: {}\".format(trace_matrix_A, trace_trans_A))\n",
    "    \n",
    "tf.cond(predictor, true_print, false_print)"
   ]
  },
  {
   "cell_type": "markdown",
   "metadata": {
    "colab_type": "text",
    "id": "glbzaSZxg-qp"
   },
   "source": [
    "The trace of a square matrix composed of many factors is also invariant to moving the last factor into the first position, if the shapes of the corresponding matrices allow the resulting product to be defined:\n",
    "\n",
    "$$\\color{Orange}{Tr(ABC) = Tr(CAB) = TR(BCA) \\tag{30}}$$\n"
   ]
  },
  {
   "cell_type": "code",
   "execution_count": 40,
   "metadata": {
    "colab": {
     "base_uri": "https://localhost:8080/",
     "height": 85
    },
    "colab_type": "code",
    "id": "Cb2s2ehwg-Gi",
    "outputId": "c24e46d5-b887-4205-c9d1-8384b61e4160"
   },
   "outputs": [
    {
     "name": "stdout",
     "output_type": "stream",
     "text": [
      "It WORKS. \n",
      "ABC: 4564.79443359375 \n",
      "CAB: 4564.79443359375 \n",
      "BCA: 4564.79443359375\n"
     ]
    }
   ],
   "source": [
    "# random 3x3 matrix B and matrix C\n",
    "to_matrix_B = tf.random.uniform([3, 3], minval=0, maxval=10, dtype=tf.float32)\n",
    "to_matrix_C = tf.random.uniform([3, 3], minval=0, maxval=10, dtype=tf.float32)\n",
    "\n",
    "# ABC\n",
    "abc = tf.tensordot((tf.tensordot(to_matrix_A, to_matrix_B, axes=1)), to_matrix_C, axes=1)\n",
    "\n",
    "# CAB\n",
    "cab = tf.tensordot((tf.tensordot(to_matrix_C, to_matrix_A, axes=1)), to_matrix_B, axes=1)\n",
    "\n",
    "# BCA\n",
    "bca = tf.tensordot((tf.tensordot(to_matrix_B, to_matrix_C, axes=1)), to_matrix_A, axes=1)\n",
    "\n",
    "# trace of matrix ABC, CAB and matrix BCA\n",
    "trace_matrix_abc = tf.linalg.trace(abc)\n",
    "trace_matrix_cab = tf.linalg.trace(cab)\n",
    "trace_matrix_bca = tf.linalg.trace(bca)\n",
    "\n",
    "predictor = tf.equal(tf.round(trace_matrix_abc), tf.round(trace_matrix_cab)) and tf.equal(tf.round(trace_matrix_cab), tf.round(trace_matrix_bca))\n",
    "def true_print(): print(\"It WORKS. \\nABC: {} \\nCAB: {} \\nBCA: {}\".format(trace_matrix_abc, trace_matrix_cab, trace_matrix_bca))\n",
    "def false_print(): print(\"Condition FAILED. \\nABC: {} \\nCAB: {} \\nBCA: {}\".format(trace_matrix_abc, trace_matrix_cab, trace_matrix_bca))\n",
    "    \n",
    "tf.cond(predictor, true_print, false_print)"
   ]
  },
  {
   "cell_type": "markdown",
   "metadata": {
    "colab_type": "text",
    "id": "doWjKavMhsUa"
   },
   "source": [
    "This invariance to cyclic permutation holds even if the resulting product has a different shape. For example, for $A \\in \\mathbb{R}^{m \\times n}$ and $B \\in \\mathbb{R}^{n \\times m}$, we have $Tr(AB) = Tr(BA)$ even though $AB \\in \\mathbb{R}^{m \\times m}$ and $BA \\in \\mathbb{R}^{n \\times n}$"
   ]
  },
  {
   "cell_type": "code",
   "execution_count": 41,
   "metadata": {
    "colab": {
     "base_uri": "https://localhost:8080/",
     "height": 221
    },
    "colab_type": "code",
    "id": "G95Dx1kniE34",
    "outputId": "df9f1385-42fd-4aaa-ca04-ac0dfda04255"
   },
   "outputs": [
    {
     "name": "stdout",
     "output_type": "stream",
     "text": [
      " 3x2 Matrix A: \n",
      "[[4.616103  6.486106 ]\n",
      " [2.9251838 7.6910257]\n",
      " [8.250601  2.1298242]]\n",
      "\n",
      " 3x2 Matrix B: \n",
      "[[3.4789681 3.3231294 7.8273067]\n",
      " [5.0462427 4.882592  3.4687757]]\n",
      "\n",
      "It WORKS. \n",
      "AB: 168.030517578125 \n",
      "BA: 168.030517578125\n"
     ]
    }
   ],
   "source": [
    "# mxn matrix A\n",
    "to_new_matrix_A = tf.random.uniform([3, 2], minval=0, maxval=10, dtype=tf.float32)\n",
    "print(\" 3x2 Matrix A: \\n{}\\n\".format(to_new_matrix_A))\n",
    "\n",
    "# mxn matrix B\n",
    "to_new_matrix_B = tf.random.uniform([2, 3], minval=0, maxval=10, dtype=tf.float32)\n",
    "print(\" 3x2 Matrix B: \\n{}\\n\".format(to_new_matrix_B))\n",
    "\n",
    "# trace of matrix AB and BA\n",
    "ab = tf.linalg.trace(tf.matmul(to_new_matrix_A, to_new_matrix_B))\n",
    "ba = tf.linalg.trace(tf.matmul(to_new_matrix_B, to_new_matrix_A))\n",
    "\n",
    "predictor = tf.equal(tf.round(ab), tf.round(ba))\n",
    "def true_print(): print(\"It WORKS. \\nAB: {} \\nBA: {}\".format(ab, ba))\n",
    "def false_print(): print(\"Condition FAILED. \\nAB: {} \\nBA: {}\".format(ab, ba))\n",
    "    \n",
    "tf.cond(predictor, true_print, false_print)"
   ]
  },
  {
   "cell_type": "markdown",
   "metadata": {
    "colab_type": "text",
    "id": "CmXNT78kISsk"
   },
   "source": [
    "# 02.11 - The Determinant"
   ]
  },
  {
   "cell_type": "markdown",
   "metadata": {
    "colab_type": "text",
    "id": "3QqfXTzDoLt3"
   },
   "source": [
    "The determinant of a square matrix, denoted det($A$), is a function that maps matrices to real scalars. You can calculate the determinant of a  2 x 2 matrix as:\n",
    "\n",
    "![Determinant for 2by2 Matrix](https://raw.githubusercontent.com/adhiraiyan/DeepLearningWithTF2.0/master/notebooks/figures/fig0211a.png)\n",
    "\n",
    "For a 3 x 3 matrix:\n",
    "\n",
    "![Determinant for 3by3 Matrix](https://raw.githubusercontent.com/adhiraiyan/DeepLearningWithTF2.0/master/notebooks/figures/fig0211b.png)\n"
   ]
  },
  {
   "cell_type": "code",
   "execution_count": 42,
   "metadata": {
    "colab": {
     "base_uri": "https://localhost:8080/",
     "height": 337
    },
    "colab_type": "code",
    "id": "IecEWEBfITKm",
    "outputId": "0e5df399-ffcb-4f1f-d699-2a7055644596"
   },
   "outputs": [
    {
     "name": "stdout",
     "output_type": "stream",
     "text": [
      "Matrix A: \n",
      "[[3. 1.]\n",
      " [0. 3.]] \n",
      "Determinant of Matrix A: 9.0\n"
     ]
    },
    {
     "data": {
      "image/png": "[encoded data removed]",
      "text/plain": [
       "<Figure size 432x288 with 1 Axes>"
      ]
     },
     "metadata": {
      "needs_background": "light"
     },
     "output_type": "display_data"
    }
   ],
   "source": [
    "# calculate det of a matrix\n",
    "det_matrix_A = tf.constant([[3,1], [0,3]], dtype=tf.float32)\n",
    "det_A = tf.linalg.det(det_matrix_A)\n",
    "print(\"Matrix A: \\n{} \\nDeterminant of Matrix A: {}\".format(det_matrix_A, det_A))\n",
    "\n",
    "vector_plot(det_matrix_A, 5, 5)"
   ]
  },
  {
   "cell_type": "markdown",
   "metadata": {
    "colab_type": "text",
    "id": "s-VO9GT_jZHT"
   },
   "source": [
    "The determinant is equal to the product of all the eigenvalues of the matrix. "
   ]
  },
  {
   "cell_type": "code",
   "execution_count": 43,
   "metadata": {
    "colab": {
     "base_uri": "https://localhost:8080/",
     "height": 119
    },
    "colab_type": "code",
    "id": "oLilAthsjaJe",
    "outputId": "ac5afa9d-0b9c-4ff9-a08d-f458dc9fb414"
   },
   "outputs": [
    {
     "name": "stdout",
     "output_type": "stream",
     "text": [
      "It WORKS. \n",
      "RHS: \n",
      "9.0 \n",
      "\n",
      "LHS: \n",
      "9.0\n"
     ]
    }
   ],
   "source": [
    "# Let's find the eigen values of matrix A\n",
    "d_eigen_values = tf.linalg.eigvalsh(det_matrix_A)\n",
    "eigvalsh_product = tf.multiply(d_eigen_values[0], d_eigen_values[1])\n",
    "\n",
    "# lets validate if the product of the eigen values is equal to the determinant\n",
    "predictor = tf.equal(eigvalsh_product, det_A)\n",
    "def true_print(): print(\"It WORKS. \\nRHS: \\n{} \\n\\nLHS: \\n{}\".format(eigvalsh_product, det_A))\n",
    "def false_print(): print(\"Condition FAILED. \\nRHS: \\n{} \\n\\nLHS: \\n{}\".format(eigvalsh_product, det_A))\n",
    "\n",
    "tf.cond(predictor, true_print, false_print)"
   ]
  },
  {
   "cell_type": "markdown",
   "metadata": {
    "colab_type": "text",
    "id": "j6LjT0fAjf8d"
   },
   "source": [
    "The absolute value of the determinant can be thought of\n",
    "as a measure of how much multiplication by the matrix expands or contracts space. If the determinant is 0, then space is contracted completely along at least one dimension, causing it to lose all its volume. If the determinant is 1, then the transformation preserves volume."
   ]
  },
  {
   "cell_type": "code",
   "execution_count": 44,
   "metadata": {
    "colab": {
     "base_uri": "https://localhost:8080/",
     "height": 269
    },
    "colab_type": "code",
    "id": "13m1tDpovLzh",
    "outputId": "de0bc08d-562c-45b1-b0e4-40d7ea307f25"
   },
   "outputs": [
    {
     "data": {
      "image/png": "[encoded data removed]",
      "text/plain": [
       "<Figure size 432x288 with 1 Axes>"
      ]
     },
     "metadata": {
      "needs_background": "light"
     },
     "output_type": "display_data"
    }
   ],
   "source": [
    "# If you see the following plot, you can see the vectors are expanded\n",
    "\n",
    "vector_plot(tf.multiply(tf.abs(det_A), det_matrix_A), 50, 50)"
   ]
  },
  {
   "cell_type": "markdown",
   "metadata": {
    "colab_type": "text",
    "id": "QV2My3mJIVMz"
   },
   "source": [
    "# 02.12 - Example: Principal Components Analysis"
   ]
  },
  {
   "cell_type": "markdown",
   "metadata": {
    "colab_type": "text",
    "id": "25O1Y6aHoMJ5"
   },
   "source": [
    "PCA is a complexity reduction technique that tries to reduce a set of variables down to a smaller set of components that represent most of the information in the variables. This can be thought of as for a collection of data points applying lossy compression, meaning storing the points in a way that require less memory by trading some precision. At a conceptual level, PCA works by identifying sets of variables that share variance, and creating a component to represent that variance.\n",
    "\n",
    "Earlier, when we were doing transpose or the matrix inverse, we relied on using Tensorflow's built in functions but for PCA, there is no such function, except one in the Tensorflow Extended (tft).\n",
    "\n",
    "There are multiple ways you can implement a PCA in Tensorflow but since this algorithm is such an important one in the machine learning world, we will take the long route.\n",
    "\n",
    "The reason for having PCA under Linear Algebra is to show that PCA could be implemented using the theorems we studied in this Chapter."
   ]
  },
  {
   "cell_type": "code",
   "execution_count": 45,
   "metadata": {
    "colab": {
     "base_uri": "https://localhost:8080/",
     "height": 269
    },
    "colab_type": "code",
    "id": "nlY8luDeIV53",
    "outputId": "311f0d21-a88b-4da1-a09f-c4466232288d"
   },
   "outputs": [
    {
     "data": {
      "image/png": "[encoded data removed]",
      "text/plain": [
       "<Figure size 432x288 with 1 Axes>"
      ]
     },
     "metadata": {
      "needs_background": "light"
     },
     "output_type": "display_data"
    }
   ],
   "source": [
    "# To start working with PCA, let's start by creating a 2D data set\n",
    "\n",
    "x_data = tf.multiply(5, tf.random.uniform([100], minval=0, maxval=100, dtype = tf.float32, seed = 0))\n",
    "y_data = tf.multiply(2, x_data) + 1 + tf.random.uniform([100], minval=0, maxval=100, dtype = tf.float32, seed = 0)\n",
    "\n",
    "X = tf.stack([x_data, y_data], axis=1)\n",
    "\n",
    "plt.rc_context({'axes.edgecolor':'orange', 'xtick.color':'red', 'ytick.color':'red'})\n",
    "plt.plot(X[:,0], X[:,1], '+', color='b')\n",
    "plt.grid()"
   ]
  },
  {
   "cell_type": "markdown",
   "metadata": {
    "colab_type": "text",
    "id": "DSc6vX9hvSM-"
   },
   "source": [
    "We start by standardizing the data. Even though the data we created are on the same scales, its always a good practice to start by standardizing the data because most of the time the data you will be working with will be in different scales."
   ]
  },
  {
   "cell_type": "code",
   "execution_count": 46,
   "metadata": {
    "colab": {
     "base_uri": "https://localhost:8080/",
     "height": 269
    },
    "colab_type": "code",
    "id": "pM7kT2EptyQ6",
    "outputId": "41755381-dd27-4b0b-882a-7541a048ca12"
   },
   "outputs": [
    {
     "data": {
      "image/png": "[encoded data removed]",
      "text/plain": [
       "<Figure size 432x288 with 1 Axes>"
      ]
     },
     "metadata": {
      "needs_background": "light"
     },
     "output_type": "display_data"
    }
   ],
   "source": [
    "def normalize(data):\n",
    "    # creates a copy of data\n",
    "    X = tf.identity(data)\n",
    "    # calculates the mean\n",
    "    X -=tf.reduce_mean(data, axis=0)\n",
    "    return X\n",
    "\n",
    "normalized_data = normalize(X)\n",
    "plt.plot(normalized_data[:,0], normalized_data[:,1], '+', color='b')\n",
    "plt.grid()"
   ]
  },
  {
   "cell_type": "markdown",
   "metadata": {
    "colab_type": "text",
    "id": "AEH2BAlMjlu_"
   },
   "source": [
    "Recall that PCA can be thought of as applying lossy compression to a collection of $x$ data points. The way we can minimize the loss of precision is by finding some decoding function $f(x) \\approx c$ where $c$ will be the corresponding vector. \n",
    "\n",
    "PCA is defined by our choice of this decoding function. Specifically, to make the decoder very simple, we chose to use matrix multiplication to map $c$ and define $g(c) = Dc$. Our goal is to minimize the distance between the input point $x$ to its reconstruction and to do that we use $L^2$ norm. Which boils down to our encoding function $c = D^{\\top}x$.\n",
    "\n",
    "Finally, to reconstruct the PCA we use the same matrix $D$ to decode all the points and to solve this optimization problem, we use eigendecomposition.\n",
    "\n",
    "Please note that the following equation is the final version of a lot of matrix transformations. I don't provide the derivatives because the goal is to focus on the mathematical implementation, rather than the derivation. But for the curious, You can read about the derivation in [Chapter 2 Section 11](https://www.deeplearningbook.org/contents/linear_algebra.html).\n",
    "\n",
    "$$\\color{Orange}{d^* = argmax_d \\ Tr(d^{\\top} X^{\\top} Xd) \\ \\text{subject to} \\ dd^{\\top} = 1 \\tag{31}}$$\n",
    "\n",
    "To find $d$ we can calculate the eigenvectors $X^{\\top} X$.\n"
   ]
  },
  {
   "cell_type": "code",
   "execution_count": 47,
   "metadata": {
    "colab": {
     "base_uri": "https://localhost:8080/",
     "height": 102
    },
    "colab_type": "code",
    "id": "EO_rGA_tjmNG",
    "outputId": "d3ed19e1-685d-481c-b924-8243d095757d"
   },
   "outputs": [
    {
     "name": "stdout",
     "output_type": "stream",
     "text": [
      "Eigen Vectors: \n",
      "[[-0.8908607  0.4542767]\n",
      " [ 0.4542767  0.8908607]] \n",
      "Eigen Values: \n",
      "[   16501.625 11025234.   ]\n"
     ]
    }
   ],
   "source": [
    "# Finding the Eigne Values and Vectors for the data\n",
    "eigen_values, eigen_vectors = tf.linalg.eigh(tf.tensordot(tf.transpose(normalized_data), normalized_data, axes=1))\n",
    "\n",
    "print(\"Eigen Vectors: \\n{} \\nEigen Values: \\n{}\".format(eigen_vectors, eigen_values))"
   ]
  },
  {
   "cell_type": "markdown",
   "metadata": {
    "colab_type": "text",
    "id": "viN-QXaejoNt"
   },
   "source": [
    "The eigenvectors (principal components) determine the directions of the new feature space, and the eigenvalues determine their magnitude.\n",
    "\n",
    "Now, let's use these Eigenvectors to rotate our data. The goal of the rotation is to end up with a new coordinate system where data is uncorrelated and thus where the basis axes gather all the variance. Thereby reducing the dimension.\n",
    "\n",
    "Recall our encoding function $c = D^{\\top} x$, where $D$ is the matrix containing the eigenvectors that we have calculated before."
   ]
  },
  {
   "cell_type": "code",
   "execution_count": 48,
   "metadata": {
    "colab": {
     "base_uri": "https://localhost:8080/",
     "height": 269
    },
    "colab_type": "code",
    "id": "AD2p9v5rEM4S",
    "outputId": "db84dceb-f9d6-4a1b-a31c-355f8c2108d7"
   },
   "outputs": [
    {
     "data": {
      "image/png": "[encoded data removed]",
      "text/plain": [
       "<Figure size 432x288 with 1 Axes>"
      ]
     },
     "metadata": {
      "needs_background": "light"
     },
     "output_type": "display_data"
    }
   ],
   "source": [
    "X_new = tf.tensordot(tf.transpose(eigen_vectors), tf.transpose(normalized_data), axes=1)\n",
    "\n",
    "plt.plot(X_new[0, :], X_new[1, :], '+', color='b')\n",
    "plt.xlim(-500, 500)\n",
    "plt.ylim(-700, 700)\n",
    "plt.grid()"
   ]
  },
  {
   "cell_type": "markdown",
   "metadata": {
    "colab_type": "text",
    "id": "AnxwVvwNylWT"
   },
   "source": [
    "That is the transformed data and that's it folks for our chapter on Linear Algebra 😉."
   ]
  },
  {
   "cell_type": "markdown",
   "metadata": {
    "colab_type": "text",
    "id": "a_mkeFu_t1hC"
   },
   "source": [
    "# 💫 Congratulations\n",
    "\n",
    "You have successfully completed Chapter 2 Linear algebra of [Deep Learning with Tensorflow 2.0](https://www.adhiraiyan.org/DeepLearningWithTensorflow.html). To recap, we went through the following concepts:\n",
    "\n",
    "- Scalars, Vectors, Matrices and Tensors\n",
    "- Multiplying Matrices and Vectors\n",
    "- Identity and Inverse Matrices\n",
    "- Linear Dependence and Span\n",
    "- Norms\n",
    "- Special Kinds of Matrices and Vectors\n",
    "- Eigendecomposition\n",
    "- Singular Value Decomposition\n",
    "- The Moore-Penrose Pseudoinverse\n",
    "- The Trace Operator\n",
    "- The Determinant\n",
    "- Example: Principal Components Analysis\n",
    "\n",
    "We covered a lot of content in one notebook, like I mentioned in the begining, this is not meant to be an absolute beginner or a comprehensive chapter on Linear Algebra, our focus is Deep Learning with Tensorflow, so we only went through the material we need to understand Deep Learning. \n",
    "\n",
    "I tried to minimize the mathematics and focus more on the implementation side but if you like to study linear algebra on all of it's glory, or just want to read more about few sections take a look at [Linear Algebra by Jim Hefferon](http://joshua.smcvt.edu/linearalgebra/book.pdf) or [A First Course in Linear Algebra by Robert A. Beezer](http://linear.ups.edu/download/fcla-3.40-tablet.pdf). "
   ]
  },
  {
   "cell_type": "markdown",
   "metadata": {},
   "source": [
    "<!--NAVIGATION-->\n",
    "< [01.00 - Preface](01.00-Introduction.ipynb) | [Contents](Index.ipynb) | [03.00 - Probability and Information Theory](03.00-Probability-and-Information-Theory.ipynb) >\n",
    "\n",
    "<a href=\"https://colab.research.google.com/github/adhiraiyan/DeepLearningWithTF2.0/blob/master/notebooks/02.00-Linear-Algebra.ipynb\"><img align=\"left\" src=\"https://colab.research.google.com/assets/colab-badge.svg\" alt=\"Open in Colab\" title=\"Open and Execute in Google Colaboratory\"></a>\n"
   ]
  }
 ],
 "metadata": {
  "accelerator": "GPU",
  "colab": {
   "collapsed_sections": [],
   "name": "02.00-Linear-Algebra.ipynb",
   "provenance": [],
   "version": "0.3.2"
  },
  "kernelspec": {
   "display_name": "Python 3",
   "language": "python",
   "name": "python3"
  },
  "language_info": {
   "codemirror_mode": {
    "name": "ipython",
    "version": 3
   },
   "file_extension": ".py",
   "mimetype": "text/x-python",
   "name": "python",
   "nbconvert_exporter": "python",
   "pygments_lexer": "ipython3",
   "version": "3.7.0"
  }
 },
 "nbformat": 4,
 "nbformat_minor": 1
}
